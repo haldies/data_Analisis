{
 "cells": [
  {
   "cell_type": "markdown",
   "metadata": {
    "id": "H9wADwK78DCz"
   },
   "source": [
    "# Proyek Analisis Data: brazilian ecommerce\n",
    "- **Nama:** Haldies Gerhardien Pasya\n",
    "- **Email:** haldiespasya@gmail.com\n",
    "- **ID Dicoding:** haldies"
   ]
  },
  {
   "cell_type": "markdown",
   "metadata": {
    "id": "eE0raob58DC0"
   },
   "source": [
    "## Menentukan Pertanyaan Bisnis"
   ]
  },
  {
   "cell_type": "markdown",
   "metadata": {
    "id": "H-z4QGlO8DC1"
   },
   "source": [
    "## Import Semua Packages/Library yang Digunakan"
   ]
  },
  {
   "cell_type": "code",
   "execution_count": 25,
   "metadata": {
    "id": "FVYwaObI8DC1"
   },
   "outputs": [],
   "source": [
    "import pandas as pd\n",
    "import seaborn as sns\n",
    "import matplotlib.pyplot as plt\n",
    "%matplotlib inline"
   ]
  },
  {
   "cell_type": "markdown",
   "metadata": {
    "id": "h_Sh51Xy8DC1"
   },
   "source": [
    "## Data Wrangling"
   ]
  },
  {
   "cell_type": "markdown",
   "metadata": {
    "id": "sXU2GBYu8DC1"
   },
   "source": [
    "### Gathering Data"
   ]
  },
  {
   "cell_type": "code",
   "execution_count": 38,
   "metadata": {},
   "outputs": [],
   "source": [
    "customers_df = pd.read_csv('data/customers_dataset.csv')\n",
    "orders_df = pd.read_csv('data/orders_dataset.csv')\n",
    "products_df = pd.read_csv('data/products_dataset.csv')\n",
    "payments_df = pd.read_csv('data/order_payments_dataset.csv')\n",
    "reviews_df = pd.read_csv('data/order_reviews_dataset.csv')\n",
    "geolocation_df = pd.read_csv('data/geolocation_dataset.csv')\n",
    "category_df = pd.read_csv('data/product_category_name_translation.csv')"
   ]
  },
  {
   "cell_type": "code",
   "execution_count": 39,
   "metadata": {},
   "outputs": [
    {
     "name": "stdout",
     "output_type": "stream",
     "text": [
      "Index(['order_id', 'customer_id', 'order_status', 'order_purchase_timestamp',\n",
      "       'order_approved_at', 'order_delivered_carrier_date',\n",
      "       'order_delivered_customer_date', 'order_estimated_delivery_date'],\n",
      "      dtype='object')\n",
      "Index(['product_id', 'product_category_name', 'product_name_lenght',\n",
      "       'product_description_lenght', 'product_photos_qty', 'product_weight_g',\n",
      "       'product_length_cm', 'product_height_cm', 'product_width_cm'],\n",
      "      dtype='object')\n",
      "Index(['customer_id', 'customer_unique_id', 'customer_zip_code_prefix',\n",
      "       'customer_city', 'customer_state'],\n",
      "      dtype='object')\n",
      "Index(['review_id', 'order_id', 'review_score', 'review_comment_title',\n",
      "       'review_comment_message', 'review_creation_date',\n",
      "       'review_answer_timestamp'],\n",
      "      dtype='object')\n",
      "Index(['geolocation_zip_code_prefix', 'geolocation_lat', 'geolocation_lng',\n",
      "       'geolocation_city', 'geolocation_state'],\n",
      "      dtype='object')\n",
      "Index(['order_id', 'payment_sequential', 'payment_type',\n",
      "       'payment_installments', 'payment_value'],\n",
      "      dtype='object')\n",
      "Index(['product_category_name', 'product_category_name_english'], dtype='object')\n"
     ]
    }
   ],
   "source": [
    "print(orders_df.columns)\n",
    "print(products_df.columns)\n",
    "print(customers_df.columns)\n",
    "print(reviews_df.columns)\n",
    "print(geolocation_df.columns)\n",
    "print(payments_df.columns)\n",
    "print(category_df.columns)"
   ]
  },
  {
   "cell_type": "code",
   "execution_count": 40,
   "metadata": {
    "id": "zjCBk1BI8DC1"
   },
   "outputs": [],
   "source": [
    "dataframes = {\n",
    "    'customers': customers_df,\n",
    "    'orders': orders_df,\n",
    "    'products': products_df,\n",
    "    'payments': payments_df,\n",
    "    'reviews': reviews_df,\n",
    "    'geolocation': geolocation_df,\n",
    "    'categories': category_df,\n",
    "}"
   ]
  },
  {
   "cell_type": "markdown",
   "metadata": {
    "id": "FHSiqaZp8DC1"
   },
   "source": [
    "### Assessing Data"
   ]
  },
  {
   "cell_type": "code",
   "execution_count": 41,
   "metadata": {
    "id": "ax-3tEjc9Cj1"
   },
   "outputs": [
    {
     "name": "stdout",
     "output_type": "stream",
     "text": [
      "\n",
      "--- CUSTOMERS ---\n",
      "Missing values per column:\n",
      "customer_id                 0\n",
      "customer_unique_id          0\n",
      "customer_zip_code_prefix    0\n",
      "customer_city               0\n",
      "customer_state              0\n",
      "dtype: int64\n",
      "\n",
      "Info dataframe:\n",
      "<class 'pandas.core.frame.DataFrame'>\n",
      "RangeIndex: 99441 entries, 0 to 99440\n",
      "Data columns (total 5 columns):\n",
      " #   Column                    Non-Null Count  Dtype \n",
      "---  ------                    --------------  ----- \n",
      " 0   customer_id               99441 non-null  object\n",
      " 1   customer_unique_id        99441 non-null  object\n",
      " 2   customer_zip_code_prefix  99441 non-null  int64 \n",
      " 3   customer_city             99441 non-null  object\n",
      " 4   customer_state            99441 non-null  object\n",
      "dtypes: int64(1), object(4)\n",
      "memory usage: 3.8+ MB\n",
      "\n",
      "Jumlah duplikasi:  0\n",
      "\n",
      "Descriptive statistics:\n",
      "       customer_zip_code_prefix\n",
      "count              99441.000000\n",
      "mean               35137.474583\n",
      "std                29797.938996\n",
      "min                 1003.000000\n",
      "25%                11347.000000\n",
      "50%                24416.000000\n",
      "75%                58900.000000\n",
      "max                99990.000000\n",
      "\n",
      "==================================================\n",
      "\n",
      "--- ORDERS ---\n",
      "Missing values per column:\n",
      "order_id                            0\n",
      "customer_id                         0\n",
      "order_status                        0\n",
      "order_purchase_timestamp            0\n",
      "order_approved_at                 160\n",
      "order_delivered_carrier_date     1783\n",
      "order_delivered_customer_date    2965\n",
      "order_estimated_delivery_date       0\n",
      "dtype: int64\n",
      "\n",
      "Info dataframe:\n",
      "<class 'pandas.core.frame.DataFrame'>\n",
      "RangeIndex: 99441 entries, 0 to 99440\n",
      "Data columns (total 8 columns):\n",
      " #   Column                         Non-Null Count  Dtype \n",
      "---  ------                         --------------  ----- \n",
      " 0   order_id                       99441 non-null  object\n",
      " 1   customer_id                    99441 non-null  object\n",
      " 2   order_status                   99441 non-null  object\n",
      " 3   order_purchase_timestamp       99441 non-null  object\n",
      " 4   order_approved_at              99281 non-null  object\n",
      " 5   order_delivered_carrier_date   97658 non-null  object\n",
      " 6   order_delivered_customer_date  96476 non-null  object\n",
      " 7   order_estimated_delivery_date  99441 non-null  object\n",
      "dtypes: object(8)\n",
      "memory usage: 6.1+ MB\n",
      "\n",
      "Jumlah duplikasi:  0\n",
      "\n",
      "Descriptive statistics:\n",
      "                                order_id                       customer_id  \\\n",
      "count                              99441                             99441   \n",
      "unique                             99441                             99441   \n",
      "top     66dea50a8b16d9b4dee7af250b4be1a5  edb027a75a1449115f6b43211ae02a24   \n",
      "freq                                   1                                 1   \n",
      "\n",
      "       order_status order_purchase_timestamp    order_approved_at  \\\n",
      "count         99441                    99441                99281   \n",
      "unique            8                    98875                90733   \n",
      "top       delivered      2018-08-02 12:05:26  2018-02-27 04:31:10   \n",
      "freq          96478                        3                    9   \n",
      "\n",
      "       order_delivered_carrier_date order_delivered_customer_date  \\\n",
      "count                         97658                         96476   \n",
      "unique                        81018                         95664   \n",
      "top             2018-05-09 15:48:00           2018-05-08 19:36:48   \n",
      "freq                             47                             3   \n",
      "\n",
      "       order_estimated_delivery_date  \n",
      "count                          99441  \n",
      "unique                           459  \n",
      "top              2017-12-20 00:00:00  \n",
      "freq                             522  \n",
      "\n",
      "==================================================\n",
      "\n",
      "--- PRODUCTS ---\n",
      "Missing values per column:\n",
      "product_id                      0\n",
      "product_category_name         610\n",
      "product_name_lenght           610\n",
      "product_description_lenght    610\n",
      "product_photos_qty            610\n",
      "product_weight_g                2\n",
      "product_length_cm               2\n",
      "product_height_cm               2\n",
      "product_width_cm                2\n",
      "dtype: int64\n",
      "\n",
      "Info dataframe:\n",
      "<class 'pandas.core.frame.DataFrame'>\n",
      "RangeIndex: 32951 entries, 0 to 32950\n",
      "Data columns (total 9 columns):\n",
      " #   Column                      Non-Null Count  Dtype  \n",
      "---  ------                      --------------  -----  \n",
      " 0   product_id                  32951 non-null  object \n",
      " 1   product_category_name       32341 non-null  object \n",
      " 2   product_name_lenght         32341 non-null  float64\n",
      " 3   product_description_lenght  32341 non-null  float64\n",
      " 4   product_photos_qty          32341 non-null  float64\n",
      " 5   product_weight_g            32949 non-null  float64\n",
      " 6   product_length_cm           32949 non-null  float64\n",
      " 7   product_height_cm           32949 non-null  float64\n",
      " 8   product_width_cm            32949 non-null  float64\n",
      "dtypes: float64(7), object(2)\n",
      "memory usage: 2.3+ MB\n",
      "\n",
      "Jumlah duplikasi:  0\n",
      "\n",
      "Descriptive statistics:\n",
      "       product_name_lenght  product_description_lenght  product_photos_qty  \\\n",
      "count         32341.000000                32341.000000        32341.000000   \n",
      "mean             48.476949                  771.495285            2.188986   \n",
      "std              10.245741                  635.115225            1.736766   \n",
      "min               5.000000                    4.000000            1.000000   \n",
      "25%              42.000000                  339.000000            1.000000   \n",
      "50%              51.000000                  595.000000            1.000000   \n",
      "75%              57.000000                  972.000000            3.000000   \n",
      "max              76.000000                 3992.000000           20.000000   \n",
      "\n",
      "       product_weight_g  product_length_cm  product_height_cm  \\\n",
      "count      32949.000000       32949.000000       32949.000000   \n",
      "mean        2276.472488          30.815078          16.937661   \n",
      "std         4282.038731          16.914458          13.637554   \n",
      "min            0.000000           7.000000           2.000000   \n",
      "25%          300.000000          18.000000           8.000000   \n",
      "50%          700.000000          25.000000          13.000000   \n",
      "75%         1900.000000          38.000000          21.000000   \n",
      "max        40425.000000         105.000000         105.000000   \n",
      "\n",
      "       product_width_cm  \n",
      "count      32949.000000  \n",
      "mean          23.196728  \n",
      "std           12.079047  \n",
      "min            6.000000  \n",
      "25%           15.000000  \n",
      "50%           20.000000  \n",
      "75%           30.000000  \n",
      "max          118.000000  \n",
      "\n",
      "==================================================\n",
      "\n",
      "--- PAYMENTS ---\n",
      "Missing values per column:\n",
      "order_id                0\n",
      "payment_sequential      0\n",
      "payment_type            0\n",
      "payment_installments    0\n",
      "payment_value           0\n",
      "dtype: int64\n",
      "\n",
      "Info dataframe:\n",
      "<class 'pandas.core.frame.DataFrame'>\n",
      "RangeIndex: 103886 entries, 0 to 103885\n",
      "Data columns (total 5 columns):\n",
      " #   Column                Non-Null Count   Dtype  \n",
      "---  ------                --------------   -----  \n",
      " 0   order_id              103886 non-null  object \n",
      " 1   payment_sequential    103886 non-null  int64  \n",
      " 2   payment_type          103886 non-null  object \n",
      " 3   payment_installments  103886 non-null  int64  \n",
      " 4   payment_value         103886 non-null  float64\n",
      "dtypes: float64(1), int64(2), object(2)\n",
      "memory usage: 4.0+ MB\n",
      "\n",
      "Jumlah duplikasi:  0\n",
      "\n",
      "Descriptive statistics:\n",
      "       payment_sequential  payment_installments  payment_value\n",
      "count       103886.000000         103886.000000  103886.000000\n",
      "mean             1.092679              2.853349     154.100380\n",
      "std              0.706584              2.687051     217.494064\n",
      "min              1.000000              0.000000       0.000000\n",
      "25%              1.000000              1.000000      56.790000\n",
      "50%              1.000000              1.000000     100.000000\n",
      "75%              1.000000              4.000000     171.837500\n",
      "max             29.000000             24.000000   13664.080000\n",
      "\n",
      "==================================================\n",
      "\n",
      "--- REVIEWS ---\n",
      "Missing values per column:\n",
      "review_id                      0\n",
      "order_id                       0\n",
      "review_score                   0\n",
      "review_comment_title       87656\n",
      "review_comment_message     58247\n",
      "review_creation_date           0\n",
      "review_answer_timestamp        0\n",
      "dtype: int64\n",
      "\n",
      "Info dataframe:\n",
      "<class 'pandas.core.frame.DataFrame'>\n",
      "RangeIndex: 99224 entries, 0 to 99223\n",
      "Data columns (total 7 columns):\n",
      " #   Column                   Non-Null Count  Dtype \n",
      "---  ------                   --------------  ----- \n",
      " 0   review_id                99224 non-null  object\n",
      " 1   order_id                 99224 non-null  object\n",
      " 2   review_score             99224 non-null  int64 \n",
      " 3   review_comment_title     11568 non-null  object\n",
      " 4   review_comment_message   40977 non-null  object\n",
      " 5   review_creation_date     99224 non-null  object\n",
      " 6   review_answer_timestamp  99224 non-null  object\n",
      "dtypes: int64(1), object(6)\n",
      "memory usage: 5.3+ MB\n",
      "\n",
      "Jumlah duplikasi:  0\n",
      "\n",
      "Descriptive statistics:\n",
      "       review_score\n",
      "count  99224.000000\n",
      "mean       4.086421\n",
      "std        1.347579\n",
      "min        1.000000\n",
      "25%        4.000000\n",
      "50%        5.000000\n",
      "75%        5.000000\n",
      "max        5.000000\n",
      "\n",
      "==================================================\n",
      "\n",
      "--- GEOLOCATION ---\n",
      "Missing values per column:\n",
      "geolocation_zip_code_prefix    0\n",
      "geolocation_lat                0\n",
      "geolocation_lng                0\n",
      "geolocation_city               0\n",
      "geolocation_state              0\n",
      "dtype: int64\n",
      "\n",
      "Info dataframe:\n",
      "<class 'pandas.core.frame.DataFrame'>\n",
      "RangeIndex: 1000163 entries, 0 to 1000162\n",
      "Data columns (total 5 columns):\n",
      " #   Column                       Non-Null Count    Dtype  \n",
      "---  ------                       --------------    -----  \n",
      " 0   geolocation_zip_code_prefix  1000163 non-null  int64  \n",
      " 1   geolocation_lat              1000163 non-null  float64\n",
      " 2   geolocation_lng              1000163 non-null  float64\n",
      " 3   geolocation_city             1000163 non-null  object \n",
      " 4   geolocation_state            1000163 non-null  object \n",
      "dtypes: float64(2), int64(1), object(2)\n",
      "memory usage: 38.2+ MB\n",
      "\n",
      "Jumlah duplikasi:  261831\n",
      "\n",
      "Descriptive statistics:\n",
      "       geolocation_zip_code_prefix  geolocation_lat  geolocation_lng\n",
      "count                 1.000163e+06     1.000163e+06     1.000163e+06\n",
      "mean                  3.657417e+04    -2.117615e+01    -4.639054e+01\n",
      "std                   3.054934e+04     5.715866e+00     4.269748e+00\n",
      "min                   1.001000e+03    -3.660537e+01    -1.014668e+02\n",
      "25%                   1.107500e+04    -2.360355e+01    -4.857317e+01\n",
      "50%                   2.653000e+04    -2.291938e+01    -4.663788e+01\n",
      "75%                   6.350400e+04    -1.997962e+01    -4.376771e+01\n",
      "max                   9.999000e+04     4.506593e+01     1.211054e+02\n",
      "\n",
      "==================================================\n",
      "\n",
      "--- CATEGORIES ---\n",
      "Missing values per column:\n",
      "product_category_name            0\n",
      "product_category_name_english    0\n",
      "dtype: int64\n",
      "\n",
      "Info dataframe:\n",
      "<class 'pandas.core.frame.DataFrame'>\n",
      "RangeIndex: 71 entries, 0 to 70\n",
      "Data columns (total 2 columns):\n",
      " #   Column                         Non-Null Count  Dtype \n",
      "---  ------                         --------------  ----- \n",
      " 0   product_category_name          71 non-null     object\n",
      " 1   product_category_name_english  71 non-null     object\n",
      "dtypes: object(2)\n",
      "memory usage: 1.2+ KB\n",
      "\n",
      "Jumlah duplikasi:  0\n",
      "\n",
      "Descriptive statistics:\n",
      "       product_category_name product_category_name_english\n",
      "count                     71                            71\n",
      "unique                    71                            71\n",
      "top             beleza_saude                 health_beauty\n",
      "freq                       1                             1\n",
      "\n",
      "==================================================\n"
     ]
    }
   ],
   "source": [
    "def check_dataframe_cleanliness(dataframes):\n",
    "    for name, df in dataframes.items():\n",
    "        print(f\"\\n--- {name.upper()} ---\")\n",
    "        \n",
    "        \n",
    "        print(\"Missing values per column:\")\n",
    "        print(df.isna().sum())\n",
    "  \n",
    "        print(\"\\nInfo dataframe:\")\n",
    "        df.info()\n",
    "        \n",
    "    \n",
    "        print(\"\\nJumlah duplikasi: \", df.duplicated().sum())\n",
    "        \n",
    "    \n",
    "        print(\"\\nDescriptive statistics:\")\n",
    "        print(df.describe())\n",
    "        \n",
    "        print(\"\\n\" + \"=\"*50)\n",
    "\n",
    "check_dataframe_cleanliness(dataframes)"
   ]
  },
  {
   "attachments": {},
   "cell_type": "markdown",
   "metadata": {
    "id": "7dtxhAPrkhPL"
   },
   "source": [
    "## 1. Customers\n",
    "- Tidak ada masalah yang perlu dibersihkan, karena tidak ada **missing values** atau **duplikasi**.\n",
    "\n",
    "## 2. Orders\n",
    "- **Missing values** pada beberapa kolom:\n",
    "  - `order_approved_at`: 160 missing values.\n",
    "  - `order_delivered_carrier_date`: 1,783 missing values.\n",
    "  - `order_delivered_customer_date`: 2,965 missing values.\n",
    "- **Tipe data**: Kolom timestamp (`order_purchase_timestamp`, `order_approved_at`, `order_delivered_carrier_date`, `order_delivered_customer_date`, `order_estimated_delivery_date`) perlu dikonversi menjadi tipe `datetime` agar lebih mudah diolah.\n",
    "\n",
    "## 3. Products\n",
    "- **Missing values** pada beberapa kolom:\n",
    "  - `product_category_name`, `product_name_lenght`, `product_description_lenght`, `product_photos_qty`: 610 missing values.\n",
    "  - `product_weight_g`, `product_length_cm`, `product_height_cm`, `product_width_cm`: 2 missing values.\n",
    "- **Tipe data**: Kolom `product_name_lenght`, `product_description_lenght`, dan `product_photos_qty` sebaiknya dicek kembali apakah tipe `float64` sesuai atau perlu dikonversi ke tipe lain.\n",
    "\n",
    "## 4. Payments\n",
    "- Tidak ada masalah yang perlu dibersihkan, karena tidak ada **missing values** atau **duplikasi**.\n",
    "\n",
    "## 5. Reviews\n",
    "- **Missing values** pada beberapa kolom:\n",
    "  - `review_comment_title`: 87,656 missing values (sebagian besar data hilang).\n",
    "  - `review_comment_message`: 58,247 missing values.\n",
    "- Kolom `review_comment_title` dan `review_comment_message` mungkin bisa diabaikan atau diisi dengan nilai default, tergantung pada kebutuhan analisis.\n",
    "\n",
    "## 6. Geolocation\n",
    "- **Duplikasi**: Ada 261,831 baris yang duplikat. Ini perlu dihapus.\n",
    "- **Nilai tidak valid**: Perlu dicek kembali nilai latitude (`geolocation_lat`) dan longitude (`geolocation_lng`), terutama nilai **min** dan **max** untuk memastikan tidak ada nilai yang outlier (seperti lokasi di luar jangkauan yang masuk akal).\n",
    "\n",
    "## 7. Categories\n",
    "- Tidak ada masalah yang perlu dibersihkan, karena tidak ada **missing values** atau **duplikasi**.\n"
   ]
  },
  {
   "attachments": {},
   "cell_type": "markdown",
   "metadata": {
    "id": "7dtxhAPrkhPL",
    "jp-MarkdownHeadingCollapsed": true
   },
   "source": [
    "### Cleaning Data"
   ]
  },
  {
   "cell_type": "markdown",
   "metadata": {
    "id": "gp-Y6wU38DC1"
   },
   "source": [
    "## Exploratory Data Analysis (EDA)"
   ]
  },
  {
   "cell_type": "markdown",
   "metadata": {
    "id": "MW7WF2kr8DC1"
   },
   "source": [
    "### Explore ..."
   ]
  },
  {
   "cell_type": "markdown",
   "metadata": {
    "id": "th_Lzl2Fkj9O"
   },
   "source": []
  },
  {
   "cell_type": "markdown",
   "metadata": {
    "id": "zsyZjqak8DC2"
   },
   "source": [
    "## Visualization & Explanatory Analysis"
   ]
  },
  {
   "cell_type": "markdown",
   "metadata": {
    "id": "HZxOiQ6n8DC2"
   },
   "source": [
    "### Pertanyaan 1:"
   ]
  },
  {
   "cell_type": "code",
   "execution_count": 34,
   "metadata": {
    "id": "1swJUdAD8DC2",
    "scrolled": true
   },
   "outputs": [
    {
     "data": {
      "image/png": "[encoded data removed]",
      "text/plain": [
       "<Figure size 1000x600 with 1 Axes>"
      ]
     },
     "metadata": {},
     "output_type": "display_data"
    }
   ],
   "source": [
    "city_distribution = customers_df['customer_city'].value_counts().head(10)\n",
    "\n",
    "plt.figure(figsize=(10,6))\n",
    "sns.barplot(x=city_distribution.values, y=city_distribution.index, hue=state_distribution.index, palette='Blues_d'  ,legend=False)\n",
    "plt.title('Top 10 Kota dengan Jumlah Pelanggan Terbanyak')\n",
    "plt.xlabel('Jumlah Pelanggan')\n",
    "plt.ylabel('Kota')\n",
    "plt.show()\n"
   ]
  },
  {
   "cell_type": "code",
   "execution_count": 35,
   "metadata": {
    "scrolled": true
   },
   "outputs": [
    {
     "data": {
      "image/png": "[encoded data removed]",
      "text/plain": [
       "<Figure size 1000x600 with 1 Axes>"
      ]
     },
     "metadata": {},
     "output_type": "display_data"
    }
   ],
   "source": [
    "state_distribution = customers_df['customer_state'].value_counts().head(10)\n",
    "\n",
    "plt.figure(figsize=(10,6))\n",
    "sns.barplot(x=state_distribution.values, y=state_distribution.index, hue=state_distribution.index, palette='Greens_d', legend=False)\n",
    "plt.title('Top 10 Negara Bagian dengan Jumlah Pelanggan Terbanyak')\n",
    "plt.xlabel('Jumlah Pelanggan')\n",
    "plt.ylabel('Negara Bagian')\n",
    "plt.show()\n",
    "\n"
   ]
  },
  {
   "cell_type": "code",
   "execution_count": 37,
   "metadata": {},
   "outputs": [
    {
     "name": "stdout",
     "output_type": "stream",
     "text": [
      "Kota dengan jumlah pelanggan terbanyak: sao paulo\n",
      "Negara bagian dengan jumlah pelanggan terbanyak: SP\n"
     ]
    }
   ],
   "source": [
    "top_city = customers_df['customer_city'].value_counts().idxmax()\n",
    "top_state = customers_df['customer_state'].value_counts().idxmax()\n",
    "\n",
    "print(f'Kota dengan jumlah pelanggan terbanyak: {top_city}')\n",
    "print(f'Negara bagian dengan jumlah pelanggan terbanyak: {top_state}')\n"
   ]
  },
  {
   "cell_type": "markdown",
   "metadata": {
    "id": "DgHI7CiU8DC2"
   },
   "source": [
    "### Pertanyaan 2:"
   ]
  },
  {
   "cell_type": "markdown",
   "metadata": {
    "id": "_0-36BDLklRg"
   },
   "source": [
    "**Insight:**\n",
    "- xxx\n",
    "- xxx"
   ]
  },
  {
   "cell_type": "markdown",
   "metadata": {
    "id": "9y4VUsmcYNZ5"
   },
   "source": [
    "## Analisis Lanjutan (Opsional)"
   ]
  },
  {
   "cell_type": "code",
   "execution_count": null,
   "metadata": {
    "id": "iWhnzsJGYUCO"
   },
   "outputs": [],
   "source": []
  },
  {
   "cell_type": "markdown",
   "metadata": {
    "id": "_WeHlCeX8DC2"
   },
   "source": [
    "## Conclusion"
   ]
  },
  {
   "cell_type": "markdown",
   "metadata": {
    "id": "ZTcyR48Y8DC2"
   },
   "source": [
    "- Conclution pertanyaan 1\n",
    "- Conclution pertanyaan 2"
   ]
  }
 ],
 "metadata": {
  "colab": {
   "provenance": []
  },
  "kernelspec": {
   "display_name": "Python 3 (ipykernel)",
   "language": "python",
   "name": "python3"
  },
  "language_info": {
   "codemirror_mode": {
    "name": "ipython",
    "version": 3
   },
   "file_extension": ".py",
   "mimetype": "text/x-python",
   "name": "python",
   "nbconvert_exporter": "python",
   "pygments_lexer": "ipython3",
   "version": "3.11.5"
  },
  "vscode": {
   "interpreter": {
    "hash": "972b3bf27e332e87b5379f2791f6ef9dfc79c71018c370b0d7423235e20fe4d7"
   }
  }
 },
 "nbformat": 4,
 "nbformat_minor": 4
}
