{
 "cells": [
  {
   "cell_type": "markdown",
   "metadata": {
    "id": "H9wADwK78DCz"
   },
   "source": [
    "# Proyek Analisis Data: brazilian ecommerce\n",
    "- **Nama:** Haldies Gerhardien Pasya\n",
    "- **Email:** haldiespasya@gmail.com\n",
    "- **ID Dicoding:** haldies"
   ]
  },
  {
   "cell_type": "markdown",
   "metadata": {
    "id": "eE0raob58DC0"
   },
   "source": [
    "## Menentukan Pertanyaan Bisnis"
   ]
  },
  {
   "cell_type": "markdown",
   "metadata": {
    "id": "GmQeQ5YF8DC0"
   },
   "source": [
    "1. kategori Produk apa yang penjualan tertinggi dan terendah?\n",
    "2. Bagaimana Performa Penjualan dan Omset Perusahaan dalam Beberapa Bulan Terakhir?\n",
    "3. Bagaimana demografi pelanggan yang kita miliki?\n",
    "4. Kapan terakhir pelanggan melakukan transaksi?\n",
    "5. Seberapa sering seorang pelanggan melakukan pembelian dalam beberapa bulan terakhir?\n",
    "6. Berapa banyak uang yang dihabiskan pelanggan dalam beberapa bulan terakhir?\n"
   ]
  },
  {
   "cell_type": "markdown",
   "metadata": {
    "id": "H-z4QGlO8DC1"
   },
   "source": [
    "## Import Semua Packages/Library yang Digunakan"
   ]
  },
  {
   "cell_type": "code",
   "execution_count": 1,
   "metadata": {
    "id": "FVYwaObI8DC1"
   },
   "outputs": [],
   "source": [
    "import pandas as pd\n",
    "import seaborn as sns\n",
    "import matplotlib.pyplot as plt\n",
    "import numpy as np"
   ]
  },
  {
   "cell_type": "markdown",
   "metadata": {
    "id": "h_Sh51Xy8DC1"
   },
   "source": [
    "## Data Wrangling"
   ]
  },
  {
   "cell_type": "markdown",
   "metadata": {
    "id": "sXU2GBYu8DC1"
   },
   "source": [
    "### Gathering Data"
   ]
  },
  {
   "cell_type": "markdown",
   "metadata": {
    "id": "apX4kk2TAgo-"
   },
   "source": [
    "#### customers_dataset.csv"
   ]
  },
  {
   "cell_type": "code",
   "execution_count": 2,
   "metadata": {
    "colab": {
     "base_uri": "https://localhost:8080/",
     "height": 149
    },
    "id": "tXFlo2P8YVwZ",
    "outputId": "36fa8da6-161b-4e1a-ac5b-9314b3713622"
   },
   "outputs": [
    {
     "data": {
      "text/html": [
       "<div>\n",
       "<style scoped>\n",
       "    .dataframe tbody tr th:only-of-type {\n",
       "        vertical-align: middle;\n",
       "    }\n",
       "\n",
       "    .dataframe tbody tr th {\n",
       "        vertical-align: top;\n",
       "    }\n",
       "\n",
       "    .dataframe thead th {\n",
       "        text-align: right;\n",
       "    }\n",
       "</style>\n",
       "<table border=\"1\" class=\"dataframe\">\n",
       "  <thead>\n",
       "    <tr style=\"text-align: right;\">\n",
       "      <th></th>\n",
       "      <th>customer_id</th>\n",
       "      <th>customer_unique_id</th>\n",
       "      <th>customer_zip_code_prefix</th>\n",
       "      <th>customer_city</th>\n",
       "      <th>customer_state</th>\n",
       "    </tr>\n",
       "  </thead>\n",
       "  <tbody>\n",
       "    <tr>\n",
       "      <th>0</th>\n",
       "      <td>06b8999e2fba1a1fbc88172c00ba8bc7</td>\n",
       "      <td>861eff4711a542e4b93843c6dd7febb0</td>\n",
       "      <td>14409</td>\n",
       "      <td>franca</td>\n",
       "      <td>SP</td>\n",
       "    </tr>\n",
       "    <tr>\n",
       "      <th>1</th>\n",
       "      <td>18955e83d337fd6b2def6b18a428ac77</td>\n",
       "      <td>290c77bc529b7ac935b93aa66c333dc3</td>\n",
       "      <td>9790</td>\n",
       "      <td>sao bernardo do campo</td>\n",
       "      <td>SP</td>\n",
       "    </tr>\n",
       "  </tbody>\n",
       "</table>\n",
       "</div>"
      ],
      "text/plain": [
       "                        customer_id                customer_unique_id  \\\n",
       "0  06b8999e2fba1a1fbc88172c00ba8bc7  861eff4711a542e4b93843c6dd7febb0   \n",
       "1  18955e83d337fd6b2def6b18a428ac77  290c77bc529b7ac935b93aa66c333dc3   \n",
       "\n",
       "   customer_zip_code_prefix          customer_city customer_state  \n",
       "0                     14409                 franca             SP  \n",
       "1                      9790  sao bernardo do campo             SP  "
      ]
     },
     "execution_count": 2,
     "metadata": {},
     "output_type": "execute_result"
    }
   ],
   "source": [
    "customers_df = pd.read_csv('data/customers_dataset.csv')\n",
    "customers_df.head(2)"
   ]
  },
  {
   "cell_type": "markdown",
   "metadata": {
    "id": "pIbaVeSjAmYe"
   },
   "source": [
    "#### orders_dataset.csv"
   ]
  },
  {
   "cell_type": "code",
   "execution_count": 3,
   "metadata": {
    "colab": {
     "base_uri": "https://localhost:8080/",
     "height": 0
    },
    "id": "wH25nKSfYfN0",
    "outputId": "0a19a612-b83d-49e0-b5b0-94b340844733"
   },
   "outputs": [
    {
     "data": {
      "text/html": [
       "<div>\n",
       "<style scoped>\n",
       "    .dataframe tbody tr th:only-of-type {\n",
       "        vertical-align: middle;\n",
       "    }\n",
       "\n",
       "    .dataframe tbody tr th {\n",
       "        vertical-align: top;\n",
       "    }\n",
       "\n",
       "    .dataframe thead th {\n",
       "        text-align: right;\n",
       "    }\n",
       "</style>\n",
       "<table border=\"1\" class=\"dataframe\">\n",
       "  <thead>\n",
       "    <tr style=\"text-align: right;\">\n",
       "      <th></th>\n",
       "      <th>order_id</th>\n",
       "      <th>customer_id</th>\n",
       "      <th>order_status</th>\n",
       "      <th>order_purchase_timestamp</th>\n",
       "      <th>order_approved_at</th>\n",
       "      <th>order_delivered_carrier_date</th>\n",
       "      <th>order_delivered_customer_date</th>\n",
       "      <th>order_estimated_delivery_date</th>\n",
       "    </tr>\n",
       "  </thead>\n",
       "  <tbody>\n",
       "    <tr>\n",
       "      <th>0</th>\n",
       "      <td>e481f51cbdc54678b7cc49136f2d6af7</td>\n",
       "      <td>9ef432eb6251297304e76186b10a928d</td>\n",
       "      <td>delivered</td>\n",
       "      <td>2017-10-02 10:56:33</td>\n",
       "      <td>2017-10-02 11:07:15</td>\n",
       "      <td>2017-10-04 19:55:00</td>\n",
       "      <td>2017-10-10 21:25:13</td>\n",
       "      <td>2017-10-18 00:00:00</td>\n",
       "    </tr>\n",
       "    <tr>\n",
       "      <th>1</th>\n",
       "      <td>53cdb2fc8bc7dce0b6741e2150273451</td>\n",
       "      <td>b0830fb4747a6c6d20dea0b8c802d7ef</td>\n",
       "      <td>delivered</td>\n",
       "      <td>2018-07-24 20:41:37</td>\n",
       "      <td>2018-07-26 03:24:27</td>\n",
       "      <td>2018-07-26 14:31:00</td>\n",
       "      <td>2018-08-07 15:27:45</td>\n",
       "      <td>2018-08-13 00:00:00</td>\n",
       "    </tr>\n",
       "    <tr>\n",
       "      <th>2</th>\n",
       "      <td>47770eb9100c2d0c44946d9cf07ec65d</td>\n",
       "      <td>41ce2a54c0b03bf3443c3d931a367089</td>\n",
       "      <td>delivered</td>\n",
       "      <td>2018-08-08 08:38:49</td>\n",
       "      <td>2018-08-08 08:55:23</td>\n",
       "      <td>2018-08-08 13:50:00</td>\n",
       "      <td>2018-08-17 18:06:29</td>\n",
       "      <td>2018-09-04 00:00:00</td>\n",
       "    </tr>\n",
       "    <tr>\n",
       "      <th>3</th>\n",
       "      <td>949d5b44dbf5de918fe9c16f97b45f8a</td>\n",
       "      <td>f88197465ea7920adcdbec7375364d82</td>\n",
       "      <td>delivered</td>\n",
       "      <td>2017-11-18 19:28:06</td>\n",
       "      <td>2017-11-18 19:45:59</td>\n",
       "      <td>2017-11-22 13:39:59</td>\n",
       "      <td>2017-12-02 00:28:42</td>\n",
       "      <td>2017-12-15 00:00:00</td>\n",
       "    </tr>\n",
       "    <tr>\n",
       "      <th>4</th>\n",
       "      <td>ad21c59c0840e6cb83a9ceb5573f8159</td>\n",
       "      <td>8ab97904e6daea8866dbdbc4fb7aad2c</td>\n",
       "      <td>delivered</td>\n",
       "      <td>2018-02-13 21:18:39</td>\n",
       "      <td>2018-02-13 22:20:29</td>\n",
       "      <td>2018-02-14 19:46:34</td>\n",
       "      <td>2018-02-16 18:17:02</td>\n",
       "      <td>2018-02-26 00:00:00</td>\n",
       "    </tr>\n",
       "  </tbody>\n",
       "</table>\n",
       "</div>"
      ],
      "text/plain": [
       "                           order_id                       customer_id  \\\n",
       "0  e481f51cbdc54678b7cc49136f2d6af7  9ef432eb6251297304e76186b10a928d   \n",
       "1  53cdb2fc8bc7dce0b6741e2150273451  b0830fb4747a6c6d20dea0b8c802d7ef   \n",
       "2  47770eb9100c2d0c44946d9cf07ec65d  41ce2a54c0b03bf3443c3d931a367089   \n",
       "3  949d5b44dbf5de918fe9c16f97b45f8a  f88197465ea7920adcdbec7375364d82   \n",
       "4  ad21c59c0840e6cb83a9ceb5573f8159  8ab97904e6daea8866dbdbc4fb7aad2c   \n",
       "\n",
       "  order_status order_purchase_timestamp    order_approved_at  \\\n",
       "0    delivered      2017-10-02 10:56:33  2017-10-02 11:07:15   \n",
       "1    delivered      2018-07-24 20:41:37  2018-07-26 03:24:27   \n",
       "2    delivered      2018-08-08 08:38:49  2018-08-08 08:55:23   \n",
       "3    delivered      2017-11-18 19:28:06  2017-11-18 19:45:59   \n",
       "4    delivered      2018-02-13 21:18:39  2018-02-13 22:20:29   \n",
       "\n",
       "  order_delivered_carrier_date order_delivered_customer_date  \\\n",
       "0          2017-10-04 19:55:00           2017-10-10 21:25:13   \n",
       "1          2018-07-26 14:31:00           2018-08-07 15:27:45   \n",
       "2          2018-08-08 13:50:00           2018-08-17 18:06:29   \n",
       "3          2017-11-22 13:39:59           2017-12-02 00:28:42   \n",
       "4          2018-02-14 19:46:34           2018-02-16 18:17:02   \n",
       "\n",
       "  order_estimated_delivery_date  \n",
       "0           2017-10-18 00:00:00  \n",
       "1           2018-08-13 00:00:00  \n",
       "2           2018-09-04 00:00:00  \n",
       "3           2017-12-15 00:00:00  \n",
       "4           2018-02-26 00:00:00  "
      ]
     },
     "execution_count": 3,
     "metadata": {},
     "output_type": "execute_result"
    }
   ],
   "source": [
    "orders_df = pd.read_csv('data/orders_dataset.csv')\n",
    "orders_df.head()"
   ]
  },
  {
   "cell_type": "markdown",
   "metadata": {
    "id": "vhvnxLMMAr1l"
   },
   "source": [
    "#### order_items_dataset.csv"
   ]
  },
  {
   "cell_type": "code",
   "execution_count": 4,
   "metadata": {
    "colab": {
     "base_uri": "https://localhost:8080/",
     "height": 0
    },
    "id": "pjMNW0nz0I0u",
    "outputId": "81a93117-6eb6-44e8-d7f4-2f1e799ca470"
   },
   "outputs": [
    {
     "data": {
      "text/html": [
       "<div>\n",
       "<style scoped>\n",
       "    .dataframe tbody tr th:only-of-type {\n",
       "        vertical-align: middle;\n",
       "    }\n",
       "\n",
       "    .dataframe tbody tr th {\n",
       "        vertical-align: top;\n",
       "    }\n",
       "\n",
       "    .dataframe thead th {\n",
       "        text-align: right;\n",
       "    }\n",
       "</style>\n",
       "<table border=\"1\" class=\"dataframe\">\n",
       "  <thead>\n",
       "    <tr style=\"text-align: right;\">\n",
       "      <th></th>\n",
       "      <th>order_id</th>\n",
       "      <th>order_item_id</th>\n",
       "      <th>product_id</th>\n",
       "      <th>seller_id</th>\n",
       "      <th>shipping_limit_date</th>\n",
       "      <th>price</th>\n",
       "      <th>freight_value</th>\n",
       "    </tr>\n",
       "  </thead>\n",
       "  <tbody>\n",
       "    <tr>\n",
       "      <th>0</th>\n",
       "      <td>00010242fe8c5a6d1ba2dd792cb16214</td>\n",
       "      <td>1</td>\n",
       "      <td>4244733e06e7ecb4970a6e2683c13e61</td>\n",
       "      <td>48436dade18ac8b2bce089ec2a041202</td>\n",
       "      <td>2017-09-19 09:45:35</td>\n",
       "      <td>58.90</td>\n",
       "      <td>13.29</td>\n",
       "    </tr>\n",
       "    <tr>\n",
       "      <th>1</th>\n",
       "      <td>00018f77f2f0320c557190d7a144bdd3</td>\n",
       "      <td>1</td>\n",
       "      <td>e5f2d52b802189ee658865ca93d83a8f</td>\n",
       "      <td>dd7ddc04e1b6c2c614352b383efe2d36</td>\n",
       "      <td>2017-05-03 11:05:13</td>\n",
       "      <td>239.90</td>\n",
       "      <td>19.93</td>\n",
       "    </tr>\n",
       "    <tr>\n",
       "      <th>2</th>\n",
       "      <td>000229ec398224ef6ca0657da4fc703e</td>\n",
       "      <td>1</td>\n",
       "      <td>c777355d18b72b67abbeef9df44fd0fd</td>\n",
       "      <td>5b51032eddd242adc84c38acab88f23d</td>\n",
       "      <td>2018-01-18 14:48:30</td>\n",
       "      <td>199.00</td>\n",
       "      <td>17.87</td>\n",
       "    </tr>\n",
       "    <tr>\n",
       "      <th>3</th>\n",
       "      <td>00024acbcdf0a6daa1e931b038114c75</td>\n",
       "      <td>1</td>\n",
       "      <td>7634da152a4610f1595efa32f14722fc</td>\n",
       "      <td>9d7a1d34a5052409006425275ba1c2b4</td>\n",
       "      <td>2018-08-15 10:10:18</td>\n",
       "      <td>12.99</td>\n",
       "      <td>12.79</td>\n",
       "    </tr>\n",
       "    <tr>\n",
       "      <th>4</th>\n",
       "      <td>00042b26cf59d7ce69dfabb4e55b4fd9</td>\n",
       "      <td>1</td>\n",
       "      <td>ac6c3623068f30de03045865e4e10089</td>\n",
       "      <td>df560393f3a51e74553ab94004ba5c87</td>\n",
       "      <td>2017-02-13 13:57:51</td>\n",
       "      <td>199.90</td>\n",
       "      <td>18.14</td>\n",
       "    </tr>\n",
       "  </tbody>\n",
       "</table>\n",
       "</div>"
      ],
      "text/plain": [
       "                           order_id  order_item_id  \\\n",
       "0  00010242fe8c5a6d1ba2dd792cb16214              1   \n",
       "1  00018f77f2f0320c557190d7a144bdd3              1   \n",
       "2  000229ec398224ef6ca0657da4fc703e              1   \n",
       "3  00024acbcdf0a6daa1e931b038114c75              1   \n",
       "4  00042b26cf59d7ce69dfabb4e55b4fd9              1   \n",
       "\n",
       "                         product_id                         seller_id  \\\n",
       "0  4244733e06e7ecb4970a6e2683c13e61  48436dade18ac8b2bce089ec2a041202   \n",
       "1  e5f2d52b802189ee658865ca93d83a8f  dd7ddc04e1b6c2c614352b383efe2d36   \n",
       "2  c777355d18b72b67abbeef9df44fd0fd  5b51032eddd242adc84c38acab88f23d   \n",
       "3  7634da152a4610f1595efa32f14722fc  9d7a1d34a5052409006425275ba1c2b4   \n",
       "4  ac6c3623068f30de03045865e4e10089  df560393f3a51e74553ab94004ba5c87   \n",
       "\n",
       "   shipping_limit_date   price  freight_value  \n",
       "0  2017-09-19 09:45:35   58.90          13.29  \n",
       "1  2017-05-03 11:05:13  239.90          19.93  \n",
       "2  2018-01-18 14:48:30  199.00          17.87  \n",
       "3  2018-08-15 10:10:18   12.99          12.79  \n",
       "4  2017-02-13 13:57:51  199.90          18.14  "
      ]
     },
     "execution_count": 4,
     "metadata": {},
     "output_type": "execute_result"
    }
   ],
   "source": [
    "order_items_df = pd.read_csv('data/order_items_dataset.csv')\n",
    "order_items_df.head()"
   ]
  },
  {
   "cell_type": "markdown",
   "metadata": {
    "id": "71NUiQ6KAv_b"
   },
   "source": [
    "#### products_dataset.csv"
   ]
  },
  {
   "cell_type": "code",
   "execution_count": 5,
   "metadata": {
    "colab": {
     "base_uri": "https://localhost:8080/",
     "height": 0
    },
    "id": "apEUVREvYh1a",
    "outputId": "24740ace-2e55-4a1e-d0c9-03cd8e5a6f26"
   },
   "outputs": [
    {
     "data": {
      "text/html": [
       "<div>\n",
       "<style scoped>\n",
       "    .dataframe tbody tr th:only-of-type {\n",
       "        vertical-align: middle;\n",
       "    }\n",
       "\n",
       "    .dataframe tbody tr th {\n",
       "        vertical-align: top;\n",
       "    }\n",
       "\n",
       "    .dataframe thead th {\n",
       "        text-align: right;\n",
       "    }\n",
       "</style>\n",
       "<table border=\"1\" class=\"dataframe\">\n",
       "  <thead>\n",
       "    <tr style=\"text-align: right;\">\n",
       "      <th></th>\n",
       "      <th>product_id</th>\n",
       "      <th>product_category_name</th>\n",
       "      <th>product_name_lenght</th>\n",
       "      <th>product_description_lenght</th>\n",
       "      <th>product_photos_qty</th>\n",
       "      <th>product_weight_g</th>\n",
       "      <th>product_length_cm</th>\n",
       "      <th>product_height_cm</th>\n",
       "      <th>product_width_cm</th>\n",
       "    </tr>\n",
       "  </thead>\n",
       "  <tbody>\n",
       "    <tr>\n",
       "      <th>0</th>\n",
       "      <td>1e9e8ef04dbcff4541ed26657ea517e5</td>\n",
       "      <td>perfumaria</td>\n",
       "      <td>40.0</td>\n",
       "      <td>287.0</td>\n",
       "      <td>1.0</td>\n",
       "      <td>225.0</td>\n",
       "      <td>16.0</td>\n",
       "      <td>10.0</td>\n",
       "      <td>14.0</td>\n",
       "    </tr>\n",
       "    <tr>\n",
       "      <th>1</th>\n",
       "      <td>3aa071139cb16b67ca9e5dea641aaa2f</td>\n",
       "      <td>artes</td>\n",
       "      <td>44.0</td>\n",
       "      <td>276.0</td>\n",
       "      <td>1.0</td>\n",
       "      <td>1000.0</td>\n",
       "      <td>30.0</td>\n",
       "      <td>18.0</td>\n",
       "      <td>20.0</td>\n",
       "    </tr>\n",
       "    <tr>\n",
       "      <th>2</th>\n",
       "      <td>96bd76ec8810374ed1b65e291975717f</td>\n",
       "      <td>esporte_lazer</td>\n",
       "      <td>46.0</td>\n",
       "      <td>250.0</td>\n",
       "      <td>1.0</td>\n",
       "      <td>154.0</td>\n",
       "      <td>18.0</td>\n",
       "      <td>9.0</td>\n",
       "      <td>15.0</td>\n",
       "    </tr>\n",
       "    <tr>\n",
       "      <th>3</th>\n",
       "      <td>cef67bcfe19066a932b7673e239eb23d</td>\n",
       "      <td>bebes</td>\n",
       "      <td>27.0</td>\n",
       "      <td>261.0</td>\n",
       "      <td>1.0</td>\n",
       "      <td>371.0</td>\n",
       "      <td>26.0</td>\n",
       "      <td>4.0</td>\n",
       "      <td>26.0</td>\n",
       "    </tr>\n",
       "    <tr>\n",
       "      <th>4</th>\n",
       "      <td>9dc1a7de274444849c219cff195d0b71</td>\n",
       "      <td>utilidades_domesticas</td>\n",
       "      <td>37.0</td>\n",
       "      <td>402.0</td>\n",
       "      <td>4.0</td>\n",
       "      <td>625.0</td>\n",
       "      <td>20.0</td>\n",
       "      <td>17.0</td>\n",
       "      <td>13.0</td>\n",
       "    </tr>\n",
       "  </tbody>\n",
       "</table>\n",
       "</div>"
      ],
      "text/plain": [
       "                         product_id  product_category_name  \\\n",
       "0  1e9e8ef04dbcff4541ed26657ea517e5             perfumaria   \n",
       "1  3aa071139cb16b67ca9e5dea641aaa2f                  artes   \n",
       "2  96bd76ec8810374ed1b65e291975717f          esporte_lazer   \n",
       "3  cef67bcfe19066a932b7673e239eb23d                  bebes   \n",
       "4  9dc1a7de274444849c219cff195d0b71  utilidades_domesticas   \n",
       "\n",
       "   product_name_lenght  product_description_lenght  product_photos_qty  \\\n",
       "0                 40.0                       287.0                 1.0   \n",
       "1                 44.0                       276.0                 1.0   \n",
       "2                 46.0                       250.0                 1.0   \n",
       "3                 27.0                       261.0                 1.0   \n",
       "4                 37.0                       402.0                 4.0   \n",
       "\n",
       "   product_weight_g  product_length_cm  product_height_cm  product_width_cm  \n",
       "0             225.0               16.0               10.0              14.0  \n",
       "1            1000.0               30.0               18.0              20.0  \n",
       "2             154.0               18.0                9.0              15.0  \n",
       "3             371.0               26.0                4.0              26.0  \n",
       "4             625.0               20.0               17.0              13.0  "
      ]
     },
     "execution_count": 5,
     "metadata": {},
     "output_type": "execute_result"
    }
   ],
   "source": [
    "products_df = pd.read_csv('data/products_dataset.csv')\n",
    "products_df.head()"
   ]
  },
  {
   "cell_type": "markdown",
   "metadata": {
    "id": "0MybDl_rA5S9"
   },
   "source": [
    "#### order_payments_dataset.csv"
   ]
  },
  {
   "cell_type": "code",
   "execution_count": 6,
   "metadata": {
    "colab": {
     "base_uri": "https://localhost:8080/",
     "height": 0
    },
    "id": "--DHDCc2YkMn",
    "outputId": "caa46e1c-00de-4585-9a10-d325f65bd7ba"
   },
   "outputs": [
    {
     "data": {
      "text/html": [
       "<div>\n",
       "<style scoped>\n",
       "    .dataframe tbody tr th:only-of-type {\n",
       "        vertical-align: middle;\n",
       "    }\n",
       "\n",
       "    .dataframe tbody tr th {\n",
       "        vertical-align: top;\n",
       "    }\n",
       "\n",
       "    .dataframe thead th {\n",
       "        text-align: right;\n",
       "    }\n",
       "</style>\n",
       "<table border=\"1\" class=\"dataframe\">\n",
       "  <thead>\n",
       "    <tr style=\"text-align: right;\">\n",
       "      <th></th>\n",
       "      <th>order_id</th>\n",
       "      <th>payment_sequential</th>\n",
       "      <th>payment_type</th>\n",
       "      <th>payment_installments</th>\n",
       "      <th>payment_value</th>\n",
       "    </tr>\n",
       "  </thead>\n",
       "  <tbody>\n",
       "    <tr>\n",
       "      <th>0</th>\n",
       "      <td>b81ef226f3fe1789b1e8b2acac839d17</td>\n",
       "      <td>1</td>\n",
       "      <td>credit_card</td>\n",
       "      <td>8</td>\n",
       "      <td>99.33</td>\n",
       "    </tr>\n",
       "    <tr>\n",
       "      <th>1</th>\n",
       "      <td>a9810da82917af2d9aefd1278f1dcfa0</td>\n",
       "      <td>1</td>\n",
       "      <td>credit_card</td>\n",
       "      <td>1</td>\n",
       "      <td>24.39</td>\n",
       "    </tr>\n",
       "    <tr>\n",
       "      <th>2</th>\n",
       "      <td>25e8ea4e93396b6fa0d3dd708e76c1bd</td>\n",
       "      <td>1</td>\n",
       "      <td>credit_card</td>\n",
       "      <td>1</td>\n",
       "      <td>65.71</td>\n",
       "    </tr>\n",
       "    <tr>\n",
       "      <th>3</th>\n",
       "      <td>ba78997921bbcdc1373bb41e913ab953</td>\n",
       "      <td>1</td>\n",
       "      <td>credit_card</td>\n",
       "      <td>8</td>\n",
       "      <td>107.78</td>\n",
       "    </tr>\n",
       "    <tr>\n",
       "      <th>4</th>\n",
       "      <td>42fdf880ba16b47b59251dd489d4441a</td>\n",
       "      <td>1</td>\n",
       "      <td>credit_card</td>\n",
       "      <td>2</td>\n",
       "      <td>128.45</td>\n",
       "    </tr>\n",
       "  </tbody>\n",
       "</table>\n",
       "</div>"
      ],
      "text/plain": [
       "                           order_id  payment_sequential payment_type  \\\n",
       "0  b81ef226f3fe1789b1e8b2acac839d17                   1  credit_card   \n",
       "1  a9810da82917af2d9aefd1278f1dcfa0                   1  credit_card   \n",
       "2  25e8ea4e93396b6fa0d3dd708e76c1bd                   1  credit_card   \n",
       "3  ba78997921bbcdc1373bb41e913ab953                   1  credit_card   \n",
       "4  42fdf880ba16b47b59251dd489d4441a                   1  credit_card   \n",
       "\n",
       "   payment_installments  payment_value  \n",
       "0                     8          99.33  \n",
       "1                     1          24.39  \n",
       "2                     1          65.71  \n",
       "3                     8         107.78  \n",
       "4                     2         128.45  "
      ]
     },
     "execution_count": 6,
     "metadata": {},
     "output_type": "execute_result"
    }
   ],
   "source": [
    "payments_df = pd.read_csv('data/order_payments_dataset.csv')\n",
    "payments_df.head()"
   ]
  },
  {
   "cell_type": "markdown",
   "metadata": {
    "id": "ECZO3crDBFOG"
   },
   "source": [
    "#### product_category_name_translation.csv"
   ]
  },
  {
   "cell_type": "code",
   "execution_count": 7,
   "metadata": {
    "colab": {
     "base_uri": "https://localhost:8080/",
     "height": 0
    },
    "id": "rMPPOrh75URU",
    "outputId": "f315f550-fe72-4fbb-b3fe-ddf8d4df4bb4"
   },
   "outputs": [
    {
     "data": {
      "text/html": [
       "<div>\n",
       "<style scoped>\n",
       "    .dataframe tbody tr th:only-of-type {\n",
       "        vertical-align: middle;\n",
       "    }\n",
       "\n",
       "    .dataframe tbody tr th {\n",
       "        vertical-align: top;\n",
       "    }\n",
       "\n",
       "    .dataframe thead th {\n",
       "        text-align: right;\n",
       "    }\n",
       "</style>\n",
       "<table border=\"1\" class=\"dataframe\">\n",
       "  <thead>\n",
       "    <tr style=\"text-align: right;\">\n",
       "      <th></th>\n",
       "      <th>product_category_name</th>\n",
       "      <th>product_category_name_english</th>\n",
       "    </tr>\n",
       "  </thead>\n",
       "  <tbody>\n",
       "    <tr>\n",
       "      <th>0</th>\n",
       "      <td>beleza_saude</td>\n",
       "      <td>health_beauty</td>\n",
       "    </tr>\n",
       "    <tr>\n",
       "      <th>1</th>\n",
       "      <td>informatica_acessorios</td>\n",
       "      <td>computers_accessories</td>\n",
       "    </tr>\n",
       "    <tr>\n",
       "      <th>2</th>\n",
       "      <td>automotivo</td>\n",
       "      <td>auto</td>\n",
       "    </tr>\n",
       "    <tr>\n",
       "      <th>3</th>\n",
       "      <td>cama_mesa_banho</td>\n",
       "      <td>bed_bath_table</td>\n",
       "    </tr>\n",
       "    <tr>\n",
       "      <th>4</th>\n",
       "      <td>moveis_decoracao</td>\n",
       "      <td>furniture_decor</td>\n",
       "    </tr>\n",
       "  </tbody>\n",
       "</table>\n",
       "</div>"
      ],
      "text/plain": [
       "    product_category_name product_category_name_english\n",
       "0            beleza_saude                 health_beauty\n",
       "1  informatica_acessorios         computers_accessories\n",
       "2              automotivo                          auto\n",
       "3         cama_mesa_banho                bed_bath_table\n",
       "4        moveis_decoracao               furniture_decor"
      ]
     },
     "execution_count": 7,
     "metadata": {},
     "output_type": "execute_result"
    }
   ],
   "source": [
    "products_category_translation_df = pd.read_csv('data/product_category_name_translation.csv')\n",
    "products_category_translation_df.head()"
   ]
  },
  {
   "cell_type": "code",
   "execution_count": 8,
   "metadata": {
    "id": "i2SrSqDjXrOV"
   },
   "outputs": [],
   "source": [
    "# dataframes = {\n",
    "#     'customers': customers_df,\n",
    "#     'orders': orders_df,\n",
    "#     'products': products_df,\n",
    "#     'payments': payments_df,\n",
    "#     'order_items': order_items_df,\n",
    "\n",
    "# }"
   ]
  },
  {
   "cell_type": "markdown",
   "metadata": {
    "id": "MMi6xGaDkbCi"
   },
   "source": [
    "**Insight:**\n",
    "- xxx\n",
    "- xxx"
   ]
  },
  {
   "cell_type": "markdown",
   "metadata": {
    "id": "FHSiqaZp8DC1"
   },
   "source": [
    "### Assessing Data"
   ]
  },
  {
   "cell_type": "markdown",
   "metadata": {
    "id": "AKhYoGPP9h9j"
   },
   "source": [
    "#### customers_dataset.csv"
   ]
  },
  {
   "cell_type": "code",
   "execution_count": 9,
   "metadata": {
    "colab": {
     "base_uri": "https://localhost:8080/"
    },
    "id": "g-SVRaI19nkb",
    "outputId": "c7eeba7c-77bb-4532-ddad-e19d97c0d177"
   },
   "outputs": [
    {
     "name": "stdout",
     "output_type": "stream",
     "text": [
      "<class 'pandas.core.frame.DataFrame'>\n",
      "RangeIndex: 99441 entries, 0 to 99440\n",
      "Data columns (total 5 columns):\n",
      " #   Column                    Non-Null Count  Dtype \n",
      "---  ------                    --------------  ----- \n",
      " 0   customer_id               99441 non-null  object\n",
      " 1   customer_unique_id        99441 non-null  object\n",
      " 2   customer_zip_code_prefix  99441 non-null  int64 \n",
      " 3   customer_city             99441 non-null  object\n",
      " 4   customer_state            99441 non-null  object\n",
      "dtypes: int64(1), object(4)\n",
      "memory usage: 3.8+ MB\n"
     ]
    }
   ],
   "source": [
    "customers_df.info()"
   ]
  },
  {
   "cell_type": "code",
   "execution_count": 10,
   "metadata": {
    "colab": {
     "base_uri": "https://localhost:8080/",
     "height": 0
    },
    "id": "7cZGGBD19qP0",
    "outputId": "8719ee7a-fb61-42d6-d612-6d48a82a0545"
   },
   "outputs": [
    {
     "data": {
      "text/plain": [
       "customer_id                 0\n",
       "customer_unique_id          0\n",
       "customer_zip_code_prefix    0\n",
       "customer_city               0\n",
       "customer_state              0\n",
       "dtype: int64"
      ]
     },
     "execution_count": 10,
     "metadata": {},
     "output_type": "execute_result"
    }
   ],
   "source": [
    "customers_df.isna().sum()"
   ]
  },
  {
   "cell_type": "code",
   "execution_count": 11,
   "metadata": {
    "colab": {
     "base_uri": "https://localhost:8080/"
    },
    "id": "S03P_EQN9sAt",
    "outputId": "3736554e-9f3f-4246-aa90-4c18746ad82c"
   },
   "outputs": [
    {
     "data": {
      "text/plain": [
       "np.int64(0)"
      ]
     },
     "execution_count": 11,
     "metadata": {},
     "output_type": "execute_result"
    }
   ],
   "source": [
    "customers_df.duplicated().sum()"
   ]
  },
  {
   "cell_type": "code",
   "execution_count": 12,
   "metadata": {
    "colab": {
     "base_uri": "https://localhost:8080/",
     "height": 0
    },
    "id": "ioJdbn009uDp",
    "outputId": "516633d9-7682-4f26-be7c-ee619a9fc43d"
   },
   "outputs": [
    {
     "data": {
      "text/html": [
       "<div>\n",
       "<style scoped>\n",
       "    .dataframe tbody tr th:only-of-type {\n",
       "        vertical-align: middle;\n",
       "    }\n",
       "\n",
       "    .dataframe tbody tr th {\n",
       "        vertical-align: top;\n",
       "    }\n",
       "\n",
       "    .dataframe thead th {\n",
       "        text-align: right;\n",
       "    }\n",
       "</style>\n",
       "<table border=\"1\" class=\"dataframe\">\n",
       "  <thead>\n",
       "    <tr style=\"text-align: right;\">\n",
       "      <th></th>\n",
       "      <th>customer_zip_code_prefix</th>\n",
       "    </tr>\n",
       "  </thead>\n",
       "  <tbody>\n",
       "    <tr>\n",
       "      <th>count</th>\n",
       "      <td>99441.000000</td>\n",
       "    </tr>\n",
       "    <tr>\n",
       "      <th>mean</th>\n",
       "      <td>35137.474583</td>\n",
       "    </tr>\n",
       "    <tr>\n",
       "      <th>std</th>\n",
       "      <td>29797.938996</td>\n",
       "    </tr>\n",
       "    <tr>\n",
       "      <th>min</th>\n",
       "      <td>1003.000000</td>\n",
       "    </tr>\n",
       "    <tr>\n",
       "      <th>25%</th>\n",
       "      <td>11347.000000</td>\n",
       "    </tr>\n",
       "    <tr>\n",
       "      <th>50%</th>\n",
       "      <td>24416.000000</td>\n",
       "    </tr>\n",
       "    <tr>\n",
       "      <th>75%</th>\n",
       "      <td>58900.000000</td>\n",
       "    </tr>\n",
       "    <tr>\n",
       "      <th>max</th>\n",
       "      <td>99990.000000</td>\n",
       "    </tr>\n",
       "  </tbody>\n",
       "</table>\n",
       "</div>"
      ],
      "text/plain": [
       "       customer_zip_code_prefix\n",
       "count              99441.000000\n",
       "mean               35137.474583\n",
       "std                29797.938996\n",
       "min                 1003.000000\n",
       "25%                11347.000000\n",
       "50%                24416.000000\n",
       "75%                58900.000000\n",
       "max                99990.000000"
      ]
     },
     "execution_count": 12,
     "metadata": {},
     "output_type": "execute_result"
    }
   ],
   "source": [
    "customers_df.describe()"
   ]
  },
  {
   "cell_type": "markdown",
   "metadata": {
    "id": "7dtxhAPrkhPL"
   },
   "source": [
    "**Insight:**\n",
    "Missing values pada beberapa kolom:\n",
    "order_approved_at: 160 missing values.\n",
    "order_delivered_carrier_date: 1,783 missing values.\n",
    "order_delivered_customer_date: 2,965 missing values.\n",
    "Tipe data: Kolom timestamp (order_purchase_timestamp, order_approved_at, order_delivered_carrier_date, order_delivered_customer_date, order_estimated_delivery_date) perlu dikonversi menjadi tipe datetime agar lebih mudah diolah."
   ]
  },
  {
   "cell_type": "markdown",
   "metadata": {
    "id": "ozrbkBeL93iL"
   },
   "source": []
  },
  {
   "cell_type": "markdown",
   "metadata": {
    "id": "D4oYleoN97s_"
   },
   "source": [
    "#### orders_dataset.csv"
   ]
  },
  {
   "cell_type": "code",
   "execution_count": 13,
   "metadata": {
    "colab": {
     "base_uri": "https://localhost:8080/"
    },
    "id": "Ha7GmYfX-H8C",
    "outputId": "3cf026fe-0cae-4219-f3b8-8e77d3988996"
   },
   "outputs": [
    {
     "name": "stdout",
     "output_type": "stream",
     "text": [
      "<class 'pandas.core.frame.DataFrame'>\n",
      "RangeIndex: 99441 entries, 0 to 99440\n",
      "Data columns (total 8 columns):\n",
      " #   Column                         Non-Null Count  Dtype \n",
      "---  ------                         --------------  ----- \n",
      " 0   order_id                       99441 non-null  object\n",
      " 1   customer_id                    99441 non-null  object\n",
      " 2   order_status                   99441 non-null  object\n",
      " 3   order_purchase_timestamp       99441 non-null  object\n",
      " 4   order_approved_at              99281 non-null  object\n",
      " 5   order_delivered_carrier_date   97658 non-null  object\n",
      " 6   order_delivered_customer_date  96476 non-null  object\n",
      " 7   order_estimated_delivery_date  99441 non-null  object\n",
      "dtypes: object(8)\n",
      "memory usage: 6.1+ MB\n"
     ]
    }
   ],
   "source": [
    "orders_df.info()\n"
   ]
  },
  {
   "cell_type": "code",
   "execution_count": 14,
   "metadata": {
    "colab": {
     "base_uri": "https://localhost:8080/",
     "height": 0
    },
    "id": "M12DKwW4-N78",
    "outputId": "e70db1c0-9e2e-464e-d756-5fc461ccb55c"
   },
   "outputs": [
    {
     "data": {
      "text/plain": [
       "order_id                            0\n",
       "customer_id                         0\n",
       "order_status                        0\n",
       "order_purchase_timestamp            0\n",
       "order_approved_at                 160\n",
       "order_delivered_carrier_date     1783\n",
       "order_delivered_customer_date    2965\n",
       "order_estimated_delivery_date       0\n",
       "dtype: int64"
      ]
     },
     "execution_count": 14,
     "metadata": {},
     "output_type": "execute_result"
    }
   ],
   "source": [
    "orders_df.isna().sum()"
   ]
  },
  {
   "cell_type": "code",
   "execution_count": 15,
   "metadata": {
    "colab": {
     "base_uri": "https://localhost:8080/"
    },
    "id": "WWcvewwv-PAT",
    "outputId": "ed7c823c-388c-4787-f4a1-972a3cc50b28"
   },
   "outputs": [
    {
     "data": {
      "text/plain": [
       "np.int64(0)"
      ]
     },
     "execution_count": 15,
     "metadata": {},
     "output_type": "execute_result"
    }
   ],
   "source": [
    "orders_df.duplicated().sum()"
   ]
  },
  {
   "cell_type": "code",
   "execution_count": 16,
   "metadata": {
    "colab": {
     "base_uri": "https://localhost:8080/",
     "height": 0
    },
    "id": "M9oVarR3-Qcv",
    "outputId": "8aa57d42-a6c7-4490-8c04-973fd463154c"
   },
   "outputs": [
    {
     "data": {
      "text/html": [
       "<div>\n",
       "<style scoped>\n",
       "    .dataframe tbody tr th:only-of-type {\n",
       "        vertical-align: middle;\n",
       "    }\n",
       "\n",
       "    .dataframe tbody tr th {\n",
       "        vertical-align: top;\n",
       "    }\n",
       "\n",
       "    .dataframe thead th {\n",
       "        text-align: right;\n",
       "    }\n",
       "</style>\n",
       "<table border=\"1\" class=\"dataframe\">\n",
       "  <thead>\n",
       "    <tr style=\"text-align: right;\">\n",
       "      <th></th>\n",
       "      <th>order_id</th>\n",
       "      <th>customer_id</th>\n",
       "      <th>order_status</th>\n",
       "      <th>order_purchase_timestamp</th>\n",
       "      <th>order_approved_at</th>\n",
       "      <th>order_delivered_carrier_date</th>\n",
       "      <th>order_delivered_customer_date</th>\n",
       "      <th>order_estimated_delivery_date</th>\n",
       "    </tr>\n",
       "  </thead>\n",
       "  <tbody>\n",
       "    <tr>\n",
       "      <th>count</th>\n",
       "      <td>99441</td>\n",
       "      <td>99441</td>\n",
       "      <td>99441</td>\n",
       "      <td>99441</td>\n",
       "      <td>99281</td>\n",
       "      <td>97658</td>\n",
       "      <td>96476</td>\n",
       "      <td>99441</td>\n",
       "    </tr>\n",
       "    <tr>\n",
       "      <th>unique</th>\n",
       "      <td>99441</td>\n",
       "      <td>99441</td>\n",
       "      <td>8</td>\n",
       "      <td>98875</td>\n",
       "      <td>90733</td>\n",
       "      <td>81018</td>\n",
       "      <td>95664</td>\n",
       "      <td>459</td>\n",
       "    </tr>\n",
       "    <tr>\n",
       "      <th>top</th>\n",
       "      <td>66dea50a8b16d9b4dee7af250b4be1a5</td>\n",
       "      <td>edb027a75a1449115f6b43211ae02a24</td>\n",
       "      <td>delivered</td>\n",
       "      <td>2018-08-02 12:05:26</td>\n",
       "      <td>2018-02-27 04:31:10</td>\n",
       "      <td>2018-05-09 15:48:00</td>\n",
       "      <td>2018-05-08 19:36:48</td>\n",
       "      <td>2017-12-20 00:00:00</td>\n",
       "    </tr>\n",
       "    <tr>\n",
       "      <th>freq</th>\n",
       "      <td>1</td>\n",
       "      <td>1</td>\n",
       "      <td>96478</td>\n",
       "      <td>3</td>\n",
       "      <td>9</td>\n",
       "      <td>47</td>\n",
       "      <td>3</td>\n",
       "      <td>522</td>\n",
       "    </tr>\n",
       "  </tbody>\n",
       "</table>\n",
       "</div>"
      ],
      "text/plain": [
       "                                order_id                       customer_id  \\\n",
       "count                              99441                             99441   \n",
       "unique                             99441                             99441   \n",
       "top     66dea50a8b16d9b4dee7af250b4be1a5  edb027a75a1449115f6b43211ae02a24   \n",
       "freq                                   1                                 1   \n",
       "\n",
       "       order_status order_purchase_timestamp    order_approved_at  \\\n",
       "count         99441                    99441                99281   \n",
       "unique            8                    98875                90733   \n",
       "top       delivered      2018-08-02 12:05:26  2018-02-27 04:31:10   \n",
       "freq          96478                        3                    9   \n",
       "\n",
       "       order_delivered_carrier_date order_delivered_customer_date  \\\n",
       "count                         97658                         96476   \n",
       "unique                        81018                         95664   \n",
       "top             2018-05-09 15:48:00           2018-05-08 19:36:48   \n",
       "freq                             47                             3   \n",
       "\n",
       "       order_estimated_delivery_date  \n",
       "count                          99441  \n",
       "unique                           459  \n",
       "top              2017-12-20 00:00:00  \n",
       "freq                             522  "
      ]
     },
     "execution_count": 16,
     "metadata": {},
     "output_type": "execute_result"
    }
   ],
   "source": [
    "orders_df.describe()"
   ]
  },
  {
   "cell_type": "markdown",
   "metadata": {
    "id": "QpiCO6ev-Tbr"
   },
   "source": [
    "#### order_items_dataset.csv"
   ]
  },
  {
   "cell_type": "code",
   "execution_count": 17,
   "metadata": {
    "colab": {
     "base_uri": "https://localhost:8080/"
    },
    "id": "aOEKiKKf-bjQ",
    "outputId": "3797d947-0cf0-424e-e5a6-cb97360607b1"
   },
   "outputs": [
    {
     "name": "stdout",
     "output_type": "stream",
     "text": [
      "<class 'pandas.core.frame.DataFrame'>\n",
      "RangeIndex: 112650 entries, 0 to 112649\n",
      "Data columns (total 7 columns):\n",
      " #   Column               Non-Null Count   Dtype  \n",
      "---  ------               --------------   -----  \n",
      " 0   order_id             112650 non-null  object \n",
      " 1   order_item_id        112650 non-null  int64  \n",
      " 2   product_id           112650 non-null  object \n",
      " 3   seller_id            112650 non-null  object \n",
      " 4   shipping_limit_date  112650 non-null  object \n",
      " 5   price                112650 non-null  float64\n",
      " 6   freight_value        112650 non-null  float64\n",
      "dtypes: float64(2), int64(1), object(4)\n",
      "memory usage: 6.0+ MB\n"
     ]
    }
   ],
   "source": [
    "order_items_df.info()"
   ]
  },
  {
   "cell_type": "code",
   "execution_count": 18,
   "metadata": {
    "colab": {
     "base_uri": "https://localhost:8080/",
     "height": 0
    },
    "id": "DxZJU34R-hUQ",
    "outputId": "33df0c2a-c608-45a8-9f0d-4743d49a43a4"
   },
   "outputs": [
    {
     "data": {
      "text/plain": [
       "order_id               0\n",
       "order_item_id          0\n",
       "product_id             0\n",
       "seller_id              0\n",
       "shipping_limit_date    0\n",
       "price                  0\n",
       "freight_value          0\n",
       "dtype: int64"
      ]
     },
     "execution_count": 18,
     "metadata": {},
     "output_type": "execute_result"
    }
   ],
   "source": [
    "order_items_df.isna().sum()"
   ]
  },
  {
   "cell_type": "code",
   "execution_count": 19,
   "metadata": {
    "colab": {
     "base_uri": "https://localhost:8080/"
    },
    "id": "TWPwF5Sn-jeq",
    "outputId": "906b488c-d11c-4b06-df45-3f35dcac622b"
   },
   "outputs": [
    {
     "data": {
      "text/plain": [
       "np.int64(0)"
      ]
     },
     "execution_count": 19,
     "metadata": {},
     "output_type": "execute_result"
    }
   ],
   "source": [
    "order_items_df.duplicated().sum()"
   ]
  },
  {
   "cell_type": "code",
   "execution_count": 20,
   "metadata": {
    "colab": {
     "base_uri": "https://localhost:8080/",
     "height": 0
    },
    "id": "Xc6LE3ID-kue",
    "outputId": "6f0a56e4-8ff1-42c7-9bc0-282d37f681fe"
   },
   "outputs": [
    {
     "data": {
      "text/html": [
       "<div>\n",
       "<style scoped>\n",
       "    .dataframe tbody tr th:only-of-type {\n",
       "        vertical-align: middle;\n",
       "    }\n",
       "\n",
       "    .dataframe tbody tr th {\n",
       "        vertical-align: top;\n",
       "    }\n",
       "\n",
       "    .dataframe thead th {\n",
       "        text-align: right;\n",
       "    }\n",
       "</style>\n",
       "<table border=\"1\" class=\"dataframe\">\n",
       "  <thead>\n",
       "    <tr style=\"text-align: right;\">\n",
       "      <th></th>\n",
       "      <th>order_item_id</th>\n",
       "      <th>price</th>\n",
       "      <th>freight_value</th>\n",
       "    </tr>\n",
       "  </thead>\n",
       "  <tbody>\n",
       "    <tr>\n",
       "      <th>count</th>\n",
       "      <td>112650.000000</td>\n",
       "      <td>112650.000000</td>\n",
       "      <td>112650.000000</td>\n",
       "    </tr>\n",
       "    <tr>\n",
       "      <th>mean</th>\n",
       "      <td>1.197834</td>\n",
       "      <td>120.653739</td>\n",
       "      <td>19.990320</td>\n",
       "    </tr>\n",
       "    <tr>\n",
       "      <th>std</th>\n",
       "      <td>0.705124</td>\n",
       "      <td>183.633928</td>\n",
       "      <td>15.806405</td>\n",
       "    </tr>\n",
       "    <tr>\n",
       "      <th>min</th>\n",
       "      <td>1.000000</td>\n",
       "      <td>0.850000</td>\n",
       "      <td>0.000000</td>\n",
       "    </tr>\n",
       "    <tr>\n",
       "      <th>25%</th>\n",
       "      <td>1.000000</td>\n",
       "      <td>39.900000</td>\n",
       "      <td>13.080000</td>\n",
       "    </tr>\n",
       "    <tr>\n",
       "      <th>50%</th>\n",
       "      <td>1.000000</td>\n",
       "      <td>74.990000</td>\n",
       "      <td>16.260000</td>\n",
       "    </tr>\n",
       "    <tr>\n",
       "      <th>75%</th>\n",
       "      <td>1.000000</td>\n",
       "      <td>134.900000</td>\n",
       "      <td>21.150000</td>\n",
       "    </tr>\n",
       "    <tr>\n",
       "      <th>max</th>\n",
       "      <td>21.000000</td>\n",
       "      <td>6735.000000</td>\n",
       "      <td>409.680000</td>\n",
       "    </tr>\n",
       "  </tbody>\n",
       "</table>\n",
       "</div>"
      ],
      "text/plain": [
       "       order_item_id          price  freight_value\n",
       "count  112650.000000  112650.000000  112650.000000\n",
       "mean        1.197834     120.653739      19.990320\n",
       "std         0.705124     183.633928      15.806405\n",
       "min         1.000000       0.850000       0.000000\n",
       "25%         1.000000      39.900000      13.080000\n",
       "50%         1.000000      74.990000      16.260000\n",
       "75%         1.000000     134.900000      21.150000\n",
       "max        21.000000    6735.000000     409.680000"
      ]
     },
     "execution_count": 20,
     "metadata": {},
     "output_type": "execute_result"
    }
   ],
   "source": [
    "order_items_df.describe()"
   ]
  },
  {
   "cell_type": "markdown",
   "metadata": {
    "id": "gfN8zWBc740t"
   },
   "source": [
    "#### order_payments_dataset.csv"
   ]
  },
  {
   "cell_type": "code",
   "execution_count": 21,
   "metadata": {
    "colab": {
     "base_uri": "https://localhost:8080/"
    },
    "id": "rhvTDbNCDL4B",
    "outputId": "8b0f6834-3cde-45b0-85bb-2db10c2d49e9"
   },
   "outputs": [
    {
     "name": "stdout",
     "output_type": "stream",
     "text": [
      "<class 'pandas.core.frame.DataFrame'>\n",
      "RangeIndex: 103886 entries, 0 to 103885\n",
      "Data columns (total 5 columns):\n",
      " #   Column                Non-Null Count   Dtype  \n",
      "---  ------                --------------   -----  \n",
      " 0   order_id              103886 non-null  object \n",
      " 1   payment_sequential    103886 non-null  int64  \n",
      " 2   payment_type          103886 non-null  object \n",
      " 3   payment_installments  103886 non-null  int64  \n",
      " 4   payment_value         103886 non-null  float64\n",
      "dtypes: float64(1), int64(2), object(2)\n",
      "memory usage: 4.0+ MB\n"
     ]
    }
   ],
   "source": [
    "payments_df.info()"
   ]
  },
  {
   "cell_type": "code",
   "execution_count": 22,
   "metadata": {
    "colab": {
     "base_uri": "https://localhost:8080/",
     "height": 0
    },
    "id": "m7et8TxODN3v",
    "outputId": "ac4acab9-910d-4c19-c950-fb216c6d400c"
   },
   "outputs": [
    {
     "data": {
      "text/plain": [
       "order_id                0\n",
       "payment_sequential      0\n",
       "payment_type            0\n",
       "payment_installments    0\n",
       "payment_value           0\n",
       "dtype: int64"
      ]
     },
     "execution_count": 22,
     "metadata": {},
     "output_type": "execute_result"
    }
   ],
   "source": [
    "payments_df.isna().sum()"
   ]
  },
  {
   "cell_type": "code",
   "execution_count": 23,
   "metadata": {
    "colab": {
     "base_uri": "https://localhost:8080/"
    },
    "id": "pZgZh09-DQVX",
    "outputId": "a63e1f79-3cdb-4a5c-85be-1bb8203f5515"
   },
   "outputs": [
    {
     "data": {
      "text/plain": [
       "np.int64(0)"
      ]
     },
     "execution_count": 23,
     "metadata": {},
     "output_type": "execute_result"
    }
   ],
   "source": [
    "payments_df.duplicated().sum()"
   ]
  },
  {
   "cell_type": "code",
   "execution_count": 24,
   "metadata": {
    "colab": {
     "base_uri": "https://localhost:8080/",
     "height": 0
    },
    "id": "cqxSygZJDRer",
    "outputId": "5301ea75-78c5-4f45-aae7-3427539ad611"
   },
   "outputs": [
    {
     "data": {
      "text/html": [
       "<div>\n",
       "<style scoped>\n",
       "    .dataframe tbody tr th:only-of-type {\n",
       "        vertical-align: middle;\n",
       "    }\n",
       "\n",
       "    .dataframe tbody tr th {\n",
       "        vertical-align: top;\n",
       "    }\n",
       "\n",
       "    .dataframe thead th {\n",
       "        text-align: right;\n",
       "    }\n",
       "</style>\n",
       "<table border=\"1\" class=\"dataframe\">\n",
       "  <thead>\n",
       "    <tr style=\"text-align: right;\">\n",
       "      <th></th>\n",
       "      <th>payment_sequential</th>\n",
       "      <th>payment_installments</th>\n",
       "      <th>payment_value</th>\n",
       "    </tr>\n",
       "  </thead>\n",
       "  <tbody>\n",
       "    <tr>\n",
       "      <th>count</th>\n",
       "      <td>103886.000000</td>\n",
       "      <td>103886.000000</td>\n",
       "      <td>103886.000000</td>\n",
       "    </tr>\n",
       "    <tr>\n",
       "      <th>mean</th>\n",
       "      <td>1.092679</td>\n",
       "      <td>2.853349</td>\n",
       "      <td>154.100380</td>\n",
       "    </tr>\n",
       "    <tr>\n",
       "      <th>std</th>\n",
       "      <td>0.706584</td>\n",
       "      <td>2.687051</td>\n",
       "      <td>217.494064</td>\n",
       "    </tr>\n",
       "    <tr>\n",
       "      <th>min</th>\n",
       "      <td>1.000000</td>\n",
       "      <td>0.000000</td>\n",
       "      <td>0.000000</td>\n",
       "    </tr>\n",
       "    <tr>\n",
       "      <th>25%</th>\n",
       "      <td>1.000000</td>\n",
       "      <td>1.000000</td>\n",
       "      <td>56.790000</td>\n",
       "    </tr>\n",
       "    <tr>\n",
       "      <th>50%</th>\n",
       "      <td>1.000000</td>\n",
       "      <td>1.000000</td>\n",
       "      <td>100.000000</td>\n",
       "    </tr>\n",
       "    <tr>\n",
       "      <th>75%</th>\n",
       "      <td>1.000000</td>\n",
       "      <td>4.000000</td>\n",
       "      <td>171.837500</td>\n",
       "    </tr>\n",
       "    <tr>\n",
       "      <th>max</th>\n",
       "      <td>29.000000</td>\n",
       "      <td>24.000000</td>\n",
       "      <td>13664.080000</td>\n",
       "    </tr>\n",
       "  </tbody>\n",
       "</table>\n",
       "</div>"
      ],
      "text/plain": [
       "       payment_sequential  payment_installments  payment_value\n",
       "count       103886.000000         103886.000000  103886.000000\n",
       "mean             1.092679              2.853349     154.100380\n",
       "std              0.706584              2.687051     217.494064\n",
       "min              1.000000              0.000000       0.000000\n",
       "25%              1.000000              1.000000      56.790000\n",
       "50%              1.000000              1.000000     100.000000\n",
       "75%              1.000000              4.000000     171.837500\n",
       "max             29.000000             24.000000   13664.080000"
      ]
     },
     "execution_count": 24,
     "metadata": {},
     "output_type": "execute_result"
    }
   ],
   "source": [
    "payments_df.describe()"
   ]
  },
  {
   "cell_type": "markdown",
   "metadata": {
    "id": "oWvp-adiDZJl"
   },
   "source": [
    "#### products_dataset.csv"
   ]
  },
  {
   "cell_type": "code",
   "execution_count": 25,
   "metadata": {
    "colab": {
     "base_uri": "https://localhost:8080/"
    },
    "id": "NUNIqo8pDcML",
    "outputId": "ee0bda48-8375-45bc-c4a8-221d737b88aa"
   },
   "outputs": [
    {
     "name": "stdout",
     "output_type": "stream",
     "text": [
      "<class 'pandas.core.frame.DataFrame'>\n",
      "RangeIndex: 32951 entries, 0 to 32950\n",
      "Data columns (total 9 columns):\n",
      " #   Column                      Non-Null Count  Dtype  \n",
      "---  ------                      --------------  -----  \n",
      " 0   product_id                  32951 non-null  object \n",
      " 1   product_category_name       32341 non-null  object \n",
      " 2   product_name_lenght         32341 non-null  float64\n",
      " 3   product_description_lenght  32341 non-null  float64\n",
      " 4   product_photos_qty          32341 non-null  float64\n",
      " 5   product_weight_g            32949 non-null  float64\n",
      " 6   product_length_cm           32949 non-null  float64\n",
      " 7   product_height_cm           32949 non-null  float64\n",
      " 8   product_width_cm            32949 non-null  float64\n",
      "dtypes: float64(7), object(2)\n",
      "memory usage: 2.3+ MB\n"
     ]
    }
   ],
   "source": [
    "products_df.info()"
   ]
  },
  {
   "cell_type": "code",
   "execution_count": 26,
   "metadata": {
    "colab": {
     "base_uri": "https://localhost:8080/",
     "height": 366
    },
    "id": "dUCb-eGPDe2o",
    "outputId": "8c9ec7d4-bcdd-46bc-b58a-d8233cb00229"
   },
   "outputs": [
    {
     "data": {
      "text/plain": [
       "product_id                      0\n",
       "product_category_name         610\n",
       "product_name_lenght           610\n",
       "product_description_lenght    610\n",
       "product_photos_qty            610\n",
       "product_weight_g                2\n",
       "product_length_cm               2\n",
       "product_height_cm               2\n",
       "product_width_cm                2\n",
       "dtype: int64"
      ]
     },
     "execution_count": 26,
     "metadata": {},
     "output_type": "execute_result"
    }
   ],
   "source": [
    "products_df.isna().sum()"
   ]
  },
  {
   "cell_type": "code",
   "execution_count": 27,
   "metadata": {
    "colab": {
     "base_uri": "https://localhost:8080/"
    },
    "id": "hLWghqfQDgF6",
    "outputId": "e2b63c1b-060d-40d0-9b49-d53f0a3ab1a8"
   },
   "outputs": [
    {
     "data": {
      "text/plain": [
       "np.int64(0)"
      ]
     },
     "execution_count": 27,
     "metadata": {},
     "output_type": "execute_result"
    }
   ],
   "source": [
    "products_df.duplicated().sum()"
   ]
  },
  {
   "cell_type": "code",
   "execution_count": 28,
   "metadata": {
    "colab": {
     "base_uri": "https://localhost:8080/",
     "height": 320
    },
    "id": "ux-Xj1PoDhec",
    "outputId": "a10c8681-a542-482d-8916-c6c3b907853e"
   },
   "outputs": [
    {
     "data": {
      "text/html": [
       "<div>\n",
       "<style scoped>\n",
       "    .dataframe tbody tr th:only-of-type {\n",
       "        vertical-align: middle;\n",
       "    }\n",
       "\n",
       "    .dataframe tbody tr th {\n",
       "        vertical-align: top;\n",
       "    }\n",
       "\n",
       "    .dataframe thead th {\n",
       "        text-align: right;\n",
       "    }\n",
       "</style>\n",
       "<table border=\"1\" class=\"dataframe\">\n",
       "  <thead>\n",
       "    <tr style=\"text-align: right;\">\n",
       "      <th></th>\n",
       "      <th>product_name_lenght</th>\n",
       "      <th>product_description_lenght</th>\n",
       "      <th>product_photos_qty</th>\n",
       "      <th>product_weight_g</th>\n",
       "      <th>product_length_cm</th>\n",
       "      <th>product_height_cm</th>\n",
       "      <th>product_width_cm</th>\n",
       "    </tr>\n",
       "  </thead>\n",
       "  <tbody>\n",
       "    <tr>\n",
       "      <th>count</th>\n",
       "      <td>32341.000000</td>\n",
       "      <td>32341.000000</td>\n",
       "      <td>32341.000000</td>\n",
       "      <td>32949.000000</td>\n",
       "      <td>32949.000000</td>\n",
       "      <td>32949.000000</td>\n",
       "      <td>32949.000000</td>\n",
       "    </tr>\n",
       "    <tr>\n",
       "      <th>mean</th>\n",
       "      <td>48.476949</td>\n",
       "      <td>771.495285</td>\n",
       "      <td>2.188986</td>\n",
       "      <td>2276.472488</td>\n",
       "      <td>30.815078</td>\n",
       "      <td>16.937661</td>\n",
       "      <td>23.196728</td>\n",
       "    </tr>\n",
       "    <tr>\n",
       "      <th>std</th>\n",
       "      <td>10.245741</td>\n",
       "      <td>635.115225</td>\n",
       "      <td>1.736766</td>\n",
       "      <td>4282.038731</td>\n",
       "      <td>16.914458</td>\n",
       "      <td>13.637554</td>\n",
       "      <td>12.079047</td>\n",
       "    </tr>\n",
       "    <tr>\n",
       "      <th>min</th>\n",
       "      <td>5.000000</td>\n",
       "      <td>4.000000</td>\n",
       "      <td>1.000000</td>\n",
       "      <td>0.000000</td>\n",
       "      <td>7.000000</td>\n",
       "      <td>2.000000</td>\n",
       "      <td>6.000000</td>\n",
       "    </tr>\n",
       "    <tr>\n",
       "      <th>25%</th>\n",
       "      <td>42.000000</td>\n",
       "      <td>339.000000</td>\n",
       "      <td>1.000000</td>\n",
       "      <td>300.000000</td>\n",
       "      <td>18.000000</td>\n",
       "      <td>8.000000</td>\n",
       "      <td>15.000000</td>\n",
       "    </tr>\n",
       "    <tr>\n",
       "      <th>50%</th>\n",
       "      <td>51.000000</td>\n",
       "      <td>595.000000</td>\n",
       "      <td>1.000000</td>\n",
       "      <td>700.000000</td>\n",
       "      <td>25.000000</td>\n",
       "      <td>13.000000</td>\n",
       "      <td>20.000000</td>\n",
       "    </tr>\n",
       "    <tr>\n",
       "      <th>75%</th>\n",
       "      <td>57.000000</td>\n",
       "      <td>972.000000</td>\n",
       "      <td>3.000000</td>\n",
       "      <td>1900.000000</td>\n",
       "      <td>38.000000</td>\n",
       "      <td>21.000000</td>\n",
       "      <td>30.000000</td>\n",
       "    </tr>\n",
       "    <tr>\n",
       "      <th>max</th>\n",
       "      <td>76.000000</td>\n",
       "      <td>3992.000000</td>\n",
       "      <td>20.000000</td>\n",
       "      <td>40425.000000</td>\n",
       "      <td>105.000000</td>\n",
       "      <td>105.000000</td>\n",
       "      <td>118.000000</td>\n",
       "    </tr>\n",
       "  </tbody>\n",
       "</table>\n",
       "</div>"
      ],
      "text/plain": [
       "       product_name_lenght  product_description_lenght  product_photos_qty  \\\n",
       "count         32341.000000                32341.000000        32341.000000   \n",
       "mean             48.476949                  771.495285            2.188986   \n",
       "std              10.245741                  635.115225            1.736766   \n",
       "min               5.000000                    4.000000            1.000000   \n",
       "25%              42.000000                  339.000000            1.000000   \n",
       "50%              51.000000                  595.000000            1.000000   \n",
       "75%              57.000000                  972.000000            3.000000   \n",
       "max              76.000000                 3992.000000           20.000000   \n",
       "\n",
       "       product_weight_g  product_length_cm  product_height_cm  \\\n",
       "count      32949.000000       32949.000000       32949.000000   \n",
       "mean        2276.472488          30.815078          16.937661   \n",
       "std         4282.038731          16.914458          13.637554   \n",
       "min            0.000000           7.000000           2.000000   \n",
       "25%          300.000000          18.000000           8.000000   \n",
       "50%          700.000000          25.000000          13.000000   \n",
       "75%         1900.000000          38.000000          21.000000   \n",
       "max        40425.000000         105.000000         105.000000   \n",
       "\n",
       "       product_width_cm  \n",
       "count      32949.000000  \n",
       "mean          23.196728  \n",
       "std           12.079047  \n",
       "min            6.000000  \n",
       "25%           15.000000  \n",
       "50%           20.000000  \n",
       "75%           30.000000  \n",
       "max          118.000000  "
      ]
     },
     "execution_count": 28,
     "metadata": {},
     "output_type": "execute_result"
    }
   ],
   "source": [
    "products_df.describe()"
   ]
  },
  {
   "cell_type": "markdown",
   "metadata": {
    "id": "DiUFBdsJwYM2"
   },
   "source": [
    "insight :\n",
    "## 1. Customers\n",
    "- Tidak ada masalah yang perlu dibersihkan, karena tidak ada **missing values** atau **duplikasi**.\n",
    "- ada\t**customer_state yang tidak umum** dan  customer_city biasa menggunakan **capitalate**\n",
    "\n",
    "## 2. Orders\n",
    "- **Missing values** pada beberapa kolom:\n",
    "  - `order_approved_at`: 160 missing values.\n",
    "  - `order_delivered_carrier_date`: 1,783 missing values.\n",
    "  - `order_delivered_customer_date`: 2,965 missing values.\n",
    "- **Tipe data**: Kolom timestamp (`order_purchase_timestamp`, `order_approved_at`, `order_delivered_carrier_date`, `order_delivered_customer_date`, `order_estimated_delivery_date`) perlu dikonversi menjadi tipe `datetime` agar lebih mudah diolah.\n",
    "\n",
    "## 3. Products\n",
    "- **Missing values** pada beberapa kolom:\n",
    "  - `product_category_name`, `product_name_lenght`, `product_description_lenght`, `product_photos_qty`: 610 missing values.\n",
    "  - `product_weight_g`, `product_length_cm`, `product_height_cm`, `product_width_cm`: 2 missing values.\n",
    "- **Tipe data**: Kolom `product_name_lenght`, `product_description_lenght`, dan `product_photos_qty` sebaiknya dicek kembali apakah tipe `float64` sesuai atau perlu dikonversi ke tipe lain.\n",
    "\n",
    "## 4. Payments\n",
    "- Tidak ada masalah yang perlu dibersihkan, karena tidak ada **missing values** atau **duplikasi**.\n",
    "\n",
    "\n",
    "## 5. Categories\n",
    "- Tidak ada masalah yang perlu dibersihkan, karena tidak ada **missing values** atau **duplikasi**.\n"
   ]
  },
  {
   "cell_type": "markdown",
   "metadata": {
    "id": "EhN5R4hr8DC1"
   },
   "source": [
    "### Cleaning Data"
   ]
  },
  {
   "cell_type": "markdown",
   "metadata": {
    "id": "nO2FWe3yEqgb"
   },
   "source": [
    "#### customers_dataset.csv"
   ]
  },
  {
   "cell_type": "code",
   "execution_count": 29,
   "metadata": {
    "colab": {
     "base_uri": "https://localhost:8080/",
     "height": 0
    },
    "id": "JYrJs7agEs-W",
    "outputId": "f4a1f351-61e6-4ba2-a80c-d96be3301366"
   },
   "outputs": [
    {
     "data": {
      "text/html": [
       "<div>\n",
       "<style scoped>\n",
       "    .dataframe tbody tr th:only-of-type {\n",
       "        vertical-align: middle;\n",
       "    }\n",
       "\n",
       "    .dataframe tbody tr th {\n",
       "        vertical-align: top;\n",
       "    }\n",
       "\n",
       "    .dataframe thead th {\n",
       "        text-align: right;\n",
       "    }\n",
       "</style>\n",
       "<table border=\"1\" class=\"dataframe\">\n",
       "  <thead>\n",
       "    <tr style=\"text-align: right;\">\n",
       "      <th></th>\n",
       "      <th>customer_id</th>\n",
       "      <th>customer_unique_id</th>\n",
       "      <th>customer_zip_code_prefix</th>\n",
       "      <th>customer_city</th>\n",
       "      <th>customer_state</th>\n",
       "    </tr>\n",
       "  </thead>\n",
       "  <tbody>\n",
       "    <tr>\n",
       "      <th>0</th>\n",
       "      <td>06b8999e2fba1a1fbc88172c00ba8bc7</td>\n",
       "      <td>861eff4711a542e4b93843c6dd7febb0</td>\n",
       "      <td>14409</td>\n",
       "      <td>Franca</td>\n",
       "      <td>SP</td>\n",
       "    </tr>\n",
       "    <tr>\n",
       "      <th>1</th>\n",
       "      <td>18955e83d337fd6b2def6b18a428ac77</td>\n",
       "      <td>290c77bc529b7ac935b93aa66c333dc3</td>\n",
       "      <td>9790</td>\n",
       "      <td>Sao Bernardo Do Campo</td>\n",
       "      <td>SP</td>\n",
       "    </tr>\n",
       "  </tbody>\n",
       "</table>\n",
       "</div>"
      ],
      "text/plain": [
       "                        customer_id                customer_unique_id  \\\n",
       "0  06b8999e2fba1a1fbc88172c00ba8bc7  861eff4711a542e4b93843c6dd7febb0   \n",
       "1  18955e83d337fd6b2def6b18a428ac77  290c77bc529b7ac935b93aa66c333dc3   \n",
       "\n",
       "   customer_zip_code_prefix          customer_city customer_state  \n",
       "0                     14409                 Franca             SP  \n",
       "1                      9790  Sao Bernardo Do Campo             SP  "
      ]
     },
     "execution_count": 29,
     "metadata": {},
     "output_type": "execute_result"
    }
   ],
   "source": [
    "def capitalate_city(city):\n",
    "    return city.title()\n",
    "\n",
    "customers_df['customer_city'] = customers_df['customer_city'].apply(capitalate_city)\n",
    "\n",
    "customers_df.head(2)"
   ]
  },
  {
   "cell_type": "markdown",
   "metadata": {
    "id": "H_f6rVoZGkhm"
   },
   "source": [
    "#### data dapat dari https://www.drupal.org/node/2559551 untuk mengubah customer_state"
   ]
  },
  {
   "cell_type": "code",
   "execution_count": 30,
   "metadata": {
    "colab": {
     "base_uri": "https://localhost:8080/",
     "height": 0
    },
    "id": "P7xnUnU7FJdd",
    "outputId": "24520238-257d-41bb-991d-4a86181f5630"
   },
   "outputs": [
    {
     "data": {
      "text/html": [
       "<div>\n",
       "<style scoped>\n",
       "    .dataframe tbody tr th:only-of-type {\n",
       "        vertical-align: middle;\n",
       "    }\n",
       "\n",
       "    .dataframe tbody tr th {\n",
       "        vertical-align: top;\n",
       "    }\n",
       "\n",
       "    .dataframe thead th {\n",
       "        text-align: right;\n",
       "    }\n",
       "</style>\n",
       "<table border=\"1\" class=\"dataframe\">\n",
       "  <thead>\n",
       "    <tr style=\"text-align: right;\">\n",
       "      <th></th>\n",
       "      <th>customer_id</th>\n",
       "      <th>customer_unique_id</th>\n",
       "      <th>customer_zip_code_prefix</th>\n",
       "      <th>customer_city</th>\n",
       "      <th>customer_state</th>\n",
       "    </tr>\n",
       "  </thead>\n",
       "  <tbody>\n",
       "    <tr>\n",
       "      <th>0</th>\n",
       "      <td>06b8999e2fba1a1fbc88172c00ba8bc7</td>\n",
       "      <td>861eff4711a542e4b93843c6dd7febb0</td>\n",
       "      <td>14409</td>\n",
       "      <td>Franca</td>\n",
       "      <td>São Paulo</td>\n",
       "    </tr>\n",
       "    <tr>\n",
       "      <th>1</th>\n",
       "      <td>18955e83d337fd6b2def6b18a428ac77</td>\n",
       "      <td>290c77bc529b7ac935b93aa66c333dc3</td>\n",
       "      <td>9790</td>\n",
       "      <td>Sao Bernardo Do Campo</td>\n",
       "      <td>São Paulo</td>\n",
       "    </tr>\n",
       "  </tbody>\n",
       "</table>\n",
       "</div>"
      ],
      "text/plain": [
       "                        customer_id                customer_unique_id  \\\n",
       "0  06b8999e2fba1a1fbc88172c00ba8bc7  861eff4711a542e4b93843c6dd7febb0   \n",
       "1  18955e83d337fd6b2def6b18a428ac77  290c77bc529b7ac935b93aa66c333dc3   \n",
       "\n",
       "   customer_zip_code_prefix          customer_city customer_state  \n",
       "0                     14409                 Franca      São Paulo  \n",
       "1                      9790  Sao Bernardo Do Campo      São Paulo  "
      ]
     },
     "execution_count": 30,
     "metadata": {},
     "output_type": "execute_result"
    }
   ],
   "source": [
    "state_mapping = {\n",
    "    'AC': 'Acre',\n",
    "    'AL': 'Alagoas',\n",
    "    'AM': 'Amazonas',\n",
    "    'AP': 'Amapá',\n",
    "    'BA': 'Bahia',\n",
    "    'CE': 'Ceará',\n",
    "    'DF': 'Distrito Federal',\n",
    "    'ES': 'Espírito Santo',\n",
    "    'GO': 'Goiás',\n",
    "    'MA': 'Maranhão',\n",
    "    'MG': 'Minas Gerais',\n",
    "    'MS': 'Mato Grosso do Sul',\n",
    "    'MT': 'Mato Grosso',\n",
    "    'PA': 'Pará',\n",
    "    'PB': 'Paraíba',\n",
    "    'PE': 'Pernambuco',\n",
    "    'PI': 'Piauí',\n",
    "    'PR': 'Paraná',\n",
    "    'RJ': 'Rio de Janeiro',\n",
    "    'RN': 'Rio Grande do Norte',\n",
    "    'RO': 'Rondônia',\n",
    "    'RR': 'Roraima',\n",
    "    'RS': 'Rio Grande do Sul',\n",
    "    'SC': 'Santa Catarina',\n",
    "    'SE': 'Sergipe',\n",
    "    'SP': 'São Paulo',\n",
    "    'TO': 'Tocantins'\n",
    "}\n",
    "\n",
    "customers_df['customer_state'] = customers_df['customer_state'].map(state_mapping)\n",
    "customers_df.head(2)\n"
   ]
  },
  {
   "cell_type": "markdown",
   "metadata": {
    "id": "icBeOlfSDrxB"
   },
   "source": [
    "#### Konversi Tipe Data dan Penanganan Nilai Hilang orders_dataset.csv"
   ]
  },
  {
   "cell_type": "code",
   "execution_count": 31,
   "metadata": {
    "id": "jVnYpprE9Evz"
   },
   "outputs": [],
   "source": [
    "orders_df['order_purchase_timestamp'] = pd.to_datetime(orders_df['order_purchase_timestamp'])\n",
    "orders_df['order_approved_at'] = pd.to_datetime(orders_df['order_approved_at'])\n",
    "orders_df['order_delivered_carrier_date'] = pd.to_datetime(orders_df['order_delivered_carrier_date'])\n",
    "orders_df['order_delivered_customer_date'] = pd.to_datetime(orders_df['order_delivered_customer_date'])\n",
    "orders_df['order_estimated_delivery_date'] = pd.to_datetime(orders_df['order_estimated_delivery_date'])\n",
    "\n",
    "\n",
    "orders_df = orders_df[orders_df['order_approved_at'].notna()]\n",
    "\n",
    "\n",
    "orders_df = orders_df[orders_df['order_delivered_customer_date'].notna()]\n",
    "orders_df = orders_df[orders_df['order_delivered_carrier_date'].notna()]\n"
   ]
  },
  {
   "cell_type": "code",
   "execution_count": 32,
   "metadata": {
    "colab": {
     "base_uri": "https://localhost:8080/",
     "height": 0
    },
    "id": "HBgpYxVSDzs6",
    "outputId": "ecde6d01-37ad-4385-f443-286b04276abb"
   },
   "outputs": [
    {
     "data": {
      "text/plain": [
       "order_id                         0\n",
       "customer_id                      0\n",
       "order_status                     0\n",
       "order_purchase_timestamp         0\n",
       "order_approved_at                0\n",
       "order_delivered_carrier_date     0\n",
       "order_delivered_customer_date    0\n",
       "order_estimated_delivery_date    0\n",
       "dtype: int64"
      ]
     },
     "execution_count": 32,
     "metadata": {},
     "output_type": "execute_result"
    }
   ],
   "source": [
    "orders_df.isnull().sum()"
   ]
  },
  {
   "cell_type": "code",
   "execution_count": 33,
   "metadata": {
    "colab": {
     "base_uri": "https://localhost:8080/"
    },
    "id": "PSPG0hNOURAN",
    "outputId": "0cbb6aff-9375-4ac2-dd3f-561330633dfa"
   },
   "outputs": [
    {
     "name": "stdout",
     "output_type": "stream",
     "text": [
      "<class 'pandas.core.frame.DataFrame'>\n",
      "Index: 96461 entries, 0 to 99440\n",
      "Data columns (total 8 columns):\n",
      " #   Column                         Non-Null Count  Dtype         \n",
      "---  ------                         --------------  -----         \n",
      " 0   order_id                       96461 non-null  object        \n",
      " 1   customer_id                    96461 non-null  object        \n",
      " 2   order_status                   96461 non-null  object        \n",
      " 3   order_purchase_timestamp       96461 non-null  datetime64[ns]\n",
      " 4   order_approved_at              96461 non-null  datetime64[ns]\n",
      " 5   order_delivered_carrier_date   96461 non-null  datetime64[ns]\n",
      " 6   order_delivered_customer_date  96461 non-null  datetime64[ns]\n",
      " 7   order_estimated_delivery_date  96461 non-null  datetime64[ns]\n",
      "dtypes: datetime64[ns](5), object(3)\n",
      "memory usage: 6.6+ MB\n"
     ]
    }
   ],
   "source": [
    "orders_df.info()"
   ]
  },
  {
   "cell_type": "markdown",
   "metadata": {
    "id": "dZqMjWg2D8GO"
   },
   "source": [
    "#### Imputasi Nilai Hilang dan Konversi Tipe Data products_dataset.csv"
   ]
  },
  {
   "cell_type": "code",
   "execution_count": 34,
   "metadata": {
    "colab": {
     "base_uri": "https://localhost:8080/"
    },
    "id": "Z_jvvtI7N8-P",
    "outputId": "2791b5c0-cd18-4a39-c6fb-3e6d6721958f"
   },
   "outputs": [
    {
     "name": "stderr",
     "output_type": "stream",
     "text": [
      "C:\\Users\\haldies\\AppData\\Local\\Temp\\ipykernel_32220\\528359164.py:1: FutureWarning: A value is trying to be set on a copy of a DataFrame or Series through chained assignment using an inplace method.\n",
      "The behavior will change in pandas 3.0. This inplace method will never work because the intermediate object on which we are setting values always behaves as a copy.\n",
      "\n",
      "For example, when doing 'df[col].method(value, inplace=True)', try using 'df.method({col: value}, inplace=True)' or df[col] = df[col].method(value) instead, to perform the operation inplace on the original object.\n",
      "\n",
      "\n",
      "  products_df['product_category_name'].fillna(products_df['product_category_name'].mode()[0], inplace=True)\n",
      "C:\\Users\\haldies\\AppData\\Local\\Temp\\ipykernel_32220\\528359164.py:2: FutureWarning: A value is trying to be set on a copy of a DataFrame or Series through chained assignment using an inplace method.\n",
      "The behavior will change in pandas 3.0. This inplace method will never work because the intermediate object on which we are setting values always behaves as a copy.\n",
      "\n",
      "For example, when doing 'df[col].method(value, inplace=True)', try using 'df.method({col: value}, inplace=True)' or df[col] = df[col].method(value) instead, to perform the operation inplace on the original object.\n",
      "\n",
      "\n",
      "  products_df['product_name_lenght'].fillna(products_df['product_name_lenght'].mean(), inplace=True)\n",
      "C:\\Users\\haldies\\AppData\\Local\\Temp\\ipykernel_32220\\528359164.py:3: FutureWarning: A value is trying to be set on a copy of a DataFrame or Series through chained assignment using an inplace method.\n",
      "The behavior will change in pandas 3.0. This inplace method will never work because the intermediate object on which we are setting values always behaves as a copy.\n",
      "\n",
      "For example, when doing 'df[col].method(value, inplace=True)', try using 'df.method({col: value}, inplace=True)' or df[col] = df[col].method(value) instead, to perform the operation inplace on the original object.\n",
      "\n",
      "\n",
      "  products_df['product_description_lenght'].fillna(products_df['product_description_lenght'].mean(), inplace=True)\n",
      "C:\\Users\\haldies\\AppData\\Local\\Temp\\ipykernel_32220\\528359164.py:4: FutureWarning: A value is trying to be set on a copy of a DataFrame or Series through chained assignment using an inplace method.\n",
      "The behavior will change in pandas 3.0. This inplace method will never work because the intermediate object on which we are setting values always behaves as a copy.\n",
      "\n",
      "For example, when doing 'df[col].method(value, inplace=True)', try using 'df.method({col: value}, inplace=True)' or df[col] = df[col].method(value) instead, to perform the operation inplace on the original object.\n",
      "\n",
      "\n",
      "  products_df['product_photos_qty'].fillna(products_df['product_photos_qty'].mean(), inplace=True)\n",
      "C:\\Users\\haldies\\AppData\\Local\\Temp\\ipykernel_32220\\528359164.py:6: FutureWarning: A value is trying to be set on a copy of a DataFrame or Series through chained assignment using an inplace method.\n",
      "The behavior will change in pandas 3.0. This inplace method will never work because the intermediate object on which we are setting values always behaves as a copy.\n",
      "\n",
      "For example, when doing 'df[col].method(value, inplace=True)', try using 'df.method({col: value}, inplace=True)' or df[col] = df[col].method(value) instead, to perform the operation inplace on the original object.\n",
      "\n",
      "\n",
      "  products_df['product_weight_g'].fillna(products_df['product_weight_g'].mean(), inplace=True)\n",
      "C:\\Users\\haldies\\AppData\\Local\\Temp\\ipykernel_32220\\528359164.py:7: FutureWarning: A value is trying to be set on a copy of a DataFrame or Series through chained assignment using an inplace method.\n",
      "The behavior will change in pandas 3.0. This inplace method will never work because the intermediate object on which we are setting values always behaves as a copy.\n",
      "\n",
      "For example, when doing 'df[col].method(value, inplace=True)', try using 'df.method({col: value}, inplace=True)' or df[col] = df[col].method(value) instead, to perform the operation inplace on the original object.\n",
      "\n",
      "\n",
      "  products_df['product_length_cm'].fillna(products_df['product_length_cm'].mean(), inplace=True)\n",
      "C:\\Users\\haldies\\AppData\\Local\\Temp\\ipykernel_32220\\528359164.py:8: FutureWarning: A value is trying to be set on a copy of a DataFrame or Series through chained assignment using an inplace method.\n",
      "The behavior will change in pandas 3.0. This inplace method will never work because the intermediate object on which we are setting values always behaves as a copy.\n",
      "\n",
      "For example, when doing 'df[col].method(value, inplace=True)', try using 'df.method({col: value}, inplace=True)' or df[col] = df[col].method(value) instead, to perform the operation inplace on the original object.\n",
      "\n",
      "\n",
      "  products_df['product_height_cm'].fillna(products_df['product_height_cm'].mean(), inplace=True)\n",
      "C:\\Users\\haldies\\AppData\\Local\\Temp\\ipykernel_32220\\528359164.py:9: FutureWarning: A value is trying to be set on a copy of a DataFrame or Series through chained assignment using an inplace method.\n",
      "The behavior will change in pandas 3.0. This inplace method will never work because the intermediate object on which we are setting values always behaves as a copy.\n",
      "\n",
      "For example, when doing 'df[col].method(value, inplace=True)', try using 'df.method({col: value}, inplace=True)' or df[col] = df[col].method(value) instead, to perform the operation inplace on the original object.\n",
      "\n",
      "\n",
      "  products_df['product_width_cm'].fillna(products_df['product_width_cm'].mean(), inplace=True)\n"
     ]
    }
   ],
   "source": [
    "products_df['product_category_name'].fillna(products_df['product_category_name'].mode()[0], inplace=True)\n",
    "products_df['product_name_lenght'].fillna(products_df['product_name_lenght'].mean(), inplace=True)\n",
    "products_df['product_description_lenght'].fillna(products_df['product_description_lenght'].mean(), inplace=True)\n",
    "products_df['product_photos_qty'].fillna(products_df['product_photos_qty'].mean(), inplace=True)\n",
    "\n",
    "products_df['product_weight_g'].fillna(products_df['product_weight_g'].mean(), inplace=True)\n",
    "products_df['product_length_cm'].fillna(products_df['product_length_cm'].mean(), inplace=True)\n",
    "products_df['product_height_cm'].fillna(products_df['product_height_cm'].mean(), inplace=True)\n",
    "products_df['product_width_cm'].fillna(products_df['product_width_cm'].mean(), inplace=True)\n",
    "\n",
    "\n"
   ]
  },
  {
   "cell_type": "code",
   "execution_count": 35,
   "metadata": {
    "colab": {
     "base_uri": "https://localhost:8080/"
    },
    "id": "osTmObmF8XIU",
    "outputId": "7449bd5d-0309-4e67-da1c-b298e2892784"
   },
   "outputs": [
    {
     "name": "stdout",
     "output_type": "stream",
     "text": [
      "product_id                    0\n",
      "product_category_name         0\n",
      "product_name_lenght           0\n",
      "product_description_lenght    0\n",
      "product_photos_qty            0\n",
      "product_weight_g              0\n",
      "product_length_cm             0\n",
      "product_height_cm             0\n",
      "product_width_cm              0\n",
      "dtype: int64\n"
     ]
    }
   ],
   "source": [
    "print(products_df.isnull().sum())"
   ]
  },
  {
   "cell_type": "markdown",
   "metadata": {
    "id": "gpxfd4mSHuP9"
   },
   "source": []
  },
  {
   "cell_type": "code",
   "execution_count": 36,
   "metadata": {
    "id": "N1Ac8Y04kfqT"
   },
   "outputs": [],
   "source": [
    "# Mengonversi kolom jika diperlukan\n",
    "# Misalnya, jika product_name_lenght dan lainnya seharusnya menjadi integer, kita bisa melakukan\n",
    "products_df['product_name_lenght'] = products_df['product_name_lenght'].astype(int)\n",
    "products_df['product_description_lenght'] = products_df['product_description_lenght'].astype(int)\n",
    "products_df['product_photos_qty'] = products_df['product_photos_qty'].astype(int)\n"
   ]
  },
  {
   "cell_type": "code",
   "execution_count": 37,
   "metadata": {
    "colab": {
     "base_uri": "https://localhost:8080/"
    },
    "id": "OptcbDrR8bBY",
    "outputId": "11dcda36-34ef-4bba-aa95-74dc5828ce7c"
   },
   "outputs": [
    {
     "name": "stdout",
     "output_type": "stream",
     "text": [
      "<class 'pandas.core.frame.DataFrame'>\n",
      "RangeIndex: 32951 entries, 0 to 32950\n",
      "Data columns (total 9 columns):\n",
      " #   Column                      Non-Null Count  Dtype  \n",
      "---  ------                      --------------  -----  \n",
      " 0   product_id                  32951 non-null  object \n",
      " 1   product_category_name       32951 non-null  object \n",
      " 2   product_name_lenght         32951 non-null  int64  \n",
      " 3   product_description_lenght  32951 non-null  int64  \n",
      " 4   product_photos_qty          32951 non-null  int64  \n",
      " 5   product_weight_g            32951 non-null  float64\n",
      " 6   product_length_cm           32951 non-null  float64\n",
      " 7   product_height_cm           32951 non-null  float64\n",
      " 8   product_width_cm            32951 non-null  float64\n",
      "dtypes: float64(4), int64(3), object(2)\n",
      "memory usage: 2.3+ MB\n"
     ]
    }
   ],
   "source": [
    "products_df.info()"
   ]
  },
  {
   "cell_type": "markdown",
   "metadata": {
    "id": "Aw-pu_Ogd9lv"
   },
   "source": [
    "#### membersihkan data dan mengganti nama kategori produk dari product_category_name ke product_category_name_english"
   ]
  },
  {
   "cell_type": "code",
   "execution_count": 38,
   "metadata": {
    "id": "Yo_s14hNdAqW"
   },
   "outputs": [],
   "source": [
    "# Menggabungkan DataFrame products_df dengan products_category_translation_df\n",
    "products_df = pd.merge(\n",
    "    products_df,\n",
    "    products_category_translation_df[['product_category_name', 'product_category_name_english']],\n",
    "    on='product_category_name',\n",
    "    how='left'  # menggunakan left join agar semua produk tetap ada\n",
    ")\n",
    "\n",
    "# Mengganti nama kolom product_category_name dengan product_category_name_english\n",
    "products_df['product_category_name'] = products_df['product_category_name_english']\n",
    "\n",
    "# Menghapus kolom yang tidak diperlukan\n",
    "products_df.drop(columns=['product_category_name_english'], inplace=True)"
   ]
  },
  {
   "cell_type": "code",
   "execution_count": 39,
   "metadata": {
    "colab": {
     "base_uri": "https://localhost:8080/",
     "height": 0
    },
    "id": "qMSymt2IfUJO",
    "outputId": "02192cb7-edf5-4603-8c4a-6c77567ef132"
   },
   "outputs": [
    {
     "data": {
      "text/html": [
       "<div>\n",
       "<style scoped>\n",
       "    .dataframe tbody tr th:only-of-type {\n",
       "        vertical-align: middle;\n",
       "    }\n",
       "\n",
       "    .dataframe tbody tr th {\n",
       "        vertical-align: top;\n",
       "    }\n",
       "\n",
       "    .dataframe thead th {\n",
       "        text-align: right;\n",
       "    }\n",
       "</style>\n",
       "<table border=\"1\" class=\"dataframe\">\n",
       "  <thead>\n",
       "    <tr style=\"text-align: right;\">\n",
       "      <th></th>\n",
       "      <th>product_id</th>\n",
       "      <th>product_category_name</th>\n",
       "      <th>product_name_lenght</th>\n",
       "      <th>product_description_lenght</th>\n",
       "      <th>product_photos_qty</th>\n",
       "      <th>product_weight_g</th>\n",
       "      <th>product_length_cm</th>\n",
       "      <th>product_height_cm</th>\n",
       "      <th>product_width_cm</th>\n",
       "    </tr>\n",
       "  </thead>\n",
       "  <tbody>\n",
       "    <tr>\n",
       "      <th>27401</th>\n",
       "      <td>fdd209e106931a894807cb3a076e8752</td>\n",
       "      <td>housewares</td>\n",
       "      <td>40</td>\n",
       "      <td>545</td>\n",
       "      <td>2</td>\n",
       "      <td>2100.0</td>\n",
       "      <td>48.0</td>\n",
       "      <td>25.0</td>\n",
       "      <td>25.0</td>\n",
       "    </tr>\n",
       "    <tr>\n",
       "      <th>29363</th>\n",
       "      <td>1347d4320dcd0acd750e37bb3d94a918</td>\n",
       "      <td>home_appliances</td>\n",
       "      <td>54</td>\n",
       "      <td>780</td>\n",
       "      <td>5</td>\n",
       "      <td>7600.0</td>\n",
       "      <td>30.0</td>\n",
       "      <td>50.0</td>\n",
       "      <td>40.0</td>\n",
       "    </tr>\n",
       "    <tr>\n",
       "      <th>16601</th>\n",
       "      <td>2eb705094d8383cfa50e8965dddc8a7e</td>\n",
       "      <td>books_general_interest</td>\n",
       "      <td>39</td>\n",
       "      <td>2244</td>\n",
       "      <td>1</td>\n",
       "      <td>1250.0</td>\n",
       "      <td>28.0</td>\n",
       "      <td>5.0</td>\n",
       "      <td>22.0</td>\n",
       "    </tr>\n",
       "    <tr>\n",
       "      <th>1817</th>\n",
       "      <td>ffb2e8c1ddc7c3e590d2bc4c91de53e1</td>\n",
       "      <td>furniture_decor</td>\n",
       "      <td>43</td>\n",
       "      <td>534</td>\n",
       "      <td>1</td>\n",
       "      <td>600.0</td>\n",
       "      <td>65.0</td>\n",
       "      <td>2.0</td>\n",
       "      <td>13.0</td>\n",
       "    </tr>\n",
       "    <tr>\n",
       "      <th>7557</th>\n",
       "      <td>24decea9d84c24b8c6c53a2df90066e9</td>\n",
       "      <td>bed_bath_table</td>\n",
       "      <td>46</td>\n",
       "      <td>352</td>\n",
       "      <td>2</td>\n",
       "      <td>550.0</td>\n",
       "      <td>50.0</td>\n",
       "      <td>11.0</td>\n",
       "      <td>11.0</td>\n",
       "    </tr>\n",
       "    <tr>\n",
       "      <th>3106</th>\n",
       "      <td>a916a0b56448758409cb1147fa3d1f8b</td>\n",
       "      <td>luggage_accessories</td>\n",
       "      <td>49</td>\n",
       "      <td>905</td>\n",
       "      <td>6</td>\n",
       "      <td>575.0</td>\n",
       "      <td>44.0</td>\n",
       "      <td>8.0</td>\n",
       "      <td>33.0</td>\n",
       "    </tr>\n",
       "    <tr>\n",
       "      <th>263</th>\n",
       "      <td>25cdef5b1428725aa16b8b9a6fbd72ca</td>\n",
       "      <td>industry_commerce_and_business</td>\n",
       "      <td>58</td>\n",
       "      <td>1058</td>\n",
       "      <td>1</td>\n",
       "      <td>1200.0</td>\n",
       "      <td>30.0</td>\n",
       "      <td>20.0</td>\n",
       "      <td>30.0</td>\n",
       "    </tr>\n",
       "    <tr>\n",
       "      <th>19495</th>\n",
       "      <td>6a9f754fa948a2f0304ee2b75f801da6</td>\n",
       "      <td>toys</td>\n",
       "      <td>38</td>\n",
       "      <td>436</td>\n",
       "      <td>1</td>\n",
       "      <td>550.0</td>\n",
       "      <td>28.0</td>\n",
       "      <td>6.0</td>\n",
       "      <td>15.0</td>\n",
       "    </tr>\n",
       "    <tr>\n",
       "      <th>13231</th>\n",
       "      <td>22914988306f1235a3e5fff32403d205</td>\n",
       "      <td>auto</td>\n",
       "      <td>41</td>\n",
       "      <td>1146</td>\n",
       "      <td>1</td>\n",
       "      <td>4000.0</td>\n",
       "      <td>65.0</td>\n",
       "      <td>25.0</td>\n",
       "      <td>25.0</td>\n",
       "    </tr>\n",
       "    <tr>\n",
       "      <th>1264</th>\n",
       "      <td>45f68d6b5c1bdaeb13882fdcb62e4e47</td>\n",
       "      <td>baby</td>\n",
       "      <td>57</td>\n",
       "      <td>1644</td>\n",
       "      <td>3</td>\n",
       "      <td>500.0</td>\n",
       "      <td>23.0</td>\n",
       "      <td>33.0</td>\n",
       "      <td>11.0</td>\n",
       "    </tr>\n",
       "  </tbody>\n",
       "</table>\n",
       "</div>"
      ],
      "text/plain": [
       "                             product_id           product_category_name  \\\n",
       "27401  fdd209e106931a894807cb3a076e8752                      housewares   \n",
       "29363  1347d4320dcd0acd750e37bb3d94a918                 home_appliances   \n",
       "16601  2eb705094d8383cfa50e8965dddc8a7e          books_general_interest   \n",
       "1817   ffb2e8c1ddc7c3e590d2bc4c91de53e1                 furniture_decor   \n",
       "7557   24decea9d84c24b8c6c53a2df90066e9                  bed_bath_table   \n",
       "3106   a916a0b56448758409cb1147fa3d1f8b             luggage_accessories   \n",
       "263    25cdef5b1428725aa16b8b9a6fbd72ca  industry_commerce_and_business   \n",
       "19495  6a9f754fa948a2f0304ee2b75f801da6                            toys   \n",
       "13231  22914988306f1235a3e5fff32403d205                            auto   \n",
       "1264   45f68d6b5c1bdaeb13882fdcb62e4e47                            baby   \n",
       "\n",
       "       product_name_lenght  product_description_lenght  product_photos_qty  \\\n",
       "27401                   40                         545                   2   \n",
       "29363                   54                         780                   5   \n",
       "16601                   39                        2244                   1   \n",
       "1817                    43                         534                   1   \n",
       "7557                    46                         352                   2   \n",
       "3106                    49                         905                   6   \n",
       "263                     58                        1058                   1   \n",
       "19495                   38                         436                   1   \n",
       "13231                   41                        1146                   1   \n",
       "1264                    57                        1644                   3   \n",
       "\n",
       "       product_weight_g  product_length_cm  product_height_cm  \\\n",
       "27401            2100.0               48.0               25.0   \n",
       "29363            7600.0               30.0               50.0   \n",
       "16601            1250.0               28.0                5.0   \n",
       "1817              600.0               65.0                2.0   \n",
       "7557              550.0               50.0               11.0   \n",
       "3106              575.0               44.0                8.0   \n",
       "263              1200.0               30.0               20.0   \n",
       "19495             550.0               28.0                6.0   \n",
       "13231            4000.0               65.0               25.0   \n",
       "1264              500.0               23.0               33.0   \n",
       "\n",
       "       product_width_cm  \n",
       "27401              25.0  \n",
       "29363              40.0  \n",
       "16601              22.0  \n",
       "1817               13.0  \n",
       "7557               11.0  \n",
       "3106               33.0  \n",
       "263                30.0  \n",
       "19495              15.0  \n",
       "13231              25.0  \n",
       "1264               11.0  "
      ]
     },
     "execution_count": 39,
     "metadata": {},
     "output_type": "execute_result"
    }
   ],
   "source": [
    "products_df.sample(10)"
   ]
  },
  {
   "cell_type": "code",
   "execution_count": 40,
   "metadata": {
    "colab": {
     "base_uri": "https://localhost:8080/",
     "height": 0
    },
    "id": "3yQoMrlMe07a",
    "outputId": "dcf7bf10-3e4a-4ac0-eaeb-49e8b05bff95"
   },
   "outputs": [
    {
     "data": {
      "text/html": [
       "<div>\n",
       "<style scoped>\n",
       "    .dataframe tbody tr th:only-of-type {\n",
       "        vertical-align: middle;\n",
       "    }\n",
       "\n",
       "    .dataframe tbody tr th {\n",
       "        vertical-align: top;\n",
       "    }\n",
       "\n",
       "    .dataframe thead th {\n",
       "        text-align: right;\n",
       "    }\n",
       "</style>\n",
       "<table border=\"1\" class=\"dataframe\">\n",
       "  <thead>\n",
       "    <tr style=\"text-align: right;\">\n",
       "      <th></th>\n",
       "      <th>product_category_name</th>\n",
       "      <th>product_category_name_english</th>\n",
       "    </tr>\n",
       "  </thead>\n",
       "  <tbody>\n",
       "    <tr>\n",
       "      <th>0</th>\n",
       "      <td>beleza_saude</td>\n",
       "      <td>health_beauty</td>\n",
       "    </tr>\n",
       "    <tr>\n",
       "      <th>1</th>\n",
       "      <td>informatica_acessorios</td>\n",
       "      <td>computers_accessories</td>\n",
       "    </tr>\n",
       "    <tr>\n",
       "      <th>2</th>\n",
       "      <td>automotivo</td>\n",
       "      <td>auto</td>\n",
       "    </tr>\n",
       "    <tr>\n",
       "      <th>3</th>\n",
       "      <td>cama_mesa_banho</td>\n",
       "      <td>bed_bath_table</td>\n",
       "    </tr>\n",
       "    <tr>\n",
       "      <th>4</th>\n",
       "      <td>moveis_decoracao</td>\n",
       "      <td>furniture_decor</td>\n",
       "    </tr>\n",
       "  </tbody>\n",
       "</table>\n",
       "</div>"
      ],
      "text/plain": [
       "    product_category_name product_category_name_english\n",
       "0            beleza_saude                 health_beauty\n",
       "1  informatica_acessorios         computers_accessories\n",
       "2              automotivo                          auto\n",
       "3         cama_mesa_banho                bed_bath_table\n",
       "4        moveis_decoracao               furniture_decor"
      ]
     },
     "execution_count": 40,
     "metadata": {},
     "output_type": "execute_result"
    }
   ],
   "source": [
    "products_category_translation_df.head()"
   ]
  },
  {
   "cell_type": "markdown",
   "metadata": {
    "id": "gp-Y6wU38DC1"
   },
   "source": [
    "## Exploratory Data Analysis (EDA)"
   ]
  },
  {
   "cell_type": "markdown",
   "metadata": {
    "id": "PmsCJVeXOwCt"
   },
   "source": [
    "### Menganalisis penjualan produk berdasarkan kategori."
   ]
  },
  {
   "cell_type": "code",
   "execution_count": 41,
   "metadata": {
    "colab": {
     "base_uri": "https://localhost:8080/",
     "height": 196
    },
    "id": "vrkTlI1PMYb0",
    "outputId": "93e22154-a1a6-4bbd-c612-1a096c0dee18"
   },
   "outputs": [
    {
     "data": {
      "text/html": [
       "<div>\n",
       "<style scoped>\n",
       "    .dataframe tbody tr th:only-of-type {\n",
       "        vertical-align: middle;\n",
       "    }\n",
       "\n",
       "    .dataframe tbody tr th {\n",
       "        vertical-align: top;\n",
       "    }\n",
       "\n",
       "    .dataframe thead th {\n",
       "        text-align: right;\n",
       "    }\n",
       "</style>\n",
       "<table border=\"1\" class=\"dataframe\">\n",
       "  <thead>\n",
       "    <tr style=\"text-align: right;\">\n",
       "      <th></th>\n",
       "      <th>order_id</th>\n",
       "      <th>customer_id</th>\n",
       "      <th>order_status</th>\n",
       "      <th>order_purchase_timestamp</th>\n",
       "      <th>order_approved_at</th>\n",
       "      <th>order_delivered_carrier_date</th>\n",
       "      <th>order_delivered_customer_date</th>\n",
       "      <th>order_estimated_delivery_date</th>\n",
       "      <th>order_item_id</th>\n",
       "      <th>product_id</th>\n",
       "      <th>...</th>\n",
       "      <th>price</th>\n",
       "      <th>freight_value</th>\n",
       "      <th>product_category_name</th>\n",
       "      <th>product_name_lenght</th>\n",
       "      <th>product_description_lenght</th>\n",
       "      <th>product_photos_qty</th>\n",
       "      <th>product_weight_g</th>\n",
       "      <th>product_length_cm</th>\n",
       "      <th>product_height_cm</th>\n",
       "      <th>product_width_cm</th>\n",
       "    </tr>\n",
       "  </thead>\n",
       "  <tbody>\n",
       "    <tr>\n",
       "      <th>0</th>\n",
       "      <td>e481f51cbdc54678b7cc49136f2d6af7</td>\n",
       "      <td>9ef432eb6251297304e76186b10a928d</td>\n",
       "      <td>delivered</td>\n",
       "      <td>2017-10-02 10:56:33</td>\n",
       "      <td>2017-10-02 11:07:15</td>\n",
       "      <td>2017-10-04 19:55:00</td>\n",
       "      <td>2017-10-10 21:25:13</td>\n",
       "      <td>2017-10-18</td>\n",
       "      <td>1</td>\n",
       "      <td>87285b34884572647811a353c7ac498a</td>\n",
       "      <td>...</td>\n",
       "      <td>29.99</td>\n",
       "      <td>8.72</td>\n",
       "      <td>housewares</td>\n",
       "      <td>40</td>\n",
       "      <td>268</td>\n",
       "      <td>4</td>\n",
       "      <td>500.0</td>\n",
       "      <td>19.0</td>\n",
       "      <td>8.0</td>\n",
       "      <td>13.0</td>\n",
       "    </tr>\n",
       "    <tr>\n",
       "      <th>1</th>\n",
       "      <td>53cdb2fc8bc7dce0b6741e2150273451</td>\n",
       "      <td>b0830fb4747a6c6d20dea0b8c802d7ef</td>\n",
       "      <td>delivered</td>\n",
       "      <td>2018-07-24 20:41:37</td>\n",
       "      <td>2018-07-26 03:24:27</td>\n",
       "      <td>2018-07-26 14:31:00</td>\n",
       "      <td>2018-08-07 15:27:45</td>\n",
       "      <td>2018-08-13</td>\n",
       "      <td>1</td>\n",
       "      <td>595fac2a385ac33a80bd5114aec74eb8</td>\n",
       "      <td>...</td>\n",
       "      <td>118.70</td>\n",
       "      <td>22.76</td>\n",
       "      <td>perfumery</td>\n",
       "      <td>29</td>\n",
       "      <td>178</td>\n",
       "      <td>1</td>\n",
       "      <td>400.0</td>\n",
       "      <td>19.0</td>\n",
       "      <td>13.0</td>\n",
       "      <td>19.0</td>\n",
       "    </tr>\n",
       "  </tbody>\n",
       "</table>\n",
       "<p>2 rows × 22 columns</p>\n",
       "</div>"
      ],
      "text/plain": [
       "                           order_id                       customer_id  \\\n",
       "0  e481f51cbdc54678b7cc49136f2d6af7  9ef432eb6251297304e76186b10a928d   \n",
       "1  53cdb2fc8bc7dce0b6741e2150273451  b0830fb4747a6c6d20dea0b8c802d7ef   \n",
       "\n",
       "  order_status order_purchase_timestamp   order_approved_at  \\\n",
       "0    delivered      2017-10-02 10:56:33 2017-10-02 11:07:15   \n",
       "1    delivered      2018-07-24 20:41:37 2018-07-26 03:24:27   \n",
       "\n",
       "  order_delivered_carrier_date order_delivered_customer_date  \\\n",
       "0          2017-10-04 19:55:00           2017-10-10 21:25:13   \n",
       "1          2018-07-26 14:31:00           2018-08-07 15:27:45   \n",
       "\n",
       "  order_estimated_delivery_date  order_item_id  \\\n",
       "0                    2017-10-18              1   \n",
       "1                    2018-08-13              1   \n",
       "\n",
       "                         product_id  ...   price freight_value  \\\n",
       "0  87285b34884572647811a353c7ac498a  ...   29.99          8.72   \n",
       "1  595fac2a385ac33a80bd5114aec74eb8  ...  118.70         22.76   \n",
       "\n",
       "   product_category_name  product_name_lenght product_description_lenght  \\\n",
       "0             housewares                   40                        268   \n",
       "1              perfumery                   29                        178   \n",
       "\n",
       "   product_photos_qty  product_weight_g  product_length_cm  product_height_cm  \\\n",
       "0                   4             500.0               19.0                8.0   \n",
       "1                   1             400.0               19.0               13.0   \n",
       "\n",
       "   product_width_cm  \n",
       "0              13.0  \n",
       "1              19.0  \n",
       "\n",
       "[2 rows x 22 columns]"
      ]
     },
     "execution_count": 41,
     "metadata": {},
     "output_type": "execute_result"
    }
   ],
   "source": [
    "merged_df = pd.merge(orders_df, order_items_df, on='order_id')\n",
    "merged_df = pd.merge(merged_df, products_df, on='product_id')\n",
    "\n",
    "merged_df.head(2)"
   ]
  },
  {
   "cell_type": "code",
   "execution_count": 42,
   "metadata": {
    "colab": {
     "base_uri": "https://localhost:8080/",
     "height": 423
    },
    "id": "C-BcAkvEMa_G",
    "outputId": "c4c52946-f34d-487a-8590-1ac5fc7bde0d"
   },
   "outputs": [
    {
     "data": {
      "text/html": [
       "<div>\n",
       "<style scoped>\n",
       "    .dataframe tbody tr th:only-of-type {\n",
       "        vertical-align: middle;\n",
       "    }\n",
       "\n",
       "    .dataframe tbody tr th {\n",
       "        vertical-align: top;\n",
       "    }\n",
       "\n",
       "    .dataframe thead th {\n",
       "        text-align: right;\n",
       "    }\n",
       "</style>\n",
       "<table border=\"1\" class=\"dataframe\">\n",
       "  <thead>\n",
       "    <tr style=\"text-align: right;\">\n",
       "      <th></th>\n",
       "      <th>product_category_name</th>\n",
       "      <th>total_orders</th>\n",
       "    </tr>\n",
       "  </thead>\n",
       "  <tbody>\n",
       "    <tr>\n",
       "      <th>0</th>\n",
       "      <td>agro_industry_and_commerce</td>\n",
       "      <td>206</td>\n",
       "    </tr>\n",
       "    <tr>\n",
       "      <th>1</th>\n",
       "      <td>air_conditioning</td>\n",
       "      <td>289</td>\n",
       "    </tr>\n",
       "    <tr>\n",
       "      <th>2</th>\n",
       "      <td>art</td>\n",
       "      <td>197</td>\n",
       "    </tr>\n",
       "    <tr>\n",
       "      <th>3</th>\n",
       "      <td>arts_and_craftmanship</td>\n",
       "      <td>24</td>\n",
       "    </tr>\n",
       "    <tr>\n",
       "      <th>4</th>\n",
       "      <td>audio</td>\n",
       "      <td>362</td>\n",
       "    </tr>\n",
       "    <tr>\n",
       "      <th>...</th>\n",
       "      <td>...</td>\n",
       "      <td>...</td>\n",
       "    </tr>\n",
       "    <tr>\n",
       "      <th>66</th>\n",
       "      <td>stationery</td>\n",
       "      <td>2466</td>\n",
       "    </tr>\n",
       "    <tr>\n",
       "      <th>67</th>\n",
       "      <td>tablets_printing_image</td>\n",
       "      <td>83</td>\n",
       "    </tr>\n",
       "    <tr>\n",
       "      <th>68</th>\n",
       "      <td>telephony</td>\n",
       "      <td>4428</td>\n",
       "    </tr>\n",
       "    <tr>\n",
       "      <th>69</th>\n",
       "      <td>toys</td>\n",
       "      <td>4030</td>\n",
       "    </tr>\n",
       "    <tr>\n",
       "      <th>70</th>\n",
       "      <td>watches_gifts</td>\n",
       "      <td>5857</td>\n",
       "    </tr>\n",
       "  </tbody>\n",
       "</table>\n",
       "<p>71 rows × 2 columns</p>\n",
       "</div>"
      ],
      "text/plain": [
       "         product_category_name  total_orders\n",
       "0   agro_industry_and_commerce           206\n",
       "1             air_conditioning           289\n",
       "2                          art           197\n",
       "3        arts_and_craftmanship            24\n",
       "4                        audio           362\n",
       "..                         ...           ...\n",
       "66                  stationery          2466\n",
       "67      tablets_printing_image            83\n",
       "68                   telephony          4428\n",
       "69                        toys          4030\n",
       "70               watches_gifts          5857\n",
       "\n",
       "[71 rows x 2 columns]"
      ]
     },
     "execution_count": 42,
     "metadata": {},
     "output_type": "execute_result"
    }
   ],
   "source": [
    "category_sales = merged_df.groupby('product_category_name')['order_id'].count().reset_index()\n",
    "category_sales.columns = ['product_category_name', 'total_orders']\n",
    "category_sales"
   ]
  },
  {
   "cell_type": "code",
   "execution_count": 43,
   "metadata": {
    "colab": {
     "base_uri": "https://localhost:8080/"
    },
    "id": "xYTzbs0Ty-zU",
    "outputId": "c80b6f34-f97e-481f-a5cf-befd08a2be83"
   },
   "outputs": [
    {
     "name": "stdout",
     "output_type": "stream",
     "text": [
      "    product_category_name  total_orders\n",
      "7          bed_bath_table         12488\n",
      "43          health_beauty          9467\n",
      "65         sports_leisure          8429\n",
      "39        furniture_decor          8156\n",
      "15  computers_accessories          7643\n",
      "49             housewares          6795\n",
      "70          watches_gifts          5857\n",
      "68              telephony          4428\n",
      "42           garden_tools          4267\n",
      "5                    auto          4139\n"
     ]
    }
   ],
   "source": [
    "category_sales_sorted = category_sales.sort_values(by='total_orders', ascending=False)\n",
    "print(category_sales_sorted.head(10))"
   ]
  },
  {
   "cell_type": "code",
   "execution_count": 44,
   "metadata": {
    "colab": {
     "base_uri": "https://localhost:8080/"
    },
    "id": "4mmoqCJzzGXa",
    "outputId": "f698065c-9fec-4148-ff8f-b0a946f9e58d"
   },
   "outputs": [
    {
     "name": "stdout",
     "output_type": "stream",
     "text": [
      "                product_category_name  total_orders\n",
      "41  furniture_mattress_and_upholstery            37\n",
      "23                diapers_and_hygiene            37\n",
      "35                            flowers            33\n",
      "46                     home_comfort_2            30\n",
      "32                      fashion_sport            29\n",
      "3               arts_and_craftmanship            24\n",
      "52                         la_cuisine            14\n",
      "11                  cds_dvds_musicals            14\n",
      "29          fashion_childrens_clothes             7\n",
      "61              security_and_services             2\n"
     ]
    }
   ],
   "source": [
    "print(category_sales_sorted.tail(10))"
   ]
  },
  {
   "cell_type": "code",
   "execution_count": 45,
   "metadata": {
    "colab": {
     "base_uri": "https://localhost:8080/",
     "height": 962
    },
    "id": "6Z3dFUqi14ag",
    "outputId": "c28ab5ed-44ac-4d71-9a4f-4aaccf520638"
   },
   "outputs": [
    {
     "data": {
      "text/plain": [
       "customer_state\n",
       "São Paulo              41746\n",
       "Rio de Janeiro         12852\n",
       "Minas Gerais           11635\n",
       "Rio Grande do Sul       5466\n",
       "Paraná                  5045\n",
       "Santa Catarina          3637\n",
       "Bahia                   3380\n",
       "Distrito Federal        2140\n",
       "Espírito Santo          2033\n",
       "Goiás                   2020\n",
       "Pernambuco              1652\n",
       "Ceará                   1336\n",
       "Pará                     975\n",
       "Mato Grosso              907\n",
       "Maranhão                 747\n",
       "Mato Grosso do Sul       715\n",
       "Paraíba                  536\n",
       "Piauí                    495\n",
       "Rio Grande do Norte      485\n",
       "Alagoas                  413\n",
       "Sergipe                  350\n",
       "Tocantins                280\n",
       "Rondônia                 253\n",
       "Amazonas                 148\n",
       "Acre                      81\n",
       "Amapá                     68\n",
       "Roraima                   46\n",
       "Name: count, dtype: int64"
      ]
     },
     "execution_count": 45,
     "metadata": {},
     "output_type": "execute_result"
    }
   ],
   "source": [
    "customers_df['customer_state'].value_counts()"
   ]
  },
  {
   "cell_type": "code",
   "execution_count": 46,
   "metadata": {
    "colab": {
     "base_uri": "https://localhost:8080/",
     "height": 489
    },
    "id": "J0pzQQcx2BW-",
    "outputId": "0caa3d70-e168-4d40-b185-7639aa1ad2b2"
   },
   "outputs": [
    {
     "data": {
      "text/plain": [
       "customer_city\n",
       "Sao Paulo                15540\n",
       "Rio De Janeiro            6882\n",
       "Belo Horizonte            2773\n",
       "Brasilia                  2131\n",
       "Curitiba                  1521\n",
       "                         ...  \n",
       "Marques De Souza             1\n",
       "General Maynard              1\n",
       "Cerrito                      1\n",
       "Mocajuba                     1\n",
       "Governador Mangabeira        1\n",
       "Name: count, Length: 4119, dtype: int64"
      ]
     },
     "execution_count": 46,
     "metadata": {},
     "output_type": "execute_result"
    }
   ],
   "source": [
    "customers_df['customer_city'].value_counts()"
   ]
  },
  {
   "cell_type": "markdown",
   "metadata": {
    "id": "fd2Ie6jFPHP5"
   },
   "source": [
    "### Analisis Kinerja Bulanan Penjualan dan Omset Perusahaan"
   ]
  },
  {
   "cell_type": "code",
   "execution_count": 47,
   "metadata": {
    "colab": {
     "base_uri": "https://localhost:8080/"
    },
    "id": "191E2Edp4Pqh",
    "outputId": "d93274b5-dd73-46d2-a2d7-423c229e6edb"
   },
   "outputs": [
    {
     "name": "stdout",
     "output_type": "stream",
     "text": [
      "Merged DataFrame:\n",
      "                           order_id                       customer_id  \\\n",
      "0  e481f51cbdc54678b7cc49136f2d6af7  9ef432eb6251297304e76186b10a928d   \n",
      "1  e481f51cbdc54678b7cc49136f2d6af7  9ef432eb6251297304e76186b10a928d   \n",
      "2  e481f51cbdc54678b7cc49136f2d6af7  9ef432eb6251297304e76186b10a928d   \n",
      "3  53cdb2fc8bc7dce0b6741e2150273451  b0830fb4747a6c6d20dea0b8c802d7ef   \n",
      "4  47770eb9100c2d0c44946d9cf07ec65d  41ce2a54c0b03bf3443c3d931a367089   \n",
      "\n",
      "  order_status order_purchase_timestamp   order_approved_at  \\\n",
      "0    delivered      2017-10-02 10:56:33 2017-10-02 11:07:15   \n",
      "1    delivered      2017-10-02 10:56:33 2017-10-02 11:07:15   \n",
      "2    delivered      2017-10-02 10:56:33 2017-10-02 11:07:15   \n",
      "3    delivered      2018-07-24 20:41:37 2018-07-26 03:24:27   \n",
      "4    delivered      2018-08-08 08:38:49 2018-08-08 08:55:23   \n",
      "\n",
      "  order_delivered_carrier_date order_delivered_customer_date  \\\n",
      "0          2017-10-04 19:55:00           2017-10-10 21:25:13   \n",
      "1          2017-10-04 19:55:00           2017-10-10 21:25:13   \n",
      "2          2017-10-04 19:55:00           2017-10-10 21:25:13   \n",
      "3          2018-07-26 14:31:00           2018-08-07 15:27:45   \n",
      "4          2018-08-08 13:50:00           2018-08-17 18:06:29   \n",
      "\n",
      "  order_estimated_delivery_date  order_item_id  \\\n",
      "0                    2017-10-18              1   \n",
      "1                    2017-10-18              1   \n",
      "2                    2017-10-18              1   \n",
      "3                    2018-08-13              1   \n",
      "4                    2018-09-04              1   \n",
      "\n",
      "                         product_id                         seller_id  \\\n",
      "0  87285b34884572647811a353c7ac498a  3504c0cb71d7fa48d967e0e4c94d59d9   \n",
      "1  87285b34884572647811a353c7ac498a  3504c0cb71d7fa48d967e0e4c94d59d9   \n",
      "2  87285b34884572647811a353c7ac498a  3504c0cb71d7fa48d967e0e4c94d59d9   \n",
      "3  595fac2a385ac33a80bd5114aec74eb8  289cdb325fb7e7f891c38608bf9e0962   \n",
      "4  aa4383b373c6aca5d8797843e5594415  4869f7a5dfa277a7dca6462dcf3b52b2   \n",
      "\n",
      "   shipping_limit_date   price  freight_value  payment_sequential  \\\n",
      "0  2017-10-06 11:07:15   29.99           8.72                   1   \n",
      "1  2017-10-06 11:07:15   29.99           8.72                   3   \n",
      "2  2017-10-06 11:07:15   29.99           8.72                   2   \n",
      "3  2018-07-30 03:24:27  118.70          22.76                   1   \n",
      "4  2018-08-13 08:55:23  159.90          19.22                   1   \n",
      "\n",
      "  payment_type  payment_installments  payment_value  \n",
      "0  credit_card                     1          18.12  \n",
      "1      voucher                     1           2.00  \n",
      "2      voucher                     1          18.59  \n",
      "3       boleto                     1         141.46  \n",
      "4  credit_card                     3         179.12   \n",
      "\n",
      "DataFrame setelah konversi timestamp:\n",
      "  order_purchase_timestamp month_year\n",
      "0      2017-10-02 10:56:33    2017-10\n",
      "1      2017-10-02 10:56:33    2017-10\n",
      "2      2017-10-02 10:56:33    2017-10\n",
      "3      2018-07-24 20:41:37    2018-07\n",
      "4      2018-08-08 08:38:49    2018-08 \n",
      "\n",
      "Monthly Performance:\n",
      "   month_year  total_sales  total_revenue\n",
      "0     2016-10          336       62591.65\n",
      "1     2016-12            1          19.62\n",
      "2     2017-01          961      176376.56\n",
      "3     2017-02         1949      323815.95\n",
      "4     2017-03         3078      505735.83\n",
      "5     2017-04         2707      456108.32\n",
      "6     2017-05         4260      701119.60\n",
      "7     2017-06         3687      585400.98\n",
      "8     2017-07         4726      716069.98\n",
      "9     2017-08         5053      842689.94\n",
      "10    2017-09         5002      996085.61\n",
      "11    2017-10         5455      998609.62\n",
      "12    2017-11         8812     1548547.86\n",
      "13    2017-12         6440     1020067.26\n",
      "14    2018-01         8364     1374064.02\n",
      "15    2018-02         7766     1280014.54\n",
      "16    2018-03         8337     1435458.33\n",
      "17    2018-04         8112     1466607.15\n",
      "18    2018-05         8104     1480667.59\n",
      "19    2018-06         7318     1285396.78\n",
      "20    2018-07         7196     1306707.42\n",
      "21    2018-08         7354     1211240.09 \n",
      "\n"
     ]
    }
   ],
   "source": [
    "merged_df = orders_df.merge(order_items_df, on='order_id').merge(payments_df, on='order_id')\n",
    "\n",
    "print(\"Merged DataFrame:\")\n",
    "print(merged_df.head(), \"\\n\")\n",
    "\n",
    "merged_df['order_purchase_timestamp'] = pd.to_datetime(merged_df['order_purchase_timestamp'])\n",
    "merged_df['month_year'] = merged_df['order_purchase_timestamp'].dt.to_period('M')\n",
    "\n",
    "\n",
    "print(\"DataFrame setelah konversi timestamp:\")\n",
    "print(merged_df[['order_purchase_timestamp', 'month_year']].head(), \"\\n\")\n",
    "\n",
    "\n",
    "monthly_performance = merged_df.groupby('month_year').agg(\n",
    "    total_sales=('order_id', 'count'),  # Jumlah order\n",
    "    total_revenue=('payment_value', 'sum')  # Total omset\n",
    ").reset_index()\n",
    "\n",
    "print(\"Monthly Performance:\")\n",
    "print(monthly_performance, \"\\n\")"
   ]
  },
  {
   "cell_type": "markdown",
   "metadata": {
    "id": "R6sEb7MC4xEB"
   },
   "source": [
    "insight :\n",
    "1. Tren Penjualan dan Omset\n",
    "* Peningkatan Penjualan: Dari data, terlihat bahwa jumlah total penjualan (total_sales) menunjukkan tren yang meningkat dari bulan ke bulan, terutama dari tahun 2017 hingga pertengahan 2018. Misalnya, penjualan meningkat signifikan dari 3.078 pada Maret 2017 menjadi 8.812 pada November 2017.\n",
    "* Kenaikan Omset: Omset (total_revenue) juga menunjukkan peningkatan yang sejalan dengan peningkatan jumlah penjualan. Pada bulan yang sama, total_revenue menunjukkan pertumbuhan yang konsisten, mencerminkan bahwa penjualan tidak hanya meningkat dalam jumlah tetapi juga dalam nilai.\n"
   ]
  },
  {
   "cell_type": "code",
   "execution_count": 48,
   "metadata": {
    "colab": {
     "base_uri": "https://localhost:8080/"
    },
    "id": "ppzjnalN5Rsj",
    "outputId": "073775fa-e8db-4a33-c668-c0bfe163b2e8"
   },
   "outputs": [
    {
     "name": "stdout",
     "output_type": "stream",
     "text": [
      "Statistik Deskriptif Pelanggan:\n",
      "                      customer_unique_id customer_city customer_state\n",
      "count                              96461         96461          96461\n",
      "unique                             93342          4085             27\n",
      "top     8d50f5eadf50201ccdcedfb9e2ac8455     Sao Paulo      São Paulo\n",
      "freq                                  15         15044          40489\n"
     ]
    }
   ],
   "source": [
    "\n",
    "df_merged = orders_df.merge(customers_df, on='customer_id', how='left')\n",
    "\n",
    "\n",
    "print(\"Statistik Deskriptif Pelanggan:\")\n",
    "print(df_merged[['customer_unique_id', 'customer_city', 'customer_state']].describe(include='all'))"
   ]
  },
  {
   "cell_type": "markdown",
   "metadata": {
    "id": "2zVyl3qg55It"
   },
   "source": [
    "**Kota Pelanggan:**\n",
    "\n",
    "* Total Kota Berbeda: Ada 4.085 kota yang terwakili dalam data, menunjukkan jangkauan geografis yang luas.\n",
    "* Kota Terpopuler: Kota yang paling banyak memiliki pelanggan adalah Sao Paulo dengan 15.044 entri. Ini menunjukkan bahwa Sao Paulo adalah pusat utama untuk basis pelanggan Anda, yang mungkin menarik untuk kegiatan pemasaran dan promosi.\n",
    "\n",
    "**Provinsi Pelanggan:**\n",
    "\n",
    "* Total Negara: Terdapat 27 Negara, dengan São Paulo sebagai provinsi yang paling banyak memiliki pelanggan (40.489 entri).\n",
    "* Dominasi Negara: Dominasi São Paulo sebagai Negara dengan pelanggan terbanyak menunjukkan potensi besar untuk pertumbuhan di area ini, serta pentingnya mempertimbangkan strategi pemasaran yang ditargetkan di wilayah ini."
   ]
  },
  {
   "cell_type": "markdown",
   "metadata": {
    "id": "zsyZjqak8DC2"
   },
   "source": [
    "## Visualization & Explanatory Analysis"
   ]
  },
  {
   "cell_type": "markdown",
   "metadata": {
    "id": "HZxOiQ6n8DC2"
   },
   "source": [
    "### 1: kategori Produk apa yang penjualan tertinggi dan terendah?"
   ]
  },
  {
   "cell_type": "code",
   "execution_count": 49,
   "metadata": {
    "colab": {
     "base_uri": "https://localhost:8080/",
     "height": 377
    },
    "id": "dioLewQuJ-v1",
    "outputId": "cac9a063-5081-401a-cb35-96cadd29e3c9"
   },
   "outputs": [
    {
     "data": {
      "image/png": "[encoded data removed]",
      "text/plain": [
       "<Figure size 1200x600 with 2 Axes>"
      ]
     },
     "metadata": {},
     "output_type": "display_data"
    }
   ],
   "source": [
    "\n",
    "top_10_categories = category_sales_sorted.head(10)\n",
    "bottom_10_categories = category_sales_sorted.tail(10)\n",
    "\n",
    "plt.figure(figsize=(12, 6))\n",
    "\n",
    "plt.subplot(1, 2, 1)\n",
    "plt.bar(top_10_categories['product_category_name'], top_10_categories['total_orders'])\n",
    "plt.title('Top 10 Penjualan Tertinggi menurut Kategori Produk')\n",
    "plt.xlabel('Kategori Produk')\n",
    "plt.ylabel('Total Penjualan')\n",
    "plt.xticks(rotation=45, ha='right')\n",
    "plt.tight_layout()\n",
    "\n",
    "plt.subplot(1, 2, 2)\n",
    "plt.bar(bottom_10_categories['product_category_name'], bottom_10_categories['total_orders'])\n",
    "plt.title('Top 10 Penjualan Terendah menurut Kategori Produk')\n",
    "plt.xlabel('Kategori Produk')\n",
    "plt.ylabel('Total Penjualan')\n",
    "plt.xticks(rotation=45, ha='right')\n",
    "plt.tight_layout()\n",
    "\n",
    "plt.show()"
   ]
  },
  {
   "cell_type": "markdown",
   "metadata": {
    "id": "vynZVK5IgThl"
   },
   "source": [
    "--insight :\n",
    "* **Kategori dengan penjualan tertinggi** adalah \"bed_bath_table\" (tempat tidur, kamar mandi, dan meja). Ini menunjukkan bahwa produk-produk rumah tangga seperti tempat tidur, perlengkapan kamar mandi, dan perabotan masih menjadi pilihan utama konsumen.\n",
    "* **Kategori lainnya yang juga memiliki penjualan tinggi** adalah \"health_beauty\" (kesehatan dan kecantikan), \"computers_accessories\" (komputer dan aksesoris), serta \"furniture_decor\" (perabotan dan dekorasi). Ini menunjukkan bahwa konsumen juga sangat memperhatikan kesehatan, gaya hidup modern, dan keindahan rumah.\n",
    "\n",
    "\n",
    "\n",
    "\n",
    "*   **Kategori dengan penjualan terendah adalah** \"security_and_services\" (keamanan dan layanan). Ini mungkin disebabkan oleh beberapa faktor, seperti persaingan yang ketat di sektor ini, atau kurangnya informasi yang jelas mengenai produk dan layanan yang ditawarkan.\n",
    "* **Kategori lainnya dengan penjualan rendah** adalah \"fashion_childrens_clothes\" (pakaian anak-anak), \"cds_dvds_music_instruments\" (CD, DVD, dan instrumen musik), dan \"home_comfort_2\". Penurunan penjualan pada kategori-kategori ini mungkin terkait dengan pergeseran tren konsumsi menuju platform digital dan layanan streaming.\n",
    "\n"
   ]
  },
  {
   "cell_type": "markdown",
   "metadata": {
    "id": "DgHI7CiU8DC2"
   },
   "source": [
    "### 2. Bagaimana Performa Penjualan dan Omset Perusahaan dalam Beberapa Bulan Terakhir?"
   ]
  },
  {
   "cell_type": "code",
   "execution_count": 50,
   "metadata": {
    "id": "kDqLGNSJPok7"
   },
   "outputs": [],
   "source": [
    "# Pastikan kolom order_purchase_timestamp dalam format datetime\n",
    "orders_df['order_purchase_timestamp'] = pd.to_datetime(orders_df['order_purchase_timestamp'])\n",
    "\n",
    "# Tambahkan kolom purchase_month\n",
    "orders_df['purchase_month'] = orders_df['order_purchase_timestamp'].dt.to_period('M')\n"
   ]
  },
  {
   "cell_type": "code",
   "execution_count": 51,
   "metadata": {
    "colab": {
     "base_uri": "https://localhost:8080/",
     "height": 627
    },
    "id": "164l9BWcI5K4",
    "outputId": "902c739f-5cdd-4930-83a0-6096a3343462"
   },
   "outputs": [
    {
     "ename": "NameError",
     "evalue": "name 'monthly_orders' is not defined",
     "output_type": "error",
     "traceback": [
      "\u001b[1;31m---------------------------------------------------------------------------\u001b[0m",
      "\u001b[1;31mNameError\u001b[0m                                 Traceback (most recent call last)",
      "Cell \u001b[1;32mIn[51], line 2\u001b[0m\n\u001b[0;32m      1\u001b[0m plt\u001b[38;5;241m.\u001b[39mfigure(figsize\u001b[38;5;241m=\u001b[39m(\u001b[38;5;241m12\u001b[39m, \u001b[38;5;241m6\u001b[39m))\n\u001b[1;32m----> 2\u001b[0m sns\u001b[38;5;241m.\u001b[39mlineplot(x\u001b[38;5;241m=\u001b[39m\u001b[43mmonthly_orders\u001b[49m\u001b[38;5;241m.\u001b[39mindex\u001b[38;5;241m.\u001b[39mastype(\u001b[38;5;28mstr\u001b[39m), y\u001b[38;5;241m=\u001b[39mmonthly_orders\u001b[38;5;241m.\u001b[39mvalues, marker\u001b[38;5;241m=\u001b[39m\u001b[38;5;124m'\u001b[39m\u001b[38;5;124mo\u001b[39m\u001b[38;5;124m'\u001b[39m)\n\u001b[0;32m      4\u001b[0m \u001b[38;5;66;03m# Tambahkan grid\u001b[39;00m\n\u001b[0;32m      5\u001b[0m plt\u001b[38;5;241m.\u001b[39mgrid(visible\u001b[38;5;241m=\u001b[39m\u001b[38;5;28;01mTrue\u001b[39;00m)\n",
      "\u001b[1;31mNameError\u001b[0m: name 'monthly_orders' is not defined"
     ]
    },
    {
     "data": {
      "text/plain": [
       "<Figure size 1200x600 with 0 Axes>"
      ]
     },
     "metadata": {},
     "output_type": "display_data"
    }
   ],
   "source": [
    "plt.figure(figsize=(12, 6))\n",
    "sns.lineplot(x=monthly_orders.index.astype(str), y=monthly_orders.values, marker='o')\n",
    "\n",
    "# Tambahkan grid\n",
    "plt.grid(visible=True)\n",
    "\n",
    "plt.title('Jumlah Order per Bulan', fontsize=16)\n",
    "plt.xlabel('Bulan', fontsize=12)\n",
    "plt.ylabel('Jumlah Order', fontsize=12)\n",
    "plt.xticks(rotation=45)\n",
    "plt.tight_layout()\n",
    "plt.show()\n"
   ]
  },
  {
   "cell_type": "code",
   "execution_count": null,
   "metadata": {
    "colab": {
     "base_uri": "https://localhost:8080/",
     "height": 451
    },
    "id": "gldVsPmHKNpK",
    "outputId": "65014c86-6b05-40c2-8a17-a078d3ae9f37"
   },
   "outputs": [],
   "source": [
    "merged_df = pd.merge(orders_df[['order_id', 'order_purchase_timestamp']], payments_df[['order_id', 'payment_value']], on='order_id')\n",
    "\n",
    "merged_df['order_purchase_timestamp'] = pd.to_datetime(merged_df['order_purchase_timestamp'])\n",
    "\n",
    "merged_df['month_year'] = merged_df['order_purchase_timestamp'].dt.to_period('M')\n",
    "\n",
    "omset_per_bulan = merged_df.groupby('month_year')['payment_value'].sum().reset_index()\n",
    "\n",
    "omset_per_bulan['month_year'] = omset_per_bulan['month_year'].dt.to_timestamp()\n",
    "\n",
    "def format_number(num):\n",
    "    if num >= 1_000_000:\n",
    "        return f\"{num / 1_000_000:.1f} M\"  # Juta\n",
    "    elif num >= 1_000:\n",
    "        return f\"{num / 1_000:.1f} k\"  # Ribu\n",
    "    else:\n",
    "        return str(num)\n",
    "\n",
    "omset_per_bulan['formatted_month'] = omset_per_bulan['month_year'].dt.strftime('%B %Y')\n",
    "\n",
    "plt.figure(figsize=(10, 6))\n",
    "sns.lineplot(x='formatted_month', y='payment_value', data=omset_per_bulan, marker='o')\n",
    "\n",
    "\n",
    "plt.title('Omset Perusahaan dalam Beberapa Bulan Terakhir', fontsize=16)\n",
    "plt.xlabel('Bulan', fontsize=12)\n",
    "plt.ylabel('Total Omset', fontsize=12)\n",
    "plt.xticks(rotation=45)\n",
    "\n",
    "for index, value in enumerate(omset_per_bulan['payment_value']):\n",
    "    plt.text(index, value, format_number(value), ha='center', va='bottom')\n",
    "\n",
    "plt.grid(True, linestyle='--', linewidth=0.5, alpha=0.7)\n",
    "\n",
    "plt.tight_layout()\n",
    "\n",
    "plt.show()\n"
   ]
  },
  {
   "cell_type": "markdown",
   "metadata": {
    "id": "E3CXwwu7CfHi"
   },
   "source": [
    "**Tren Penjualan:**\n",
    "\n",
    "* Terlihat bahwa bulan Januari memiliki jumlah\n",
    "penjualan tertinggi dengan 8,364 transaksi.\n",
    "Februari menunjukkan penurunan penjualan ke 7,766, dan tren ini berlanjut ke bulan Juli dan Agustus yang juga menunjukkan penurunan, dengan penjualan terendah di bulan Juli (7,196).\n",
    "Penjualan menunjukkan fluktuasi, dengan puncaknya di bulan Maret dan April.\n",
    "\n",
    "**Tren Omset:**\n",
    "\n",
    "* Omset tertinggi tercatat pada bulan Mei dengan 1,480,667.59, yang sejalan dengan tren penjualan yang tinggi pada bulan tersebut.\n",
    "Bulan Agustus memiliki omset terendah di antara bulan yang dicatat, yaitu 1,211,240.09.\n",
    "Meskipun penjualan menurun di bulan Juli dan Agustus, omset tetap mengalami penurunan yang signifikan pada bulan Agustus."
   ]
  },
  {
   "cell_type": "markdown",
   "metadata": {
    "id": "U5NcNMU0FctB"
   },
   "source": [
    "### Pertanyaan 3: Bagaimana demografi pelanggan yang kita miliki?"
   ]
  },
  {
   "cell_type": "code",
   "execution_count": null,
   "metadata": {
    "colab": {
     "base_uri": "https://localhost:8080/",
     "height": 887
    },
    "id": "uqFUPf95Of7A",
    "outputId": "9524bdd3-fd58-4ca6-d15b-e06d25858514"
   },
   "outputs": [],
   "source": [
    "import warnings\n",
    "warnings.filterwarnings(\"ignore\", category=FutureWarning)\n",
    "\n",
    "plt.figure(figsize=(10, 6))\n",
    "state_counts = customers_df['customer_state'].value_counts().head(10)\n",
    "sns.barplot(x=state_counts.index, y=state_counts.values, palette='viridis')\n",
    "plt.title('Distribusi Pelanggan Berdasarkan Negara Bagian', fontsize=16)\n",
    "plt.xlabel('Negara Bagian', fontsize=12)\n",
    "plt.ylabel('Jumlah Pelanggan', fontsize=12)\n",
    "plt.xticks(rotation=45)\n",
    "plt.tight_layout()\n",
    "plt.show()\n",
    "\n",
    "\n",
    "plt.figure(figsize=(10, 6))\n",
    "city_counts = customers_df['customer_city'].value_counts().head(10)\n",
    "sns.barplot(x=city_counts.index, y=city_counts.values, palette='Blues_d')\n",
    "plt.title('10 Kota dengan Pelanggan Terbanyak', fontsize=16)\n",
    "plt.xlabel('Kota', fontsize=12)\n",
    "plt.ylabel('Jumlah Pelanggan', fontsize=12)\n",
    "plt.xticks(rotation=45)\n",
    "plt.tight_layout()\n",
    "plt.show()\n",
    "\n"
   ]
  },
  {
   "cell_type": "markdown",
   "metadata": {
    "id": "IFick-AkBOOj"
   },
   "source": [
    "Analisis Demografi Pelanggan Berdasarkan 10 negara Teratas\n",
    "* **Konsentrasi Pelanggan Tertinggi**: Sebagian besar pelanggan Anda terkonsentrasi di São Paulo. Ini menunjukkan bahwa pasar di São Paulo sangat responsif terhadap produk atau layanan yang Anda tawarkan.\n",
    "\n",
    "* **Pasar Potensial Lainnya**: Selain São Paulo, beberapa negara bagian lain seperti Rio de Janeiro, Minas Gerais, dan Rio Grande do Sul juga memiliki jumlah pelanggan yang cukup signifikan. Ini mengindikasikan adanya potensi pasar yang cukup besar di wilayah-wilayah tersebut.\n",
    "* **Perbedaan Jumlah Pelanggan yang Signifikan**: Terdapat perbedaan yang cukup signifikan antara jumlah pelanggan di São Paulo dengan negara bagian lainnya. Ini menunjukkan adanya ketimpangan distribusi pelanggan yang perlu diperhatikan.\n",
    "\n",
    "\n",
    "Analisis Demografi Pelanggan Berdasarkan 10 Kota Teratas\n",
    "\n",
    "* **Konsentrasi Pelanggan Tertinggi**: Sebagian besar pelanggan Anda terkonsentrasi di Sao Paulo. Ini menunjukkan bahwa pasar di Sao Paulo sangat responsif terhadap produk atau layanan yang Anda tawarkan.\n",
    "* **Pasar Potensial Lainnya:** Selain Sao Paulo, beberapa kota besar lainnya seperti Rio de Janeiro, Belo Horizonte, dan Curitiba juga memiliki jumlah pelanggan yang cukup signifikan. Ini mengindikasikan adanya potensi pasar yang cukup besar di wilayah-wilayah tersebut.\n",
    "* **Perbedaan Jumlah Pelanggan yang Signifikan:** Terdapat perbedaan yang cukup signifikan antara jumlah pelanggan di Sao Paulo dengan kota-kota lainnya. Ini menunjukkan adanya ketimpangan distribusi pelanggan yang perlu diperhatikan."
   ]
  },
  {
   "cell_type": "markdown",
   "metadata": {
    "id": "dv9noiYiFUGK"
   },
   "source": []
  },
  {
   "cell_type": "code",
   "execution_count": null,
   "metadata": {
    "id": "TSePh_NPWkb5"
   },
   "outputs": [],
   "source": [
    "\n",
    "df = pd.merge(orders_df, customers_df, on='customer_id')\n",
    "\n",
    "df = pd.merge(df, payments_df[['order_id', 'payment_value']], on='order_id')\n",
    "\n",
    "df['order_purchase_timestamp'] = pd.to_datetime(df['order_purchase_timestamp'])\n",
    "latest_date = df['order_purchase_timestamp'].max()\n",
    "df['recency'] = (latest_date - df['order_purchase_timestamp']).dt.days\n",
    "\n",
    "\n",
    "frequency_df = df.groupby('customer_unique_id').agg({'order_id': 'nunique'}).reset_index()\n",
    "frequency_df.columns = ['customer_unique_id', 'frequency']\n",
    "\n",
    "\n",
    "monetary_df = df.groupby('customer_unique_id').agg({'payment_value': 'sum'}).reset_index()\n",
    "monetary_df.columns = ['customer_unique_id', 'monetary']\n",
    "\n",
    "\n",
    "rfm_df = df[['customer_unique_id', 'recency']]\n",
    "rfm_df = rfm_df.merge(frequency_df, on='customer_unique_id')\n",
    "rfm_df = rfm_df.merge(monetary_df, on='customer_unique_id')\n",
    "\n"
   ]
  },
  {
   "cell_type": "markdown",
   "metadata": {
    "id": "rGJdc1gOQ96s"
   },
   "source": []
  },
  {
   "cell_type": "markdown",
   "metadata": {
    "id": "BAEPQyEnjPqO"
   },
   "source": [
    "\n",
    "### 4. Kapan terakhir pelanggan melakukan transaksi?\n",
    "\n",
    "### 5. Seberapa sering seorang pelanggan melakukan pembelian dalam beberapa bulan terakhir?\n",
    "### 6.Berapa banyak uang yang dihabiskan pelanggan dalam beberapa bulan terakhir?\n"
   ]
  },
  {
   "cell_type": "markdown",
   "metadata": {
    "id": "dvaAwFP2jSK6"
   },
   "source": []
  },
  {
   "cell_type": "code",
   "execution_count": null,
   "metadata": {
    "colab": {
     "base_uri": "https://localhost:8080/",
     "height": 285
    },
    "id": "NVW8uUk7IJtd",
    "outputId": "c9149e7d-420b-4513-faaa-7fc2739ee83d"
   },
   "outputs": [],
   "source": [
    "colors = [\"#00FFFF\", \"#8A2BE2\", \"#7FFF00\", \"#FF7F50\", \"#DC143C\"]\n",
    "rfm_df['short_customer_id'] = rfm_df['customer_unique_id'].str[:5]\n",
    "\n",
    "fig, ax = plt.subplots(nrows=1, ncols=3, figsize=(30, 6))\n",
    "\n",
    "sns.barplot(y=\"recency\", x=\"short_customer_id\", data=rfm_df.sort_values(by=\"recency\", ascending=True).head(5), palette=colors, ax=ax[0])\n",
    "ax[0].set_title(\"By Recency (days)\", loc=\"center\", fontsize=18)\n",
    "ax[0].tick_params(axis='x', labelsize=15)\n",
    "\n",
    "sns.barplot(y=\"frequency\", x=\"short_customer_id\", data=rfm_df.sort_values(by=\"frequency\", ascending=False).head(5), palette=colors, ax=ax[1])\n",
    "ax[1].set_title(\"By Frequency\", loc=\"center\", fontsize=18)\n",
    "ax[1].tick_params(axis='x', labelsize=15)\n",
    "\n",
    "sns.barplot(y=\"monetary\", x=\"short_customer_id\", data=rfm_df.sort_values(by=\"monetary\", ascending=False).head(5), palette=colors, ax=ax[2])\n",
    "ax[2].set_title(\"By Monetary\", loc=\"center\", fontsize=18)\n",
    "ax[2].tick_params(axis='x', labelsize=15)\n",
    "\n",
    "plt.suptitle(\"Best Customer Based on RFM Parameters (customer_id)\", fontsize=20)\n",
    "plt.show()\n"
   ]
  },
  {
   "cell_type": "markdown",
   "metadata": {
    "id": "G_O7uWa-IBFi"
   },
   "source": [
    "### Mengurutkan customer berdasarkan recency, frequency, & monetary score"
   ]
  },
  {
   "cell_type": "code",
   "execution_count": null,
   "metadata": {
    "id": "kFRDe4V7FfEr"
   },
   "outputs": [],
   "source": [
    "rfm_df['r_rank'] = rfm_df['recency'].rank(ascending=False)\n",
    "rfm_df['f_rank'] = rfm_df['frequency'].rank(ascending=True)\n",
    "rfm_df['m_rank'] = rfm_df['monetary'].rank(ascending=True)\n",
    "\n",
    "rfm_df.head()\n"
   ]
  },
  {
   "cell_type": "code",
   "execution_count": null,
   "metadata": {
    "id": "CJX54ANzFw0-"
   },
   "outputs": [],
   "source": [
    "# normalizing the rank of the customers\n",
    "rfm_df['r_rank_norm'] = (rfm_df['r_rank']/rfm_df['r_rank'].max())*100\n",
    "rfm_df['f_rank_norm'] = (rfm_df['f_rank']/rfm_df['f_rank'].max())*100\n",
    "rfm_df['m_rank_norm'] = (rfm_df['m_rank']/rfm_df['m_rank'].max())*100\n",
    "\n",
    "rfm_df.drop(columns=['r_rank', 'f_rank', 'm_rank'], inplace=True)\n",
    "\n",
    "rfm_df.head()"
   ]
  },
  {
   "cell_type": "code",
   "execution_count": null,
   "metadata": {
    "id": "UCV2W-ftF0hO"
   },
   "outputs": [],
   "source": [
    "rfm_df.describe()"
   ]
  },
  {
   "cell_type": "code",
   "execution_count": null,
   "metadata": {
    "id": "TnkE2m1jGrA3"
   },
   "outputs": [],
   "source": [
    "\n",
    "rfm_df.sort_values(by=\"recency\", ascending=True).head(5)"
   ]
  },
  {
   "cell_type": "code",
   "execution_count": null,
   "metadata": {
    "id": "bdgqH00FHQa-"
   },
   "outputs": [],
   "source": [
    "rfm_df['RFM_score'] = 0.15*rfm_df['r_rank_norm']+0.28 * \\\n",
    "    rfm_df['f_rank_norm']+0.57*rfm_df['m_rank_norm']\n",
    "rfm_df['RFM_score'] *= 0.05\n",
    "rfm_df = rfm_df.round(2)\n",
    "rfm_df[['customer_unique_id', 'RFM_score']].head(7)"
   ]
  },
  {
   "cell_type": "markdown",
   "metadata": {
    "id": "Lre7itRHI3ak"
   },
   "source": [
    "### Segmentasi customer berdasarkan RFM_score"
   ]
  },
  {
   "cell_type": "code",
   "execution_count": null,
   "metadata": {
    "id": "_-L8q6SrHEKI"
   },
   "outputs": [],
   "source": [
    "import numpy as np # imports the numpy library and assigns it to the variable np\n",
    "\n",
    "rfm_df[\"customer_segment\"] = np.where(\n",
    "    rfm_df['RFM_score'] > 4.5, \"Top customers\", (np.where(\n",
    "        rfm_df['RFM_score'] > 4, \"High value customer\",(np.where(\n",
    "            rfm_df['RFM_score'] > 3, \"Medium value customer\", np.where(\n",
    "                rfm_df['RFM_score'] > 1.6, 'Low value customers', 'lost customers'))))))\n",
    "\n",
    "rfm_df[['customer_unique_id', 'RFM_score', 'customer_segment']].head(20)"
   ]
  },
  {
   "cell_type": "code",
   "execution_count": null,
   "metadata": {
    "id": "7n82UXKVHazV"
   },
   "outputs": [],
   "source": [
    "customer_segment_df = rfm_df.groupby(by=\"customer_segment\", as_index=False).customer_unique_id.nunique()\n",
    "customer_segment_df"
   ]
  },
  {
   "cell_type": "code",
   "execution_count": null,
   "metadata": {
    "id": "9F3xDepVHv6W"
   },
   "outputs": [],
   "source": [
    "customer_segment_df['customer_segment'] = pd.Categorical(customer_segment_df['customer_segment'], [\n",
    "    \"lost customers\", \"Low value customers\", \"Medium value customer\",\n",
    "    \"High value customer\", \"Top customers\"\n",
    "])"
   ]
  },
  {
   "cell_type": "code",
   "execution_count": null,
   "metadata": {
    "id": "JFNf4Ka3Hx62"
   },
   "outputs": [],
   "source": [
    "plt.figure(figsize=(10, 5))\n",
    "colors_ = [\"#72BCD4\", \"#72BCD4\", \"#D3D3D3\", \"#D3D3D3\", \"#D3D3D3\"]\n",
    "\n",
    "sns.barplot(\n",
    "    x=\"customer_unique_id\",\n",
    "    y=\"customer_segment\",\n",
    "    data=customer_segment_df.sort_values(by=\"customer_segment\", ascending=False),\n",
    "    palette=colors_\n",
    ")\n",
    "plt.title(\"Number of Customer for Each Segment\", loc=\"center\", fontsize=15)\n",
    "plt.ylabel(None)\n",
    "plt.xlabel(None)\n",
    "plt.tick_params(axis='y', labelsize=12)\n",
    "plt.show()"
   ]
  },
  {
   "cell_type": "markdown",
   "metadata": {
    "id": "9y4VUsmcYNZ5"
   },
   "source": [
    "## Analisis Lanjutan (Opsional)"
   ]
  },
  {
   "cell_type": "markdown",
   "metadata": {
    "id": "_WeHlCeX8DC2"
   },
   "source": [
    "## Conclusion"
   ]
  },
  {
   "cell_type": "markdown",
   "metadata": {
    "id": "nOmZTQGHhOcB"
   },
   "source": [
    "### pertanyaan 1"
   ]
  },
  {
   "cell_type": "markdown",
   "metadata": {
    "id": "ZTcyR48Y8DC2"
   },
   "source": [
    "Dari analisis grafik di atas bahwa\n",
    "* Produk rumah tangga masih menjadi primadona dan memiliki pangsa pasar yang besar.\n",
    "* Produk yang berkaitan dengan gaya hidup modern seperti kesehatan, teknologi, dan dekorasi juga sangat diminati.\n",
    "* Produk-produk tradisional seperti CD, DVD, dan pakaian anak-anak mengalami penurunan penjualan.\n",
    "* Produk seperti keamanan dan layanan masih perlu upaya lebih untuk meningkatkan penjualan."
   ]
  }
 ],
 "metadata": {
  "colab": {
   "collapsed_sections": [
    "apX4kk2TAgo-",
    "pIbaVeSjAmYe",
    "vhvnxLMMAr1l",
    "71NUiQ6KAv_b",
    "0MybDl_rA5S9",
    "ECZO3crDBFOG",
    "AKhYoGPP9h9j",
    "D4oYleoN97s_",
    "QpiCO6ev-Tbr",
    "gfN8zWBc740t",
    "nO2FWe3yEqgb",
    "H_f6rVoZGkhm",
    "icBeOlfSDrxB",
    "dZqMjWg2D8GO",
    "Aw-pu_Ogd9lv",
    "G_O7uWa-IBFi",
    "Lre7itRHI3ak"
   ],
   "provenance": []
  },
  "kernelspec": {
   "display_name": "Python 3 (ipykernel)",
   "language": "python",
   "name": "python3"
  },
  "language_info": {
   "codemirror_mode": {
    "name": "ipython",
    "version": 3
   },
   "file_extension": ".py",
   "mimetype": "text/x-python",
   "name": "python",
   "nbconvert_exporter": "python",
   "pygments_lexer": "ipython3",
   "version": "3.11.5"
  },
  "vscode": {
   "interpreter": {
    "hash": "972b3bf27e332e87b5379f2791f6ef9dfc79c71018c370b0d7423235e20fe4d7"
   }
  }
 },
 "nbformat": 4,
 "nbformat_minor": 4
}
