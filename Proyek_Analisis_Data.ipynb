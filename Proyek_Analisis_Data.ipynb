{
 "cells": [
  {
   "cell_type": "markdown",
   "metadata": {
    "id": "H9wADwK78DCz"
   },
   "source": [
    "# Proyek Analisis Data: brazilian ecommerce\n",
    "- **Nama:** Haldies Gerhardien Pasya\n",
    "- **Email:** haldiespasya@gmail.com\n",
    "- **ID Dicoding:** haldies"
   ]
  },
  {
   "cell_type": "markdown",
   "metadata": {
    "id": "eE0raob58DC0"
   },
   "source": [
    "## Menentukan Pertanyaan Bisnis"
   ]
  },
  {
   "cell_type": "markdown",
   "metadata": {
    "id": "GmQeQ5YF8DC0"
   },
   "source": [
    "1. kategori Produk apa yang penjualan tertinggi dan terendah?\n",
    "2. Bagaimana Performa Penjualan dan Omset Perusahaan dalam Beberapa Bulan Terakhir?\n",
    "3. Bagaimana demografi pelanggan yang kita miliki?\n",
    "4. Kapan terakhir pelanggan melakukan transaksi?\n",
    "5. Seberapa sering seorang pelanggan melakukan pembelian dalam beberapa bulan terakhir?\n",
    "6. Berapa banyak uang yang dihabiskan pelanggan dalam beberapa bulan terakhir?\n"
   ]
  },
  {
   "cell_type": "markdown",
   "metadata": {
    "id": "H-z4QGlO8DC1"
   },
   "source": [
    "## Import Semua Packages/Library yang Digunakan"
   ]
  },
  {
   "cell_type": "code",
   "execution_count": 1,
   "metadata": {
    "id": "FVYwaObI8DC1"
   },
   "outputs": [],
   "source": [
    "import pandas as pd\n",
    "import seaborn as sns\n",
    "import matplotlib.pyplot as plt\n",
    "import numpy as np"
   ]
  },
  {
   "cell_type": "markdown",
   "metadata": {
    "id": "h_Sh51Xy8DC1"
   },
   "source": [
    "## Data Wrangling"
   ]
  },
  {
   "cell_type": "markdown",
   "metadata": {
    "id": "sXU2GBYu8DC1"
   },
   "source": [
    "### Gathering Data"
   ]
  },
  {
   "cell_type": "markdown",
   "metadata": {
    "id": "apX4kk2TAgo-"
   },
   "source": [
    "#### customers_dataset.csv"
   ]
  },
  {
   "cell_type": "code",
   "execution_count": 2,
   "metadata": {
    "colab": {
     "base_uri": "https://localhost:8080/",
     "height": 149
    },
    "id": "tXFlo2P8YVwZ",
    "outputId": "36fa8da6-161b-4e1a-ac5b-9314b3713622"
   },
   "outputs": [
    {
     "data": {
      "text/html": [
       "<div>\n",
       "<style scoped>\n",
       "    .dataframe tbody tr th:only-of-type {\n",
       "        vertical-align: middle;\n",
       "    }\n",
       "\n",
       "    .dataframe tbody tr th {\n",
       "        vertical-align: top;\n",
       "    }\n",
       "\n",
       "    .dataframe thead th {\n",
       "        text-align: right;\n",
       "    }\n",
       "</style>\n",
       "<table border=\"1\" class=\"dataframe\">\n",
       "  <thead>\n",
       "    <tr style=\"text-align: right;\">\n",
       "      <th></th>\n",
       "      <th>customer_id</th>\n",
       "      <th>customer_unique_id</th>\n",
       "      <th>customer_zip_code_prefix</th>\n",
       "      <th>customer_city</th>\n",
       "      <th>customer_state</th>\n",
       "    </tr>\n",
       "  </thead>\n",
       "  <tbody>\n",
       "    <tr>\n",
       "      <th>0</th>\n",
       "      <td>06b8999e2fba1a1fbc88172c00ba8bc7</td>\n",
       "      <td>861eff4711a542e4b93843c6dd7febb0</td>\n",
       "      <td>14409</td>\n",
       "      <td>franca</td>\n",
       "      <td>SP</td>\n",
       "    </tr>\n",
       "    <tr>\n",
       "      <th>1</th>\n",
       "      <td>18955e83d337fd6b2def6b18a428ac77</td>\n",
       "      <td>290c77bc529b7ac935b93aa66c333dc3</td>\n",
       "      <td>9790</td>\n",
       "      <td>sao bernardo do campo</td>\n",
       "      <td>SP</td>\n",
       "    </tr>\n",
       "  </tbody>\n",
       "</table>\n",
       "</div>"
      ],
      "text/plain": [
       "                        customer_id                customer_unique_id  \\\n",
       "0  06b8999e2fba1a1fbc88172c00ba8bc7  861eff4711a542e4b93843c6dd7febb0   \n",
       "1  18955e83d337fd6b2def6b18a428ac77  290c77bc529b7ac935b93aa66c333dc3   \n",
       "\n",
       "   customer_zip_code_prefix          customer_city customer_state  \n",
       "0                     14409                 franca             SP  \n",
       "1                      9790  sao bernardo do campo             SP  "
      ]
     },
     "execution_count": 2,
     "metadata": {},
     "output_type": "execute_result"
    }
   ],
   "source": [
    "customers_df = pd.read_csv('data/customers_dataset.csv')\n",
    "customers_df.head(2)"
   ]
  },
  {
   "cell_type": "markdown",
   "metadata": {
    "id": "pIbaVeSjAmYe"
   },
   "source": [
    "#### orders_dataset.csv"
   ]
  },
  {
   "cell_type": "code",
   "execution_count": 3,
   "metadata": {
    "colab": {
     "base_uri": "https://localhost:8080/",
     "height": 0
    },
    "id": "wH25nKSfYfN0",
    "outputId": "0a19a612-b83d-49e0-b5b0-94b340844733"
   },
   "outputs": [
    {
     "data": {
      "text/html": [
       "<div>\n",
       "<style scoped>\n",
       "    .dataframe tbody tr th:only-of-type {\n",
       "        vertical-align: middle;\n",
       "    }\n",
       "\n",
       "    .dataframe tbody tr th {\n",
       "        vertical-align: top;\n",
       "    }\n",
       "\n",
       "    .dataframe thead th {\n",
       "        text-align: right;\n",
       "    }\n",
       "</style>\n",
       "<table border=\"1\" class=\"dataframe\">\n",
       "  <thead>\n",
       "    <tr style=\"text-align: right;\">\n",
       "      <th></th>\n",
       "      <th>order_id</th>\n",
       "      <th>customer_id</th>\n",
       "      <th>order_status</th>\n",
       "      <th>order_purchase_timestamp</th>\n",
       "      <th>order_approved_at</th>\n",
       "      <th>order_delivered_carrier_date</th>\n",
       "      <th>order_delivered_customer_date</th>\n",
       "      <th>order_estimated_delivery_date</th>\n",
       "    </tr>\n",
       "  </thead>\n",
       "  <tbody>\n",
       "    <tr>\n",
       "      <th>0</th>\n",
       "      <td>e481f51cbdc54678b7cc49136f2d6af7</td>\n",
       "      <td>9ef432eb6251297304e76186b10a928d</td>\n",
       "      <td>delivered</td>\n",
       "      <td>2017-10-02 10:56:33</td>\n",
       "      <td>2017-10-02 11:07:15</td>\n",
       "      <td>2017-10-04 19:55:00</td>\n",
       "      <td>2017-10-10 21:25:13</td>\n",
       "      <td>2017-10-18 00:00:00</td>\n",
       "    </tr>\n",
       "    <tr>\n",
       "      <th>1</th>\n",
       "      <td>53cdb2fc8bc7dce0b6741e2150273451</td>\n",
       "      <td>b0830fb4747a6c6d20dea0b8c802d7ef</td>\n",
       "      <td>delivered</td>\n",
       "      <td>2018-07-24 20:41:37</td>\n",
       "      <td>2018-07-26 03:24:27</td>\n",
       "      <td>2018-07-26 14:31:00</td>\n",
       "      <td>2018-08-07 15:27:45</td>\n",
       "      <td>2018-08-13 00:00:00</td>\n",
       "    </tr>\n",
       "    <tr>\n",
       "      <th>2</th>\n",
       "      <td>47770eb9100c2d0c44946d9cf07ec65d</td>\n",
       "      <td>41ce2a54c0b03bf3443c3d931a367089</td>\n",
       "      <td>delivered</td>\n",
       "      <td>2018-08-08 08:38:49</td>\n",
       "      <td>2018-08-08 08:55:23</td>\n",
       "      <td>2018-08-08 13:50:00</td>\n",
       "      <td>2018-08-17 18:06:29</td>\n",
       "      <td>2018-09-04 00:00:00</td>\n",
       "    </tr>\n",
       "    <tr>\n",
       "      <th>3</th>\n",
       "      <td>949d5b44dbf5de918fe9c16f97b45f8a</td>\n",
       "      <td>f88197465ea7920adcdbec7375364d82</td>\n",
       "      <td>delivered</td>\n",
       "      <td>2017-11-18 19:28:06</td>\n",
       "      <td>2017-11-18 19:45:59</td>\n",
       "      <td>2017-11-22 13:39:59</td>\n",
       "      <td>2017-12-02 00:28:42</td>\n",
       "      <td>2017-12-15 00:00:00</td>\n",
       "    </tr>\n",
       "    <tr>\n",
       "      <th>4</th>\n",
       "      <td>ad21c59c0840e6cb83a9ceb5573f8159</td>\n",
       "      <td>8ab97904e6daea8866dbdbc4fb7aad2c</td>\n",
       "      <td>delivered</td>\n",
       "      <td>2018-02-13 21:18:39</td>\n",
       "      <td>2018-02-13 22:20:29</td>\n",
       "      <td>2018-02-14 19:46:34</td>\n",
       "      <td>2018-02-16 18:17:02</td>\n",
       "      <td>2018-02-26 00:00:00</td>\n",
       "    </tr>\n",
       "  </tbody>\n",
       "</table>\n",
       "</div>"
      ],
      "text/plain": [
       "                           order_id                       customer_id  \\\n",
       "0  e481f51cbdc54678b7cc49136f2d6af7  9ef432eb6251297304e76186b10a928d   \n",
       "1  53cdb2fc8bc7dce0b6741e2150273451  b0830fb4747a6c6d20dea0b8c802d7ef   \n",
       "2  47770eb9100c2d0c44946d9cf07ec65d  41ce2a54c0b03bf3443c3d931a367089   \n",
       "3  949d5b44dbf5de918fe9c16f97b45f8a  f88197465ea7920adcdbec7375364d82   \n",
       "4  ad21c59c0840e6cb83a9ceb5573f8159  8ab97904e6daea8866dbdbc4fb7aad2c   \n",
       "\n",
       "  order_status order_purchase_timestamp    order_approved_at  \\\n",
       "0    delivered      2017-10-02 10:56:33  2017-10-02 11:07:15   \n",
       "1    delivered      2018-07-24 20:41:37  2018-07-26 03:24:27   \n",
       "2    delivered      2018-08-08 08:38:49  2018-08-08 08:55:23   \n",
       "3    delivered      2017-11-18 19:28:06  2017-11-18 19:45:59   \n",
       "4    delivered      2018-02-13 21:18:39  2018-02-13 22:20:29   \n",
       "\n",
       "  order_delivered_carrier_date order_delivered_customer_date  \\\n",
       "0          2017-10-04 19:55:00           2017-10-10 21:25:13   \n",
       "1          2018-07-26 14:31:00           2018-08-07 15:27:45   \n",
       "2          2018-08-08 13:50:00           2018-08-17 18:06:29   \n",
       "3          2017-11-22 13:39:59           2017-12-02 00:28:42   \n",
       "4          2018-02-14 19:46:34           2018-02-16 18:17:02   \n",
       "\n",
       "  order_estimated_delivery_date  \n",
       "0           2017-10-18 00:00:00  \n",
       "1           2018-08-13 00:00:00  \n",
       "2           2018-09-04 00:00:00  \n",
       "3           2017-12-15 00:00:00  \n",
       "4           2018-02-26 00:00:00  "
      ]
     },
     "execution_count": 3,
     "metadata": {},
     "output_type": "execute_result"
    }
   ],
   "source": [
    "orders_df = pd.read_csv('data/orders_dataset.csv')\n",
    "orders_df.head()"
   ]
  },
  {
   "cell_type": "markdown",
   "metadata": {
    "id": "vhvnxLMMAr1l"
   },
   "source": [
    "#### order_items_dataset.csv"
   ]
  },
  {
   "cell_type": "code",
   "execution_count": 4,
   "metadata": {
    "colab": {
     "base_uri": "https://localhost:8080/",
     "height": 0
    },
    "id": "pjMNW0nz0I0u",
    "outputId": "81a93117-6eb6-44e8-d7f4-2f1e799ca470"
   },
   "outputs": [
    {
     "data": {
      "text/html": [
       "<div>\n",
       "<style scoped>\n",
       "    .dataframe tbody tr th:only-of-type {\n",
       "        vertical-align: middle;\n",
       "    }\n",
       "\n",
       "    .dataframe tbody tr th {\n",
       "        vertical-align: top;\n",
       "    }\n",
       "\n",
       "    .dataframe thead th {\n",
       "        text-align: right;\n",
       "    }\n",
       "</style>\n",
       "<table border=\"1\" class=\"dataframe\">\n",
       "  <thead>\n",
       "    <tr style=\"text-align: right;\">\n",
       "      <th></th>\n",
       "      <th>order_id</th>\n",
       "      <th>order_item_id</th>\n",
       "      <th>product_id</th>\n",
       "      <th>seller_id</th>\n",
       "      <th>shipping_limit_date</th>\n",
       "      <th>price</th>\n",
       "      <th>freight_value</th>\n",
       "    </tr>\n",
       "  </thead>\n",
       "  <tbody>\n",
       "    <tr>\n",
       "      <th>0</th>\n",
       "      <td>00010242fe8c5a6d1ba2dd792cb16214</td>\n",
       "      <td>1</td>\n",
       "      <td>4244733e06e7ecb4970a6e2683c13e61</td>\n",
       "      <td>48436dade18ac8b2bce089ec2a041202</td>\n",
       "      <td>2017-09-19 09:45:35</td>\n",
       "      <td>58.90</td>\n",
       "      <td>13.29</td>\n",
       "    </tr>\n",
       "    <tr>\n",
       "      <th>1</th>\n",
       "      <td>00018f77f2f0320c557190d7a144bdd3</td>\n",
       "      <td>1</td>\n",
       "      <td>e5f2d52b802189ee658865ca93d83a8f</td>\n",
       "      <td>dd7ddc04e1b6c2c614352b383efe2d36</td>\n",
       "      <td>2017-05-03 11:05:13</td>\n",
       "      <td>239.90</td>\n",
       "      <td>19.93</td>\n",
       "    </tr>\n",
       "    <tr>\n",
       "      <th>2</th>\n",
       "      <td>000229ec398224ef6ca0657da4fc703e</td>\n",
       "      <td>1</td>\n",
       "      <td>c777355d18b72b67abbeef9df44fd0fd</td>\n",
       "      <td>5b51032eddd242adc84c38acab88f23d</td>\n",
       "      <td>2018-01-18 14:48:30</td>\n",
       "      <td>199.00</td>\n",
       "      <td>17.87</td>\n",
       "    </tr>\n",
       "    <tr>\n",
       "      <th>3</th>\n",
       "      <td>00024acbcdf0a6daa1e931b038114c75</td>\n",
       "      <td>1</td>\n",
       "      <td>7634da152a4610f1595efa32f14722fc</td>\n",
       "      <td>9d7a1d34a5052409006425275ba1c2b4</td>\n",
       "      <td>2018-08-15 10:10:18</td>\n",
       "      <td>12.99</td>\n",
       "      <td>12.79</td>\n",
       "    </tr>\n",
       "    <tr>\n",
       "      <th>4</th>\n",
       "      <td>00042b26cf59d7ce69dfabb4e55b4fd9</td>\n",
       "      <td>1</td>\n",
       "      <td>ac6c3623068f30de03045865e4e10089</td>\n",
       "      <td>df560393f3a51e74553ab94004ba5c87</td>\n",
       "      <td>2017-02-13 13:57:51</td>\n",
       "      <td>199.90</td>\n",
       "      <td>18.14</td>\n",
       "    </tr>\n",
       "  </tbody>\n",
       "</table>\n",
       "</div>"
      ],
      "text/plain": [
       "                           order_id  order_item_id  \\\n",
       "0  00010242fe8c5a6d1ba2dd792cb16214              1   \n",
       "1  00018f77f2f0320c557190d7a144bdd3              1   \n",
       "2  000229ec398224ef6ca0657da4fc703e              1   \n",
       "3  00024acbcdf0a6daa1e931b038114c75              1   \n",
       "4  00042b26cf59d7ce69dfabb4e55b4fd9              1   \n",
       "\n",
       "                         product_id                         seller_id  \\\n",
       "0  4244733e06e7ecb4970a6e2683c13e61  48436dade18ac8b2bce089ec2a041202   \n",
       "1  e5f2d52b802189ee658865ca93d83a8f  dd7ddc04e1b6c2c614352b383efe2d36   \n",
       "2  c777355d18b72b67abbeef9df44fd0fd  5b51032eddd242adc84c38acab88f23d   \n",
       "3  7634da152a4610f1595efa32f14722fc  9d7a1d34a5052409006425275ba1c2b4   \n",
       "4  ac6c3623068f30de03045865e4e10089  df560393f3a51e74553ab94004ba5c87   \n",
       "\n",
       "   shipping_limit_date   price  freight_value  \n",
       "0  2017-09-19 09:45:35   58.90          13.29  \n",
       "1  2017-05-03 11:05:13  239.90          19.93  \n",
       "2  2018-01-18 14:48:30  199.00          17.87  \n",
       "3  2018-08-15 10:10:18   12.99          12.79  \n",
       "4  2017-02-13 13:57:51  199.90          18.14  "
      ]
     },
     "execution_count": 4,
     "metadata": {},
     "output_type": "execute_result"
    }
   ],
   "source": [
    "order_items_df = pd.read_csv('data/order_items_dataset.csv')\n",
    "order_items_df.head()"
   ]
  },
  {
   "cell_type": "markdown",
   "metadata": {
    "id": "71NUiQ6KAv_b"
   },
   "source": [
    "#### products_dataset.csv"
   ]
  },
  {
   "cell_type": "code",
   "execution_count": 5,
   "metadata": {
    "colab": {
     "base_uri": "https://localhost:8080/",
     "height": 0
    },
    "id": "apEUVREvYh1a",
    "outputId": "24740ace-2e55-4a1e-d0c9-03cd8e5a6f26"
   },
   "outputs": [
    {
     "data": {
      "text/html": [
       "<div>\n",
       "<style scoped>\n",
       "    .dataframe tbody tr th:only-of-type {\n",
       "        vertical-align: middle;\n",
       "    }\n",
       "\n",
       "    .dataframe tbody tr th {\n",
       "        vertical-align: top;\n",
       "    }\n",
       "\n",
       "    .dataframe thead th {\n",
       "        text-align: right;\n",
       "    }\n",
       "</style>\n",
       "<table border=\"1\" class=\"dataframe\">\n",
       "  <thead>\n",
       "    <tr style=\"text-align: right;\">\n",
       "      <th></th>\n",
       "      <th>product_id</th>\n",
       "      <th>product_category_name</th>\n",
       "      <th>product_name_lenght</th>\n",
       "      <th>product_description_lenght</th>\n",
       "      <th>product_photos_qty</th>\n",
       "      <th>product_weight_g</th>\n",
       "      <th>product_length_cm</th>\n",
       "      <th>product_height_cm</th>\n",
       "      <th>product_width_cm</th>\n",
       "    </tr>\n",
       "  </thead>\n",
       "  <tbody>\n",
       "    <tr>\n",
       "      <th>0</th>\n",
       "      <td>1e9e8ef04dbcff4541ed26657ea517e5</td>\n",
       "      <td>perfumaria</td>\n",
       "      <td>40.0</td>\n",
       "      <td>287.0</td>\n",
       "      <td>1.0</td>\n",
       "      <td>225.0</td>\n",
       "      <td>16.0</td>\n",
       "      <td>10.0</td>\n",
       "      <td>14.0</td>\n",
       "    </tr>\n",
       "    <tr>\n",
       "      <th>1</th>\n",
       "      <td>3aa071139cb16b67ca9e5dea641aaa2f</td>\n",
       "      <td>artes</td>\n",
       "      <td>44.0</td>\n",
       "      <td>276.0</td>\n",
       "      <td>1.0</td>\n",
       "      <td>1000.0</td>\n",
       "      <td>30.0</td>\n",
       "      <td>18.0</td>\n",
       "      <td>20.0</td>\n",
       "    </tr>\n",
       "    <tr>\n",
       "      <th>2</th>\n",
       "      <td>96bd76ec8810374ed1b65e291975717f</td>\n",
       "      <td>esporte_lazer</td>\n",
       "      <td>46.0</td>\n",
       "      <td>250.0</td>\n",
       "      <td>1.0</td>\n",
       "      <td>154.0</td>\n",
       "      <td>18.0</td>\n",
       "      <td>9.0</td>\n",
       "      <td>15.0</td>\n",
       "    </tr>\n",
       "    <tr>\n",
       "      <th>3</th>\n",
       "      <td>cef67bcfe19066a932b7673e239eb23d</td>\n",
       "      <td>bebes</td>\n",
       "      <td>27.0</td>\n",
       "      <td>261.0</td>\n",
       "      <td>1.0</td>\n",
       "      <td>371.0</td>\n",
       "      <td>26.0</td>\n",
       "      <td>4.0</td>\n",
       "      <td>26.0</td>\n",
       "    </tr>\n",
       "    <tr>\n",
       "      <th>4</th>\n",
       "      <td>9dc1a7de274444849c219cff195d0b71</td>\n",
       "      <td>utilidades_domesticas</td>\n",
       "      <td>37.0</td>\n",
       "      <td>402.0</td>\n",
       "      <td>4.0</td>\n",
       "      <td>625.0</td>\n",
       "      <td>20.0</td>\n",
       "      <td>17.0</td>\n",
       "      <td>13.0</td>\n",
       "    </tr>\n",
       "  </tbody>\n",
       "</table>\n",
       "</div>"
      ],
      "text/plain": [
       "                         product_id  product_category_name  \\\n",
       "0  1e9e8ef04dbcff4541ed26657ea517e5             perfumaria   \n",
       "1  3aa071139cb16b67ca9e5dea641aaa2f                  artes   \n",
       "2  96bd76ec8810374ed1b65e291975717f          esporte_lazer   \n",
       "3  cef67bcfe19066a932b7673e239eb23d                  bebes   \n",
       "4  9dc1a7de274444849c219cff195d0b71  utilidades_domesticas   \n",
       "\n",
       "   product_name_lenght  product_description_lenght  product_photos_qty  \\\n",
       "0                 40.0                       287.0                 1.0   \n",
       "1                 44.0                       276.0                 1.0   \n",
       "2                 46.0                       250.0                 1.0   \n",
       "3                 27.0                       261.0                 1.0   \n",
       "4                 37.0                       402.0                 4.0   \n",
       "\n",
       "   product_weight_g  product_length_cm  product_height_cm  product_width_cm  \n",
       "0             225.0               16.0               10.0              14.0  \n",
       "1            1000.0               30.0               18.0              20.0  \n",
       "2             154.0               18.0                9.0              15.0  \n",
       "3             371.0               26.0                4.0              26.0  \n",
       "4             625.0               20.0               17.0              13.0  "
      ]
     },
     "execution_count": 5,
     "metadata": {},
     "output_type": "execute_result"
    }
   ],
   "source": [
    "products_df = pd.read_csv('data/products_dataset.csv')\n",
    "products_df.head()"
   ]
  },
  {
   "cell_type": "markdown",
   "metadata": {
    "id": "0MybDl_rA5S9"
   },
   "source": [
    "#### order_payments_dataset.csv"
   ]
  },
  {
   "cell_type": "code",
   "execution_count": 6,
   "metadata": {
    "colab": {
     "base_uri": "https://localhost:8080/",
     "height": 0
    },
    "id": "--DHDCc2YkMn",
    "outputId": "caa46e1c-00de-4585-9a10-d325f65bd7ba"
   },
   "outputs": [
    {
     "data": {
      "text/html": [
       "<div>\n",
       "<style scoped>\n",
       "    .dataframe tbody tr th:only-of-type {\n",
       "        vertical-align: middle;\n",
       "    }\n",
       "\n",
       "    .dataframe tbody tr th {\n",
       "        vertical-align: top;\n",
       "    }\n",
       "\n",
       "    .dataframe thead th {\n",
       "        text-align: right;\n",
       "    }\n",
       "</style>\n",
       "<table border=\"1\" class=\"dataframe\">\n",
       "  <thead>\n",
       "    <tr style=\"text-align: right;\">\n",
       "      <th></th>\n",
       "      <th>order_id</th>\n",
       "      <th>payment_sequential</th>\n",
       "      <th>payment_type</th>\n",
       "      <th>payment_installments</th>\n",
       "      <th>payment_value</th>\n",
       "    </tr>\n",
       "  </thead>\n",
       "  <tbody>\n",
       "    <tr>\n",
       "      <th>0</th>\n",
       "      <td>b81ef226f3fe1789b1e8b2acac839d17</td>\n",
       "      <td>1</td>\n",
       "      <td>credit_card</td>\n",
       "      <td>8</td>\n",
       "      <td>99.33</td>\n",
       "    </tr>\n",
       "    <tr>\n",
       "      <th>1</th>\n",
       "      <td>a9810da82917af2d9aefd1278f1dcfa0</td>\n",
       "      <td>1</td>\n",
       "      <td>credit_card</td>\n",
       "      <td>1</td>\n",
       "      <td>24.39</td>\n",
       "    </tr>\n",
       "    <tr>\n",
       "      <th>2</th>\n",
       "      <td>25e8ea4e93396b6fa0d3dd708e76c1bd</td>\n",
       "      <td>1</td>\n",
       "      <td>credit_card</td>\n",
       "      <td>1</td>\n",
       "      <td>65.71</td>\n",
       "    </tr>\n",
       "    <tr>\n",
       "      <th>3</th>\n",
       "      <td>ba78997921bbcdc1373bb41e913ab953</td>\n",
       "      <td>1</td>\n",
       "      <td>credit_card</td>\n",
       "      <td>8</td>\n",
       "      <td>107.78</td>\n",
       "    </tr>\n",
       "    <tr>\n",
       "      <th>4</th>\n",
       "      <td>42fdf880ba16b47b59251dd489d4441a</td>\n",
       "      <td>1</td>\n",
       "      <td>credit_card</td>\n",
       "      <td>2</td>\n",
       "      <td>128.45</td>\n",
       "    </tr>\n",
       "  </tbody>\n",
       "</table>\n",
       "</div>"
      ],
      "text/plain": [
       "                           order_id  payment_sequential payment_type  \\\n",
       "0  b81ef226f3fe1789b1e8b2acac839d17                   1  credit_card   \n",
       "1  a9810da82917af2d9aefd1278f1dcfa0                   1  credit_card   \n",
       "2  25e8ea4e93396b6fa0d3dd708e76c1bd                   1  credit_card   \n",
       "3  ba78997921bbcdc1373bb41e913ab953                   1  credit_card   \n",
       "4  42fdf880ba16b47b59251dd489d4441a                   1  credit_card   \n",
       "\n",
       "   payment_installments  payment_value  \n",
       "0                     8          99.33  \n",
       "1                     1          24.39  \n",
       "2                     1          65.71  \n",
       "3                     8         107.78  \n",
       "4                     2         128.45  "
      ]
     },
     "execution_count": 6,
     "metadata": {},
     "output_type": "execute_result"
    }
   ],
   "source": [
    "payments_df = pd.read_csv('data/order_payments_dataset.csv')\n",
    "payments_df.head()"
   ]
  },
  {
   "cell_type": "markdown",
   "metadata": {
    "id": "ECZO3crDBFOG"
   },
   "source": [
    "#### product_category_name_translation.csv"
   ]
  },
  {
   "cell_type": "code",
   "execution_count": 7,
   "metadata": {
    "colab": {
     "base_uri": "https://localhost:8080/",
     "height": 0
    },
    "id": "rMPPOrh75URU",
    "outputId": "f315f550-fe72-4fbb-b3fe-ddf8d4df4bb4"
   },
   "outputs": [
    {
     "data": {
      "text/html": [
       "<div>\n",
       "<style scoped>\n",
       "    .dataframe tbody tr th:only-of-type {\n",
       "        vertical-align: middle;\n",
       "    }\n",
       "\n",
       "    .dataframe tbody tr th {\n",
       "        vertical-align: top;\n",
       "    }\n",
       "\n",
       "    .dataframe thead th {\n",
       "        text-align: right;\n",
       "    }\n",
       "</style>\n",
       "<table border=\"1\" class=\"dataframe\">\n",
       "  <thead>\n",
       "    <tr style=\"text-align: right;\">\n",
       "      <th></th>\n",
       "      <th>product_category_name</th>\n",
       "      <th>product_category_name_english</th>\n",
       "    </tr>\n",
       "  </thead>\n",
       "  <tbody>\n",
       "    <tr>\n",
       "      <th>0</th>\n",
       "      <td>beleza_saude</td>\n",
       "      <td>health_beauty</td>\n",
       "    </tr>\n",
       "    <tr>\n",
       "      <th>1</th>\n",
       "      <td>informatica_acessorios</td>\n",
       "      <td>computers_accessories</td>\n",
       "    </tr>\n",
       "    <tr>\n",
       "      <th>2</th>\n",
       "      <td>automotivo</td>\n",
       "      <td>auto</td>\n",
       "    </tr>\n",
       "    <tr>\n",
       "      <th>3</th>\n",
       "      <td>cama_mesa_banho</td>\n",
       "      <td>bed_bath_table</td>\n",
       "    </tr>\n",
       "    <tr>\n",
       "      <th>4</th>\n",
       "      <td>moveis_decoracao</td>\n",
       "      <td>furniture_decor</td>\n",
       "    </tr>\n",
       "  </tbody>\n",
       "</table>\n",
       "</div>"
      ],
      "text/plain": [
       "    product_category_name product_category_name_english\n",
       "0            beleza_saude                 health_beauty\n",
       "1  informatica_acessorios         computers_accessories\n",
       "2              automotivo                          auto\n",
       "3         cama_mesa_banho                bed_bath_table\n",
       "4        moveis_decoracao               furniture_decor"
      ]
     },
     "execution_count": 7,
     "metadata": {},
     "output_type": "execute_result"
    }
   ],
   "source": [
    "products_category_translation_df = pd.read_csv('data/product_category_name_translation.csv')\n",
    "products_category_translation_df.head()"
   ]
  },
  {
   "cell_type": "code",
   "execution_count": 8,
   "metadata": {
    "id": "i2SrSqDjXrOV"
   },
   "outputs": [],
   "source": [
    "# dataframes = {\n",
    "#     'customers': customers_df,\n",
    "#     'orders': orders_df,\n",
    "#     'products': products_df,\n",
    "#     'payments': payments_df,\n",
    "#     'order_items': order_items_df,\n",
    "\n",
    "# }"
   ]
  },
  {
   "cell_type": "markdown",
   "metadata": {
    "id": "MMi6xGaDkbCi"
   },
   "source": [
    "**Insight:**\n",
    "- xxx\n",
    "- xxx"
   ]
  },
  {
   "cell_type": "markdown",
   "metadata": {
    "id": "FHSiqaZp8DC1"
   },
   "source": [
    "### Assessing Data"
   ]
  },
  {
   "cell_type": "markdown",
   "metadata": {
    "id": "AKhYoGPP9h9j"
   },
   "source": [
    "#### customers_dataset.csv"
   ]
  },
  {
   "cell_type": "code",
   "execution_count": 9,
   "metadata": {
    "colab": {
     "base_uri": "https://localhost:8080/"
    },
    "id": "g-SVRaI19nkb",
    "outputId": "c7eeba7c-77bb-4532-ddad-e19d97c0d177"
   },
   "outputs": [
    {
     "name": "stdout",
     "output_type": "stream",
     "text": [
      "<class 'pandas.core.frame.DataFrame'>\n",
      "RangeIndex: 99441 entries, 0 to 99440\n",
      "Data columns (total 5 columns):\n",
      " #   Column                    Non-Null Count  Dtype \n",
      "---  ------                    --------------  ----- \n",
      " 0   customer_id               99441 non-null  object\n",
      " 1   customer_unique_id        99441 non-null  object\n",
      " 2   customer_zip_code_prefix  99441 non-null  int64 \n",
      " 3   customer_city             99441 non-null  object\n",
      " 4   customer_state            99441 non-null  object\n",
      "dtypes: int64(1), object(4)\n",
      "memory usage: 3.8+ MB\n"
     ]
    }
   ],
   "source": [
    "customers_df.info()"
   ]
  },
  {
   "cell_type": "code",
   "execution_count": 10,
   "metadata": {
    "colab": {
     "base_uri": "https://localhost:8080/",
     "height": 0
    },
    "id": "7cZGGBD19qP0",
    "outputId": "8719ee7a-fb61-42d6-d612-6d48a82a0545"
   },
   "outputs": [
    {
     "data": {
      "text/plain": [
       "customer_id                 0\n",
       "customer_unique_id          0\n",
       "customer_zip_code_prefix    0\n",
       "customer_city               0\n",
       "customer_state              0\n",
       "dtype: int64"
      ]
     },
     "execution_count": 10,
     "metadata": {},
     "output_type": "execute_result"
    }
   ],
   "source": [
    "customers_df.isna().sum()"
   ]
  },
  {
   "cell_type": "code",
   "execution_count": 11,
   "metadata": {
    "colab": {
     "base_uri": "https://localhost:8080/"
    },
    "id": "S03P_EQN9sAt",
    "outputId": "3736554e-9f3f-4246-aa90-4c18746ad82c"
   },
   "outputs": [
    {
     "data": {
      "text/plain": [
       "np.int64(0)"
      ]
     },
     "execution_count": 11,
     "metadata": {},
     "output_type": "execute_result"
    }
   ],
   "source": [
    "customers_df.duplicated().sum()"
   ]
  },
  {
   "cell_type": "code",
   "execution_count": 12,
   "metadata": {
    "colab": {
     "base_uri": "https://localhost:8080/",
     "height": 0
    },
    "id": "ioJdbn009uDp",
    "outputId": "516633d9-7682-4f26-be7c-ee619a9fc43d"
   },
   "outputs": [
    {
     "data": {
      "text/html": [
       "<div>\n",
       "<style scoped>\n",
       "    .dataframe tbody tr th:only-of-type {\n",
       "        vertical-align: middle;\n",
       "    }\n",
       "\n",
       "    .dataframe tbody tr th {\n",
       "        vertical-align: top;\n",
       "    }\n",
       "\n",
       "    .dataframe thead th {\n",
       "        text-align: right;\n",
       "    }\n",
       "</style>\n",
       "<table border=\"1\" class=\"dataframe\">\n",
       "  <thead>\n",
       "    <tr style=\"text-align: right;\">\n",
       "      <th></th>\n",
       "      <th>customer_zip_code_prefix</th>\n",
       "    </tr>\n",
       "  </thead>\n",
       "  <tbody>\n",
       "    <tr>\n",
       "      <th>count</th>\n",
       "      <td>99441.000000</td>\n",
       "    </tr>\n",
       "    <tr>\n",
       "      <th>mean</th>\n",
       "      <td>35137.474583</td>\n",
       "    </tr>\n",
       "    <tr>\n",
       "      <th>std</th>\n",
       "      <td>29797.938996</td>\n",
       "    </tr>\n",
       "    <tr>\n",
       "      <th>min</th>\n",
       "      <td>1003.000000</td>\n",
       "    </tr>\n",
       "    <tr>\n",
       "      <th>25%</th>\n",
       "      <td>11347.000000</td>\n",
       "    </tr>\n",
       "    <tr>\n",
       "      <th>50%</th>\n",
       "      <td>24416.000000</td>\n",
       "    </tr>\n",
       "    <tr>\n",
       "      <th>75%</th>\n",
       "      <td>58900.000000</td>\n",
       "    </tr>\n",
       "    <tr>\n",
       "      <th>max</th>\n",
       "      <td>99990.000000</td>\n",
       "    </tr>\n",
       "  </tbody>\n",
       "</table>\n",
       "</div>"
      ],
      "text/plain": [
       "       customer_zip_code_prefix\n",
       "count              99441.000000\n",
       "mean               35137.474583\n",
       "std                29797.938996\n",
       "min                 1003.000000\n",
       "25%                11347.000000\n",
       "50%                24416.000000\n",
       "75%                58900.000000\n",
       "max                99990.000000"
      ]
     },
     "execution_count": 12,
     "metadata": {},
     "output_type": "execute_result"
    }
   ],
   "source": [
    "customers_df.describe()"
   ]
  },
  {
   "cell_type": "markdown",
   "metadata": {
    "id": "7dtxhAPrkhPL"
   },
   "source": [
    "**Insight:**\n",
    "Missing values pada beberapa kolom:\n",
    "order_approved_at: 160 missing values.\n",
    "order_delivered_carrier_date: 1,783 missing values.\n",
    "order_delivered_customer_date: 2,965 missing values.\n",
    "Tipe data: Kolom timestamp (order_purchase_timestamp, order_approved_at, order_delivered_carrier_date, order_delivered_customer_date, order_estimated_delivery_date) perlu dikonversi menjadi tipe datetime agar lebih mudah diolah."
   ]
  },
  {
   "cell_type": "markdown",
   "metadata": {
    "id": "ozrbkBeL93iL"
   },
   "source": []
  },
  {
   "cell_type": "markdown",
   "metadata": {
    "id": "D4oYleoN97s_"
   },
   "source": [
    "#### orders_dataset.csv"
   ]
  },
  {
   "cell_type": "code",
   "execution_count": 13,
   "metadata": {
    "colab": {
     "base_uri": "https://localhost:8080/"
    },
    "id": "Ha7GmYfX-H8C",
    "outputId": "3cf026fe-0cae-4219-f3b8-8e77d3988996"
   },
   "outputs": [
    {
     "name": "stdout",
     "output_type": "stream",
     "text": [
      "<class 'pandas.core.frame.DataFrame'>\n",
      "RangeIndex: 99441 entries, 0 to 99440\n",
      "Data columns (total 8 columns):\n",
      " #   Column                         Non-Null Count  Dtype \n",
      "---  ------                         --------------  ----- \n",
      " 0   order_id                       99441 non-null  object\n",
      " 1   customer_id                    99441 non-null  object\n",
      " 2   order_status                   99441 non-null  object\n",
      " 3   order_purchase_timestamp       99441 non-null  object\n",
      " 4   order_approved_at              99281 non-null  object\n",
      " 5   order_delivered_carrier_date   97658 non-null  object\n",
      " 6   order_delivered_customer_date  96476 non-null  object\n",
      " 7   order_estimated_delivery_date  99441 non-null  object\n",
      "dtypes: object(8)\n",
      "memory usage: 6.1+ MB\n"
     ]
    }
   ],
   "source": [
    "orders_df.info()\n"
   ]
  },
  {
   "cell_type": "code",
   "execution_count": 14,
   "metadata": {
    "colab": {
     "base_uri": "https://localhost:8080/",
     "height": 0
    },
    "id": "M12DKwW4-N78",
    "outputId": "e70db1c0-9e2e-464e-d756-5fc461ccb55c"
   },
   "outputs": [
    {
     "data": {
      "text/plain": [
       "order_id                            0\n",
       "customer_id                         0\n",
       "order_status                        0\n",
       "order_purchase_timestamp            0\n",
       "order_approved_at                 160\n",
       "order_delivered_carrier_date     1783\n",
       "order_delivered_customer_date    2965\n",
       "order_estimated_delivery_date       0\n",
       "dtype: int64"
      ]
     },
     "execution_count": 14,
     "metadata": {},
     "output_type": "execute_result"
    }
   ],
   "source": [
    "orders_df.isna().sum()"
   ]
  },
  {
   "cell_type": "code",
   "execution_count": 15,
   "metadata": {
    "colab": {
     "base_uri": "https://localhost:8080/"
    },
    "id": "WWcvewwv-PAT",
    "outputId": "ed7c823c-388c-4787-f4a1-972a3cc50b28"
   },
   "outputs": [
    {
     "data": {
      "text/plain": [
       "np.int64(0)"
      ]
     },
     "execution_count": 15,
     "metadata": {},
     "output_type": "execute_result"
    }
   ],
   "source": [
    "orders_df.duplicated().sum()"
   ]
  },
  {
   "cell_type": "code",
   "execution_count": 16,
   "metadata": {
    "colab": {
     "base_uri": "https://localhost:8080/",
     "height": 0
    },
    "id": "M9oVarR3-Qcv",
    "outputId": "8aa57d42-a6c7-4490-8c04-973fd463154c"
   },
   "outputs": [
    {
     "data": {
      "text/html": [
       "<div>\n",
       "<style scoped>\n",
       "    .dataframe tbody tr th:only-of-type {\n",
       "        vertical-align: middle;\n",
       "    }\n",
       "\n",
       "    .dataframe tbody tr th {\n",
       "        vertical-align: top;\n",
       "    }\n",
       "\n",
       "    .dataframe thead th {\n",
       "        text-align: right;\n",
       "    }\n",
       "</style>\n",
       "<table border=\"1\" class=\"dataframe\">\n",
       "  <thead>\n",
       "    <tr style=\"text-align: right;\">\n",
       "      <th></th>\n",
       "      <th>order_id</th>\n",
       "      <th>customer_id</th>\n",
       "      <th>order_status</th>\n",
       "      <th>order_purchase_timestamp</th>\n",
       "      <th>order_approved_at</th>\n",
       "      <th>order_delivered_carrier_date</th>\n",
       "      <th>order_delivered_customer_date</th>\n",
       "      <th>order_estimated_delivery_date</th>\n",
       "    </tr>\n",
       "  </thead>\n",
       "  <tbody>\n",
       "    <tr>\n",
       "      <th>count</th>\n",
       "      <td>99441</td>\n",
       "      <td>99441</td>\n",
       "      <td>99441</td>\n",
       "      <td>99441</td>\n",
       "      <td>99281</td>\n",
       "      <td>97658</td>\n",
       "      <td>96476</td>\n",
       "      <td>99441</td>\n",
       "    </tr>\n",
       "    <tr>\n",
       "      <th>unique</th>\n",
       "      <td>99441</td>\n",
       "      <td>99441</td>\n",
       "      <td>8</td>\n",
       "      <td>98875</td>\n",
       "      <td>90733</td>\n",
       "      <td>81018</td>\n",
       "      <td>95664</td>\n",
       "      <td>459</td>\n",
       "    </tr>\n",
       "    <tr>\n",
       "      <th>top</th>\n",
       "      <td>66dea50a8b16d9b4dee7af250b4be1a5</td>\n",
       "      <td>edb027a75a1449115f6b43211ae02a24</td>\n",
       "      <td>delivered</td>\n",
       "      <td>2018-08-02 12:05:26</td>\n",
       "      <td>2018-02-27 04:31:10</td>\n",
       "      <td>2018-05-09 15:48:00</td>\n",
       "      <td>2018-05-08 19:36:48</td>\n",
       "      <td>2017-12-20 00:00:00</td>\n",
       "    </tr>\n",
       "    <tr>\n",
       "      <th>freq</th>\n",
       "      <td>1</td>\n",
       "      <td>1</td>\n",
       "      <td>96478</td>\n",
       "      <td>3</td>\n",
       "      <td>9</td>\n",
       "      <td>47</td>\n",
       "      <td>3</td>\n",
       "      <td>522</td>\n",
       "    </tr>\n",
       "  </tbody>\n",
       "</table>\n",
       "</div>"
      ],
      "text/plain": [
       "                                order_id                       customer_id  \\\n",
       "count                              99441                             99441   \n",
       "unique                             99441                             99441   \n",
       "top     66dea50a8b16d9b4dee7af250b4be1a5  edb027a75a1449115f6b43211ae02a24   \n",
       "freq                                   1                                 1   \n",
       "\n",
       "       order_status order_purchase_timestamp    order_approved_at  \\\n",
       "count         99441                    99441                99281   \n",
       "unique            8                    98875                90733   \n",
       "top       delivered      2018-08-02 12:05:26  2018-02-27 04:31:10   \n",
       "freq          96478                        3                    9   \n",
       "\n",
       "       order_delivered_carrier_date order_delivered_customer_date  \\\n",
       "count                         97658                         96476   \n",
       "unique                        81018                         95664   \n",
       "top             2018-05-09 15:48:00           2018-05-08 19:36:48   \n",
       "freq                             47                             3   \n",
       "\n",
       "       order_estimated_delivery_date  \n",
       "count                          99441  \n",
       "unique                           459  \n",
       "top              2017-12-20 00:00:00  \n",
       "freq                             522  "
      ]
     },
     "execution_count": 16,
     "metadata": {},
     "output_type": "execute_result"
    }
   ],
   "source": [
    "orders_df.describe()"
   ]
  },
  {
   "cell_type": "markdown",
   "metadata": {
    "id": "QpiCO6ev-Tbr"
   },
   "source": [
    "#### order_items_dataset.csv"
   ]
  },
  {
   "cell_type": "code",
   "execution_count": 17,
   "metadata": {
    "colab": {
     "base_uri": "https://localhost:8080/"
    },
    "id": "aOEKiKKf-bjQ",
    "outputId": "3797d947-0cf0-424e-e5a6-cb97360607b1"
   },
   "outputs": [
    {
     "name": "stdout",
     "output_type": "stream",
     "text": [
      "<class 'pandas.core.frame.DataFrame'>\n",
      "RangeIndex: 112650 entries, 0 to 112649\n",
      "Data columns (total 7 columns):\n",
      " #   Column               Non-Null Count   Dtype  \n",
      "---  ------               --------------   -----  \n",
      " 0   order_id             112650 non-null  object \n",
      " 1   order_item_id        112650 non-null  int64  \n",
      " 2   product_id           112650 non-null  object \n",
      " 3   seller_id            112650 non-null  object \n",
      " 4   shipping_limit_date  112650 non-null  object \n",
      " 5   price                112650 non-null  float64\n",
      " 6   freight_value        112650 non-null  float64\n",
      "dtypes: float64(2), int64(1), object(4)\n",
      "memory usage: 6.0+ MB\n"
     ]
    }
   ],
   "source": [
    "order_items_df.info()"
   ]
  },
  {
   "cell_type": "code",
   "execution_count": 18,
   "metadata": {
    "colab": {
     "base_uri": "https://localhost:8080/",
     "height": 0
    },
    "id": "DxZJU34R-hUQ",
    "outputId": "33df0c2a-c608-45a8-9f0d-4743d49a43a4"
   },
   "outputs": [
    {
     "data": {
      "text/plain": [
       "order_id               0\n",
       "order_item_id          0\n",
       "product_id             0\n",
       "seller_id              0\n",
       "shipping_limit_date    0\n",
       "price                  0\n",
       "freight_value          0\n",
       "dtype: int64"
      ]
     },
     "execution_count": 18,
     "metadata": {},
     "output_type": "execute_result"
    }
   ],
   "source": [
    "order_items_df.isna().sum()"
   ]
  },
  {
   "cell_type": "code",
   "execution_count": 19,
   "metadata": {
    "colab": {
     "base_uri": "https://localhost:8080/"
    },
    "id": "TWPwF5Sn-jeq",
    "outputId": "906b488c-d11c-4b06-df45-3f35dcac622b"
   },
   "outputs": [
    {
     "data": {
      "text/plain": [
       "np.int64(0)"
      ]
     },
     "execution_count": 19,
     "metadata": {},
     "output_type": "execute_result"
    }
   ],
   "source": [
    "order_items_df.duplicated().sum()"
   ]
  },
  {
   "cell_type": "code",
   "execution_count": 20,
   "metadata": {
    "colab": {
     "base_uri": "https://localhost:8080/",
     "height": 0
    },
    "id": "Xc6LE3ID-kue",
    "outputId": "6f0a56e4-8ff1-42c7-9bc0-282d37f681fe"
   },
   "outputs": [
    {
     "data": {
      "text/html": [
       "<div>\n",
       "<style scoped>\n",
       "    .dataframe tbody tr th:only-of-type {\n",
       "        vertical-align: middle;\n",
       "    }\n",
       "\n",
       "    .dataframe tbody tr th {\n",
       "        vertical-align: top;\n",
       "    }\n",
       "\n",
       "    .dataframe thead th {\n",
       "        text-align: right;\n",
       "    }\n",
       "</style>\n",
       "<table border=\"1\" class=\"dataframe\">\n",
       "  <thead>\n",
       "    <tr style=\"text-align: right;\">\n",
       "      <th></th>\n",
       "      <th>order_item_id</th>\n",
       "      <th>price</th>\n",
       "      <th>freight_value</th>\n",
       "    </tr>\n",
       "  </thead>\n",
       "  <tbody>\n",
       "    <tr>\n",
       "      <th>count</th>\n",
       "      <td>112650.000000</td>\n",
       "      <td>112650.000000</td>\n",
       "      <td>112650.000000</td>\n",
       "    </tr>\n",
       "    <tr>\n",
       "      <th>mean</th>\n",
       "      <td>1.197834</td>\n",
       "      <td>120.653739</td>\n",
       "      <td>19.990320</td>\n",
       "    </tr>\n",
       "    <tr>\n",
       "      <th>std</th>\n",
       "      <td>0.705124</td>\n",
       "      <td>183.633928</td>\n",
       "      <td>15.806405</td>\n",
       "    </tr>\n",
       "    <tr>\n",
       "      <th>min</th>\n",
       "      <td>1.000000</td>\n",
       "      <td>0.850000</td>\n",
       "      <td>0.000000</td>\n",
       "    </tr>\n",
       "    <tr>\n",
       "      <th>25%</th>\n",
       "      <td>1.000000</td>\n",
       "      <td>39.900000</td>\n",
       "      <td>13.080000</td>\n",
       "    </tr>\n",
       "    <tr>\n",
       "      <th>50%</th>\n",
       "      <td>1.000000</td>\n",
       "      <td>74.990000</td>\n",
       "      <td>16.260000</td>\n",
       "    </tr>\n",
       "    <tr>\n",
       "      <th>75%</th>\n",
       "      <td>1.000000</td>\n",
       "      <td>134.900000</td>\n",
       "      <td>21.150000</td>\n",
       "    </tr>\n",
       "    <tr>\n",
       "      <th>max</th>\n",
       "      <td>21.000000</td>\n",
       "      <td>6735.000000</td>\n",
       "      <td>409.680000</td>\n",
       "    </tr>\n",
       "  </tbody>\n",
       "</table>\n",
       "</div>"
      ],
      "text/plain": [
       "       order_item_id          price  freight_value\n",
       "count  112650.000000  112650.000000  112650.000000\n",
       "mean        1.197834     120.653739      19.990320\n",
       "std         0.705124     183.633928      15.806405\n",
       "min         1.000000       0.850000       0.000000\n",
       "25%         1.000000      39.900000      13.080000\n",
       "50%         1.000000      74.990000      16.260000\n",
       "75%         1.000000     134.900000      21.150000\n",
       "max        21.000000    6735.000000     409.680000"
      ]
     },
     "execution_count": 20,
     "metadata": {},
     "output_type": "execute_result"
    }
   ],
   "source": [
    "order_items_df.describe()"
   ]
  },
  {
   "cell_type": "markdown",
   "metadata": {
    "id": "gfN8zWBc740t"
   },
   "source": [
    "#### order_payments_dataset.csv"
   ]
  },
  {
   "cell_type": "code",
   "execution_count": 21,
   "metadata": {
    "colab": {
     "base_uri": "https://localhost:8080/"
    },
    "id": "rhvTDbNCDL4B",
    "outputId": "8b0f6834-3cde-45b0-85bb-2db10c2d49e9"
   },
   "outputs": [
    {
     "name": "stdout",
     "output_type": "stream",
     "text": [
      "<class 'pandas.core.frame.DataFrame'>\n",
      "RangeIndex: 103886 entries, 0 to 103885\n",
      "Data columns (total 5 columns):\n",
      " #   Column                Non-Null Count   Dtype  \n",
      "---  ------                --------------   -----  \n",
      " 0   order_id              103886 non-null  object \n",
      " 1   payment_sequential    103886 non-null  int64  \n",
      " 2   payment_type          103886 non-null  object \n",
      " 3   payment_installments  103886 non-null  int64  \n",
      " 4   payment_value         103886 non-null  float64\n",
      "dtypes: float64(1), int64(2), object(2)\n",
      "memory usage: 4.0+ MB\n"
     ]
    }
   ],
   "source": [
    "payments_df.info()"
   ]
  },
  {
   "cell_type": "code",
   "execution_count": 22,
   "metadata": {
    "colab": {
     "base_uri": "https://localhost:8080/",
     "height": 0
    },
    "id": "m7et8TxODN3v",
    "outputId": "ac4acab9-910d-4c19-c950-fb216c6d400c"
   },
   "outputs": [
    {
     "data": {
      "text/plain": [
       "order_id                0\n",
       "payment_sequential      0\n",
       "payment_type            0\n",
       "payment_installments    0\n",
       "payment_value           0\n",
       "dtype: int64"
      ]
     },
     "execution_count": 22,
     "metadata": {},
     "output_type": "execute_result"
    }
   ],
   "source": [
    "payments_df.isna().sum()"
   ]
  },
  {
   "cell_type": "code",
   "execution_count": 23,
   "metadata": {
    "colab": {
     "base_uri": "https://localhost:8080/"
    },
    "id": "pZgZh09-DQVX",
    "outputId": "a63e1f79-3cdb-4a5c-85be-1bb8203f5515"
   },
   "outputs": [
    {
     "data": {
      "text/plain": [
       "np.int64(0)"
      ]
     },
     "execution_count": 23,
     "metadata": {},
     "output_type": "execute_result"
    }
   ],
   "source": [
    "payments_df.duplicated().sum()"
   ]
  },
  {
   "cell_type": "code",
   "execution_count": 24,
   "metadata": {
    "colab": {
     "base_uri": "https://localhost:8080/",
     "height": 0
    },
    "id": "cqxSygZJDRer",
    "outputId": "5301ea75-78c5-4f45-aae7-3427539ad611"
   },
   "outputs": [
    {
     "data": {
      "text/html": [
       "<div>\n",
       "<style scoped>\n",
       "    .dataframe tbody tr th:only-of-type {\n",
       "        vertical-align: middle;\n",
       "    }\n",
       "\n",
       "    .dataframe tbody tr th {\n",
       "        vertical-align: top;\n",
       "    }\n",
       "\n",
       "    .dataframe thead th {\n",
       "        text-align: right;\n",
       "    }\n",
       "</style>\n",
       "<table border=\"1\" class=\"dataframe\">\n",
       "  <thead>\n",
       "    <tr style=\"text-align: right;\">\n",
       "      <th></th>\n",
       "      <th>payment_sequential</th>\n",
       "      <th>payment_installments</th>\n",
       "      <th>payment_value</th>\n",
       "    </tr>\n",
       "  </thead>\n",
       "  <tbody>\n",
       "    <tr>\n",
       "      <th>count</th>\n",
       "      <td>103886.000000</td>\n",
       "      <td>103886.000000</td>\n",
       "      <td>103886.000000</td>\n",
       "    </tr>\n",
       "    <tr>\n",
       "      <th>mean</th>\n",
       "      <td>1.092679</td>\n",
       "      <td>2.853349</td>\n",
       "      <td>154.100380</td>\n",
       "    </tr>\n",
       "    <tr>\n",
       "      <th>std</th>\n",
       "      <td>0.706584</td>\n",
       "      <td>2.687051</td>\n",
       "      <td>217.494064</td>\n",
       "    </tr>\n",
       "    <tr>\n",
       "      <th>min</th>\n",
       "      <td>1.000000</td>\n",
       "      <td>0.000000</td>\n",
       "      <td>0.000000</td>\n",
       "    </tr>\n",
       "    <tr>\n",
       "      <th>25%</th>\n",
       "      <td>1.000000</td>\n",
       "      <td>1.000000</td>\n",
       "      <td>56.790000</td>\n",
       "    </tr>\n",
       "    <tr>\n",
       "      <th>50%</th>\n",
       "      <td>1.000000</td>\n",
       "      <td>1.000000</td>\n",
       "      <td>100.000000</td>\n",
       "    </tr>\n",
       "    <tr>\n",
       "      <th>75%</th>\n",
       "      <td>1.000000</td>\n",
       "      <td>4.000000</td>\n",
       "      <td>171.837500</td>\n",
       "    </tr>\n",
       "    <tr>\n",
       "      <th>max</th>\n",
       "      <td>29.000000</td>\n",
       "      <td>24.000000</td>\n",
       "      <td>13664.080000</td>\n",
       "    </tr>\n",
       "  </tbody>\n",
       "</table>\n",
       "</div>"
      ],
      "text/plain": [
       "       payment_sequential  payment_installments  payment_value\n",
       "count       103886.000000         103886.000000  103886.000000\n",
       "mean             1.092679              2.853349     154.100380\n",
       "std              0.706584              2.687051     217.494064\n",
       "min              1.000000              0.000000       0.000000\n",
       "25%              1.000000              1.000000      56.790000\n",
       "50%              1.000000              1.000000     100.000000\n",
       "75%              1.000000              4.000000     171.837500\n",
       "max             29.000000             24.000000   13664.080000"
      ]
     },
     "execution_count": 24,
     "metadata": {},
     "output_type": "execute_result"
    }
   ],
   "source": [
    "payments_df.describe()"
   ]
  },
  {
   "cell_type": "markdown",
   "metadata": {
    "id": "oWvp-adiDZJl"
   },
   "source": [
    "#### products_dataset.csv"
   ]
  },
  {
   "cell_type": "code",
   "execution_count": 25,
   "metadata": {
    "colab": {
     "base_uri": "https://localhost:8080/"
    },
    "id": "NUNIqo8pDcML",
    "outputId": "ee0bda48-8375-45bc-c4a8-221d737b88aa"
   },
   "outputs": [
    {
     "name": "stdout",
     "output_type": "stream",
     "text": [
      "<class 'pandas.core.frame.DataFrame'>\n",
      "RangeIndex: 32951 entries, 0 to 32950\n",
      "Data columns (total 9 columns):\n",
      " #   Column                      Non-Null Count  Dtype  \n",
      "---  ------                      --------------  -----  \n",
      " 0   product_id                  32951 non-null  object \n",
      " 1   product_category_name       32341 non-null  object \n",
      " 2   product_name_lenght         32341 non-null  float64\n",
      " 3   product_description_lenght  32341 non-null  float64\n",
      " 4   product_photos_qty          32341 non-null  float64\n",
      " 5   product_weight_g            32949 non-null  float64\n",
      " 6   product_length_cm           32949 non-null  float64\n",
      " 7   product_height_cm           32949 non-null  float64\n",
      " 8   product_width_cm            32949 non-null  float64\n",
      "dtypes: float64(7), object(2)\n",
      "memory usage: 2.3+ MB\n"
     ]
    }
   ],
   "source": [
    "products_df.info()"
   ]
  },
  {
   "cell_type": "code",
   "execution_count": 26,
   "metadata": {
    "colab": {
     "base_uri": "https://localhost:8080/",
     "height": 366
    },
    "id": "dUCb-eGPDe2o",
    "outputId": "8c9ec7d4-bcdd-46bc-b58a-d8233cb00229"
   },
   "outputs": [
    {
     "data": {
      "text/plain": [
       "product_id                      0\n",
       "product_category_name         610\n",
       "product_name_lenght           610\n",
       "product_description_lenght    610\n",
       "product_photos_qty            610\n",
       "product_weight_g                2\n",
       "product_length_cm               2\n",
       "product_height_cm               2\n",
       "product_width_cm                2\n",
       "dtype: int64"
      ]
     },
     "execution_count": 26,
     "metadata": {},
     "output_type": "execute_result"
    }
   ],
   "source": [
    "products_df.isna().sum()"
   ]
  },
  {
   "cell_type": "code",
   "execution_count": 27,
   "metadata": {
    "colab": {
     "base_uri": "https://localhost:8080/"
    },
    "id": "hLWghqfQDgF6",
    "outputId": "e2b63c1b-060d-40d0-9b49-d53f0a3ab1a8"
   },
   "outputs": [
    {
     "data": {
      "text/plain": [
       "np.int64(0)"
      ]
     },
     "execution_count": 27,
     "metadata": {},
     "output_type": "execute_result"
    }
   ],
   "source": [
    "products_df.duplicated().sum()"
   ]
  },
  {
   "cell_type": "code",
   "execution_count": 28,
   "metadata": {
    "colab": {
     "base_uri": "https://localhost:8080/",
     "height": 320
    },
    "id": "ux-Xj1PoDhec",
    "outputId": "a10c8681-a542-482d-8916-c6c3b907853e"
   },
   "outputs": [
    {
     "data": {
      "text/html": [
       "<div>\n",
       "<style scoped>\n",
       "    .dataframe tbody tr th:only-of-type {\n",
       "        vertical-align: middle;\n",
       "    }\n",
       "\n",
       "    .dataframe tbody tr th {\n",
       "        vertical-align: top;\n",
       "    }\n",
       "\n",
       "    .dataframe thead th {\n",
       "        text-align: right;\n",
       "    }\n",
       "</style>\n",
       "<table border=\"1\" class=\"dataframe\">\n",
       "  <thead>\n",
       "    <tr style=\"text-align: right;\">\n",
       "      <th></th>\n",
       "      <th>product_name_lenght</th>\n",
       "      <th>product_description_lenght</th>\n",
       "      <th>product_photos_qty</th>\n",
       "      <th>product_weight_g</th>\n",
       "      <th>product_length_cm</th>\n",
       "      <th>product_height_cm</th>\n",
       "      <th>product_width_cm</th>\n",
       "    </tr>\n",
       "  </thead>\n",
       "  <tbody>\n",
       "    <tr>\n",
       "      <th>count</th>\n",
       "      <td>32341.000000</td>\n",
       "      <td>32341.000000</td>\n",
       "      <td>32341.000000</td>\n",
       "      <td>32949.000000</td>\n",
       "      <td>32949.000000</td>\n",
       "      <td>32949.000000</td>\n",
       "      <td>32949.000000</td>\n",
       "    </tr>\n",
       "    <tr>\n",
       "      <th>mean</th>\n",
       "      <td>48.476949</td>\n",
       "      <td>771.495285</td>\n",
       "      <td>2.188986</td>\n",
       "      <td>2276.472488</td>\n",
       "      <td>30.815078</td>\n",
       "      <td>16.937661</td>\n",
       "      <td>23.196728</td>\n",
       "    </tr>\n",
       "    <tr>\n",
       "      <th>std</th>\n",
       "      <td>10.245741</td>\n",
       "      <td>635.115225</td>\n",
       "      <td>1.736766</td>\n",
       "      <td>4282.038731</td>\n",
       "      <td>16.914458</td>\n",
       "      <td>13.637554</td>\n",
       "      <td>12.079047</td>\n",
       "    </tr>\n",
       "    <tr>\n",
       "      <th>min</th>\n",
       "      <td>5.000000</td>\n",
       "      <td>4.000000</td>\n",
       "      <td>1.000000</td>\n",
       "      <td>0.000000</td>\n",
       "      <td>7.000000</td>\n",
       "      <td>2.000000</td>\n",
       "      <td>6.000000</td>\n",
       "    </tr>\n",
       "    <tr>\n",
       "      <th>25%</th>\n",
       "      <td>42.000000</td>\n",
       "      <td>339.000000</td>\n",
       "      <td>1.000000</td>\n",
       "      <td>300.000000</td>\n",
       "      <td>18.000000</td>\n",
       "      <td>8.000000</td>\n",
       "      <td>15.000000</td>\n",
       "    </tr>\n",
       "    <tr>\n",
       "      <th>50%</th>\n",
       "      <td>51.000000</td>\n",
       "      <td>595.000000</td>\n",
       "      <td>1.000000</td>\n",
       "      <td>700.000000</td>\n",
       "      <td>25.000000</td>\n",
       "      <td>13.000000</td>\n",
       "      <td>20.000000</td>\n",
       "    </tr>\n",
       "    <tr>\n",
       "      <th>75%</th>\n",
       "      <td>57.000000</td>\n",
       "      <td>972.000000</td>\n",
       "      <td>3.000000</td>\n",
       "      <td>1900.000000</td>\n",
       "      <td>38.000000</td>\n",
       "      <td>21.000000</td>\n",
       "      <td>30.000000</td>\n",
       "    </tr>\n",
       "    <tr>\n",
       "      <th>max</th>\n",
       "      <td>76.000000</td>\n",
       "      <td>3992.000000</td>\n",
       "      <td>20.000000</td>\n",
       "      <td>40425.000000</td>\n",
       "      <td>105.000000</td>\n",
       "      <td>105.000000</td>\n",
       "      <td>118.000000</td>\n",
       "    </tr>\n",
       "  </tbody>\n",
       "</table>\n",
       "</div>"
      ],
      "text/plain": [
       "       product_name_lenght  product_description_lenght  product_photos_qty  \\\n",
       "count         32341.000000                32341.000000        32341.000000   \n",
       "mean             48.476949                  771.495285            2.188986   \n",
       "std              10.245741                  635.115225            1.736766   \n",
       "min               5.000000                    4.000000            1.000000   \n",
       "25%              42.000000                  339.000000            1.000000   \n",
       "50%              51.000000                  595.000000            1.000000   \n",
       "75%              57.000000                  972.000000            3.000000   \n",
       "max              76.000000                 3992.000000           20.000000   \n",
       "\n",
       "       product_weight_g  product_length_cm  product_height_cm  \\\n",
       "count      32949.000000       32949.000000       32949.000000   \n",
       "mean        2276.472488          30.815078          16.937661   \n",
       "std         4282.038731          16.914458          13.637554   \n",
       "min            0.000000           7.000000           2.000000   \n",
       "25%          300.000000          18.000000           8.000000   \n",
       "50%          700.000000          25.000000          13.000000   \n",
       "75%         1900.000000          38.000000          21.000000   \n",
       "max        40425.000000         105.000000         105.000000   \n",
       "\n",
       "       product_width_cm  \n",
       "count      32949.000000  \n",
       "mean          23.196728  \n",
       "std           12.079047  \n",
       "min            6.000000  \n",
       "25%           15.000000  \n",
       "50%           20.000000  \n",
       "75%           30.000000  \n",
       "max          118.000000  "
      ]
     },
     "execution_count": 28,
     "metadata": {},
     "output_type": "execute_result"
    }
   ],
   "source": [
    "products_df.describe()"
   ]
  },
  {
   "cell_type": "markdown",
   "metadata": {
    "id": "DiUFBdsJwYM2"
   },
   "source": [
    "insight :\n",
    "## 1. Customers\n",
    "- Tidak ada masalah yang perlu dibersihkan, karena tidak ada **missing values** atau **duplikasi**.\n",
    "- ada\t**customer_state yang tidak umum** dan  customer_city biasa menggunakan **capitalate**\n",
    "\n",
    "## 2. Orders\n",
    "- **Missing values** pada beberapa kolom:\n",
    "  - `order_approved_at`: 160 missing values.\n",
    "  - `order_delivered_carrier_date`: 1,783 missing values.\n",
    "  - `order_delivered_customer_date`: 2,965 missing values.\n",
    "- **Tipe data**: Kolom timestamp (`order_purchase_timestamp`, `order_approved_at`, `order_delivered_carrier_date`, `order_delivered_customer_date`, `order_estimated_delivery_date`) perlu dikonversi menjadi tipe `datetime` agar lebih mudah diolah.\n",
    "\n",
    "## 3. Products\n",
    "- **Missing values** pada beberapa kolom:\n",
    "  - `product_category_name`, `product_name_lenght`, `product_description_lenght`, `product_photos_qty`: 610 missing values.\n",
    "  - `product_weight_g`, `product_length_cm`, `product_height_cm`, `product_width_cm`: 2 missing values.\n",
    "- **Tipe data**: Kolom `product_name_lenght`, `product_description_lenght`, dan `product_photos_qty` sebaiknya dicek kembali apakah tipe `float64` sesuai atau perlu dikonversi ke tipe lain.\n",
    "\n",
    "## 4. Payments\n",
    "- Tidak ada masalah yang perlu dibersihkan, karena tidak ada **missing values** atau **duplikasi**.\n",
    "\n",
    "\n",
    "## 5. Categories\n",
    "- Tidak ada masalah yang perlu dibersihkan, karena tidak ada **missing values** atau **duplikasi**.\n"
   ]
  },
  {
   "cell_type": "markdown",
   "metadata": {
    "id": "EhN5R4hr8DC1"
   },
   "source": [
    "### Cleaning Data"
   ]
  },
  {
   "cell_type": "markdown",
   "metadata": {
    "id": "nO2FWe3yEqgb"
   },
   "source": [
    "#### customers_dataset.csv"
   ]
  },
  {
   "cell_type": "code",
   "execution_count": 29,
   "metadata": {
    "colab": {
     "base_uri": "https://localhost:8080/",
     "height": 0
    },
    "id": "JYrJs7agEs-W",
    "outputId": "f4a1f351-61e6-4ba2-a80c-d96be3301366"
   },
   "outputs": [
    {
     "data": {
      "text/html": [
       "<div>\n",
       "<style scoped>\n",
       "    .dataframe tbody tr th:only-of-type {\n",
       "        vertical-align: middle;\n",
       "    }\n",
       "\n",
       "    .dataframe tbody tr th {\n",
       "        vertical-align: top;\n",
       "    }\n",
       "\n",
       "    .dataframe thead th {\n",
       "        text-align: right;\n",
       "    }\n",
       "</style>\n",
       "<table border=\"1\" class=\"dataframe\">\n",
       "  <thead>\n",
       "    <tr style=\"text-align: right;\">\n",
       "      <th></th>\n",
       "      <th>customer_id</th>\n",
       "      <th>customer_unique_id</th>\n",
       "      <th>customer_zip_code_prefix</th>\n",
       "      <th>customer_city</th>\n",
       "      <th>customer_state</th>\n",
       "    </tr>\n",
       "  </thead>\n",
       "  <tbody>\n",
       "    <tr>\n",
       "      <th>0</th>\n",
       "      <td>06b8999e2fba1a1fbc88172c00ba8bc7</td>\n",
       "      <td>861eff4711a542e4b93843c6dd7febb0</td>\n",
       "      <td>14409</td>\n",
       "      <td>Franca</td>\n",
       "      <td>SP</td>\n",
       "    </tr>\n",
       "    <tr>\n",
       "      <th>1</th>\n",
       "      <td>18955e83d337fd6b2def6b18a428ac77</td>\n",
       "      <td>290c77bc529b7ac935b93aa66c333dc3</td>\n",
       "      <td>9790</td>\n",
       "      <td>Sao Bernardo Do Campo</td>\n",
       "      <td>SP</td>\n",
       "    </tr>\n",
       "  </tbody>\n",
       "</table>\n",
       "</div>"
      ],
      "text/plain": [
       "                        customer_id                customer_unique_id  \\\n",
       "0  06b8999e2fba1a1fbc88172c00ba8bc7  861eff4711a542e4b93843c6dd7febb0   \n",
       "1  18955e83d337fd6b2def6b18a428ac77  290c77bc529b7ac935b93aa66c333dc3   \n",
       "\n",
       "   customer_zip_code_prefix          customer_city customer_state  \n",
       "0                     14409                 Franca             SP  \n",
       "1                      9790  Sao Bernardo Do Campo             SP  "
      ]
     },
     "execution_count": 29,
     "metadata": {},
     "output_type": "execute_result"
    }
   ],
   "source": [
    "def capitalate_city(city):\n",
    "    return city.title()\n",
    "\n",
    "customers_df['customer_city'] = customers_df['customer_city'].apply(capitalate_city)\n",
    "\n",
    "customers_df.head(2)"
   ]
  },
  {
   "cell_type": "markdown",
   "metadata": {
    "id": "H_f6rVoZGkhm"
   },
   "source": [
    "#### data dapat dari https://www.drupal.org/node/2559551 untuk mengubah customer_state"
   ]
  },
  {
   "cell_type": "code",
   "execution_count": 30,
   "metadata": {
    "colab": {
     "base_uri": "https://localhost:8080/",
     "height": 0
    },
    "id": "P7xnUnU7FJdd",
    "outputId": "24520238-257d-41bb-991d-4a86181f5630"
   },
   "outputs": [
    {
     "data": {
      "text/html": [
       "<div>\n",
       "<style scoped>\n",
       "    .dataframe tbody tr th:only-of-type {\n",
       "        vertical-align: middle;\n",
       "    }\n",
       "\n",
       "    .dataframe tbody tr th {\n",
       "        vertical-align: top;\n",
       "    }\n",
       "\n",
       "    .dataframe thead th {\n",
       "        text-align: right;\n",
       "    }\n",
       "</style>\n",
       "<table border=\"1\" class=\"dataframe\">\n",
       "  <thead>\n",
       "    <tr style=\"text-align: right;\">\n",
       "      <th></th>\n",
       "      <th>customer_id</th>\n",
       "      <th>customer_unique_id</th>\n",
       "      <th>customer_zip_code_prefix</th>\n",
       "      <th>customer_city</th>\n",
       "      <th>customer_state</th>\n",
       "    </tr>\n",
       "  </thead>\n",
       "  <tbody>\n",
       "    <tr>\n",
       "      <th>0</th>\n",
       "      <td>06b8999e2fba1a1fbc88172c00ba8bc7</td>\n",
       "      <td>861eff4711a542e4b93843c6dd7febb0</td>\n",
       "      <td>14409</td>\n",
       "      <td>Franca</td>\n",
       "      <td>São Paulo</td>\n",
       "    </tr>\n",
       "    <tr>\n",
       "      <th>1</th>\n",
       "      <td>18955e83d337fd6b2def6b18a428ac77</td>\n",
       "      <td>290c77bc529b7ac935b93aa66c333dc3</td>\n",
       "      <td>9790</td>\n",
       "      <td>Sao Bernardo Do Campo</td>\n",
       "      <td>São Paulo</td>\n",
       "    </tr>\n",
       "  </tbody>\n",
       "</table>\n",
       "</div>"
      ],
      "text/plain": [
       "                        customer_id                customer_unique_id  \\\n",
       "0  06b8999e2fba1a1fbc88172c00ba8bc7  861eff4711a542e4b93843c6dd7febb0   \n",
       "1  18955e83d337fd6b2def6b18a428ac77  290c77bc529b7ac935b93aa66c333dc3   \n",
       "\n",
       "   customer_zip_code_prefix          customer_city customer_state  \n",
       "0                     14409                 Franca      São Paulo  \n",
       "1                      9790  Sao Bernardo Do Campo      São Paulo  "
      ]
     },
     "execution_count": 30,
     "metadata": {},
     "output_type": "execute_result"
    }
   ],
   "source": [
    "state_mapping = {\n",
    "    'AC': 'Acre',\n",
    "    'AL': 'Alagoas',\n",
    "    'AM': 'Amazonas',\n",
    "    'AP': 'Amapá',\n",
    "    'BA': 'Bahia',\n",
    "    'CE': 'Ceará',\n",
    "    'DF': 'Distrito Federal',\n",
    "    'ES': 'Espírito Santo',\n",
    "    'GO': 'Goiás',\n",
    "    'MA': 'Maranhão',\n",
    "    'MG': 'Minas Gerais',\n",
    "    'MS': 'Mato Grosso do Sul',\n",
    "    'MT': 'Mato Grosso',\n",
    "    'PA': 'Pará',\n",
    "    'PB': 'Paraíba',\n",
    "    'PE': 'Pernambuco',\n",
    "    'PI': 'Piauí',\n",
    "    'PR': 'Paraná',\n",
    "    'RJ': 'Rio de Janeiro',\n",
    "    'RN': 'Rio Grande do Norte',\n",
    "    'RO': 'Rondônia',\n",
    "    'RR': 'Roraima',\n",
    "    'RS': 'Rio Grande do Sul',\n",
    "    'SC': 'Santa Catarina',\n",
    "    'SE': 'Sergipe',\n",
    "    'SP': 'São Paulo',\n",
    "    'TO': 'Tocantins'\n",
    "}\n",
    "\n",
    "customers_df['customer_state'] = customers_df['customer_state'].map(state_mapping)\n",
    "customers_df.head(2)\n"
   ]
  },
  {
   "cell_type": "markdown",
   "metadata": {
    "id": "icBeOlfSDrxB"
   },
   "source": [
    "#### Konversi Tipe Data dan Penanganan Nilai Hilang orders_dataset.csv"
   ]
  },
  {
   "cell_type": "code",
   "execution_count": 31,
   "metadata": {
    "id": "jVnYpprE9Evz"
   },
   "outputs": [],
   "source": [
    "orders_df['order_purchase_timestamp'] = pd.to_datetime(orders_df['order_purchase_timestamp'])\n",
    "orders_df['order_approved_at'] = pd.to_datetime(orders_df['order_approved_at'])\n",
    "orders_df['order_delivered_carrier_date'] = pd.to_datetime(orders_df['order_delivered_carrier_date'])\n",
    "orders_df['order_delivered_customer_date'] = pd.to_datetime(orders_df['order_delivered_customer_date'])\n",
    "orders_df['order_estimated_delivery_date'] = pd.to_datetime(orders_df['order_estimated_delivery_date'])\n",
    "\n",
    "\n",
    "orders_df = orders_df[orders_df['order_approved_at'].notna()]\n",
    "\n",
    "\n",
    "orders_df = orders_df[orders_df['order_delivered_customer_date'].notna()]\n",
    "orders_df = orders_df[orders_df['order_delivered_carrier_date'].notna()]\n"
   ]
  },
  {
   "cell_type": "code",
   "execution_count": 32,
   "metadata": {
    "colab": {
     "base_uri": "https://localhost:8080/",
     "height": 0
    },
    "id": "HBgpYxVSDzs6",
    "outputId": "ecde6d01-37ad-4385-f443-286b04276abb"
   },
   "outputs": [
    {
     "data": {
      "text/plain": [
       "order_id                         0\n",
       "customer_id                      0\n",
       "order_status                     0\n",
       "order_purchase_timestamp         0\n",
       "order_approved_at                0\n",
       "order_delivered_carrier_date     0\n",
       "order_delivered_customer_date    0\n",
       "order_estimated_delivery_date    0\n",
       "dtype: int64"
      ]
     },
     "execution_count": 32,
     "metadata": {},
     "output_type": "execute_result"
    }
   ],
   "source": [
    "orders_df.isnull().sum()"
   ]
  },
  {
   "cell_type": "code",
   "execution_count": 33,
   "metadata": {
    "colab": {
     "base_uri": "https://localhost:8080/"
    },
    "id": "PSPG0hNOURAN",
    "outputId": "0cbb6aff-9375-4ac2-dd3f-561330633dfa"
   },
   "outputs": [
    {
     "name": "stdout",
     "output_type": "stream",
     "text": [
      "<class 'pandas.core.frame.DataFrame'>\n",
      "Index: 96461 entries, 0 to 99440\n",
      "Data columns (total 8 columns):\n",
      " #   Column                         Non-Null Count  Dtype         \n",
      "---  ------                         --------------  -----         \n",
      " 0   order_id                       96461 non-null  object        \n",
      " 1   customer_id                    96461 non-null  object        \n",
      " 2   order_status                   96461 non-null  object        \n",
      " 3   order_purchase_timestamp       96461 non-null  datetime64[ns]\n",
      " 4   order_approved_at              96461 non-null  datetime64[ns]\n",
      " 5   order_delivered_carrier_date   96461 non-null  datetime64[ns]\n",
      " 6   order_delivered_customer_date  96461 non-null  datetime64[ns]\n",
      " 7   order_estimated_delivery_date  96461 non-null  datetime64[ns]\n",
      "dtypes: datetime64[ns](5), object(3)\n",
      "memory usage: 6.6+ MB\n"
     ]
    }
   ],
   "source": [
    "orders_df.info()"
   ]
  },
  {
   "cell_type": "markdown",
   "metadata": {
    "id": "dZqMjWg2D8GO"
   },
   "source": [
    "#### Imputasi Nilai Hilang dan Konversi Tipe Data products_dataset.csv"
   ]
  },
  {
   "cell_type": "code",
   "execution_count": 34,
   "metadata": {
    "colab": {
     "base_uri": "https://localhost:8080/"
    },
    "id": "Z_jvvtI7N8-P",
    "outputId": "2791b5c0-cd18-4a39-c6fb-3e6d6721958f"
   },
   "outputs": [
    {
     "name": "stderr",
     "output_type": "stream",
     "text": [
      "C:\\Users\\haldies\\AppData\\Local\\Temp\\ipykernel_30452\\528359164.py:1: FutureWarning: A value is trying to be set on a copy of a DataFrame or Series through chained assignment using an inplace method.\n",
      "The behavior will change in pandas 3.0. This inplace method will never work because the intermediate object on which we are setting values always behaves as a copy.\n",
      "\n",
      "For example, when doing 'df[col].method(value, inplace=True)', try using 'df.method({col: value}, inplace=True)' or df[col] = df[col].method(value) instead, to perform the operation inplace on the original object.\n",
      "\n",
      "\n",
      "  products_df['product_category_name'].fillna(products_df['product_category_name'].mode()[0], inplace=True)\n",
      "C:\\Users\\haldies\\AppData\\Local\\Temp\\ipykernel_30452\\528359164.py:2: FutureWarning: A value is trying to be set on a copy of a DataFrame or Series through chained assignment using an inplace method.\n",
      "The behavior will change in pandas 3.0. This inplace method will never work because the intermediate object on which we are setting values always behaves as a copy.\n",
      "\n",
      "For example, when doing 'df[col].method(value, inplace=True)', try using 'df.method({col: value}, inplace=True)' or df[col] = df[col].method(value) instead, to perform the operation inplace on the original object.\n",
      "\n",
      "\n",
      "  products_df['product_name_lenght'].fillna(products_df['product_name_lenght'].mean(), inplace=True)\n",
      "C:\\Users\\haldies\\AppData\\Local\\Temp\\ipykernel_30452\\528359164.py:3: FutureWarning: A value is trying to be set on a copy of a DataFrame or Series through chained assignment using an inplace method.\n",
      "The behavior will change in pandas 3.0. This inplace method will never work because the intermediate object on which we are setting values always behaves as a copy.\n",
      "\n",
      "For example, when doing 'df[col].method(value, inplace=True)', try using 'df.method({col: value}, inplace=True)' or df[col] = df[col].method(value) instead, to perform the operation inplace on the original object.\n",
      "\n",
      "\n",
      "  products_df['product_description_lenght'].fillna(products_df['product_description_lenght'].mean(), inplace=True)\n",
      "C:\\Users\\haldies\\AppData\\Local\\Temp\\ipykernel_30452\\528359164.py:4: FutureWarning: A value is trying to be set on a copy of a DataFrame or Series through chained assignment using an inplace method.\n",
      "The behavior will change in pandas 3.0. This inplace method will never work because the intermediate object on which we are setting values always behaves as a copy.\n",
      "\n",
      "For example, when doing 'df[col].method(value, inplace=True)', try using 'df.method({col: value}, inplace=True)' or df[col] = df[col].method(value) instead, to perform the operation inplace on the original object.\n",
      "\n",
      "\n",
      "  products_df['product_photos_qty'].fillna(products_df['product_photos_qty'].mean(), inplace=True)\n",
      "C:\\Users\\haldies\\AppData\\Local\\Temp\\ipykernel_30452\\528359164.py:6: FutureWarning: A value is trying to be set on a copy of a DataFrame or Series through chained assignment using an inplace method.\n",
      "The behavior will change in pandas 3.0. This inplace method will never work because the intermediate object on which we are setting values always behaves as a copy.\n",
      "\n",
      "For example, when doing 'df[col].method(value, inplace=True)', try using 'df.method({col: value}, inplace=True)' or df[col] = df[col].method(value) instead, to perform the operation inplace on the original object.\n",
      "\n",
      "\n",
      "  products_df['product_weight_g'].fillna(products_df['product_weight_g'].mean(), inplace=True)\n",
      "C:\\Users\\haldies\\AppData\\Local\\Temp\\ipykernel_30452\\528359164.py:7: FutureWarning: A value is trying to be set on a copy of a DataFrame or Series through chained assignment using an inplace method.\n",
      "The behavior will change in pandas 3.0. This inplace method will never work because the intermediate object on which we are setting values always behaves as a copy.\n",
      "\n",
      "For example, when doing 'df[col].method(value, inplace=True)', try using 'df.method({col: value}, inplace=True)' or df[col] = df[col].method(value) instead, to perform the operation inplace on the original object.\n",
      "\n",
      "\n",
      "  products_df['product_length_cm'].fillna(products_df['product_length_cm'].mean(), inplace=True)\n",
      "C:\\Users\\haldies\\AppData\\Local\\Temp\\ipykernel_30452\\528359164.py:8: FutureWarning: A value is trying to be set on a copy of a DataFrame or Series through chained assignment using an inplace method.\n",
      "The behavior will change in pandas 3.0. This inplace method will never work because the intermediate object on which we are setting values always behaves as a copy.\n",
      "\n",
      "For example, when doing 'df[col].method(value, inplace=True)', try using 'df.method({col: value}, inplace=True)' or df[col] = df[col].method(value) instead, to perform the operation inplace on the original object.\n",
      "\n",
      "\n",
      "  products_df['product_height_cm'].fillna(products_df['product_height_cm'].mean(), inplace=True)\n",
      "C:\\Users\\haldies\\AppData\\Local\\Temp\\ipykernel_30452\\528359164.py:9: FutureWarning: A value is trying to be set on a copy of a DataFrame or Series through chained assignment using an inplace method.\n",
      "The behavior will change in pandas 3.0. This inplace method will never work because the intermediate object on which we are setting values always behaves as a copy.\n",
      "\n",
      "For example, when doing 'df[col].method(value, inplace=True)', try using 'df.method({col: value}, inplace=True)' or df[col] = df[col].method(value) instead, to perform the operation inplace on the original object.\n",
      "\n",
      "\n",
      "  products_df['product_width_cm'].fillna(products_df['product_width_cm'].mean(), inplace=True)\n"
     ]
    }
   ],
   "source": [
    "products_df['product_category_name'].fillna(products_df['product_category_name'].mode()[0], inplace=True)\n",
    "products_df['product_name_lenght'].fillna(products_df['product_name_lenght'].mean(), inplace=True)\n",
    "products_df['product_description_lenght'].fillna(products_df['product_description_lenght'].mean(), inplace=True)\n",
    "products_df['product_photos_qty'].fillna(products_df['product_photos_qty'].mean(), inplace=True)\n",
    "\n",
    "products_df['product_weight_g'].fillna(products_df['product_weight_g'].mean(), inplace=True)\n",
    "products_df['product_length_cm'].fillna(products_df['product_length_cm'].mean(), inplace=True)\n",
    "products_df['product_height_cm'].fillna(products_df['product_height_cm'].mean(), inplace=True)\n",
    "products_df['product_width_cm'].fillna(products_df['product_width_cm'].mean(), inplace=True)\n",
    "\n",
    "\n"
   ]
  },
  {
   "cell_type": "code",
   "execution_count": 35,
   "metadata": {
    "colab": {
     "base_uri": "https://localhost:8080/"
    },
    "id": "osTmObmF8XIU",
    "outputId": "7449bd5d-0309-4e67-da1c-b298e2892784"
   },
   "outputs": [
    {
     "name": "stdout",
     "output_type": "stream",
     "text": [
      "product_id                    0\n",
      "product_category_name         0\n",
      "product_name_lenght           0\n",
      "product_description_lenght    0\n",
      "product_photos_qty            0\n",
      "product_weight_g              0\n",
      "product_length_cm             0\n",
      "product_height_cm             0\n",
      "product_width_cm              0\n",
      "dtype: int64\n"
     ]
    }
   ],
   "source": [
    "print(products_df.isnull().sum())"
   ]
  },
  {
   "cell_type": "markdown",
   "metadata": {
    "id": "gpxfd4mSHuP9"
   },
   "source": []
  },
  {
   "cell_type": "code",
   "execution_count": 36,
   "metadata": {
    "id": "N1Ac8Y04kfqT"
   },
   "outputs": [],
   "source": [
    "# Mengonversi kolom jika diperlukan\n",
    "# Misalnya, jika product_name_lenght dan lainnya seharusnya menjadi integer, kita bisa melakukan\n",
    "products_df['product_name_lenght'] = products_df['product_name_lenght'].astype(int)\n",
    "products_df['product_description_lenght'] = products_df['product_description_lenght'].astype(int)\n",
    "products_df['product_photos_qty'] = products_df['product_photos_qty'].astype(int)\n"
   ]
  },
  {
   "cell_type": "code",
   "execution_count": 37,
   "metadata": {
    "colab": {
     "base_uri": "https://localhost:8080/"
    },
    "id": "OptcbDrR8bBY",
    "outputId": "11dcda36-34ef-4bba-aa95-74dc5828ce7c"
   },
   "outputs": [
    {
     "name": "stdout",
     "output_type": "stream",
     "text": [
      "<class 'pandas.core.frame.DataFrame'>\n",
      "RangeIndex: 32951 entries, 0 to 32950\n",
      "Data columns (total 9 columns):\n",
      " #   Column                      Non-Null Count  Dtype  \n",
      "---  ------                      --------------  -----  \n",
      " 0   product_id                  32951 non-null  object \n",
      " 1   product_category_name       32951 non-null  object \n",
      " 2   product_name_lenght         32951 non-null  int64  \n",
      " 3   product_description_lenght  32951 non-null  int64  \n",
      " 4   product_photos_qty          32951 non-null  int64  \n",
      " 5   product_weight_g            32951 non-null  float64\n",
      " 6   product_length_cm           32951 non-null  float64\n",
      " 7   product_height_cm           32951 non-null  float64\n",
      " 8   product_width_cm            32951 non-null  float64\n",
      "dtypes: float64(4), int64(3), object(2)\n",
      "memory usage: 2.3+ MB\n"
     ]
    }
   ],
   "source": [
    "products_df.info()"
   ]
  },
  {
   "cell_type": "markdown",
   "metadata": {
    "id": "Aw-pu_Ogd9lv"
   },
   "source": [
    "#### membersihkan data dan mengganti nama kategori produk dari product_category_name ke product_category_name_english"
   ]
  },
  {
   "cell_type": "code",
   "execution_count": 38,
   "metadata": {
    "id": "Yo_s14hNdAqW"
   },
   "outputs": [],
   "source": [
    "# Menggabungkan DataFrame products_df dengan products_category_translation_df\n",
    "products_df = pd.merge(\n",
    "    products_df,\n",
    "    products_category_translation_df[['product_category_name', 'product_category_name_english']],\n",
    "    on='product_category_name',\n",
    "    how='left'  # menggunakan left join agar semua produk tetap ada\n",
    ")\n",
    "\n",
    "# Mengganti nama kolom product_category_name dengan product_category_name_english\n",
    "products_df['product_category_name'] = products_df['product_category_name_english']\n",
    "\n",
    "# Menghapus kolom yang tidak diperlukan\n",
    "products_df.drop(columns=['product_category_name_english'], inplace=True)"
   ]
  },
  {
   "cell_type": "code",
   "execution_count": 39,
   "metadata": {
    "colab": {
     "base_uri": "https://localhost:8080/",
     "height": 0
    },
    "id": "qMSymt2IfUJO",
    "outputId": "02192cb7-edf5-4603-8c4a-6c77567ef132"
   },
   "outputs": [
    {
     "data": {
      "text/html": [
       "<div>\n",
       "<style scoped>\n",
       "    .dataframe tbody tr th:only-of-type {\n",
       "        vertical-align: middle;\n",
       "    }\n",
       "\n",
       "    .dataframe tbody tr th {\n",
       "        vertical-align: top;\n",
       "    }\n",
       "\n",
       "    .dataframe thead th {\n",
       "        text-align: right;\n",
       "    }\n",
       "</style>\n",
       "<table border=\"1\" class=\"dataframe\">\n",
       "  <thead>\n",
       "    <tr style=\"text-align: right;\">\n",
       "      <th></th>\n",
       "      <th>product_id</th>\n",
       "      <th>product_category_name</th>\n",
       "      <th>product_name_lenght</th>\n",
       "      <th>product_description_lenght</th>\n",
       "      <th>product_photos_qty</th>\n",
       "      <th>product_weight_g</th>\n",
       "      <th>product_length_cm</th>\n",
       "      <th>product_height_cm</th>\n",
       "      <th>product_width_cm</th>\n",
       "    </tr>\n",
       "  </thead>\n",
       "  <tbody>\n",
       "    <tr>\n",
       "      <th>29424</th>\n",
       "      <td>b48011c2f47dc5194f89275e79d81465</td>\n",
       "      <td>bed_bath_table</td>\n",
       "      <td>52</td>\n",
       "      <td>1485</td>\n",
       "      <td>2</td>\n",
       "      <td>2600.0</td>\n",
       "      <td>43.0</td>\n",
       "      <td>8.0</td>\n",
       "      <td>33.0</td>\n",
       "    </tr>\n",
       "    <tr>\n",
       "      <th>30987</th>\n",
       "      <td>c5c322bee0fbbd74896c84816df9c6d3</td>\n",
       "      <td>health_beauty</td>\n",
       "      <td>60</td>\n",
       "      <td>398</td>\n",
       "      <td>2</td>\n",
       "      <td>933.0</td>\n",
       "      <td>33.0</td>\n",
       "      <td>10.0</td>\n",
       "      <td>23.0</td>\n",
       "    </tr>\n",
       "    <tr>\n",
       "      <th>16270</th>\n",
       "      <td>f5c2634e0db9ac43af7775a6091ee2db</td>\n",
       "      <td>sports_leisure</td>\n",
       "      <td>52</td>\n",
       "      <td>1121</td>\n",
       "      <td>1</td>\n",
       "      <td>328.0</td>\n",
       "      <td>18.0</td>\n",
       "      <td>11.0</td>\n",
       "      <td>16.0</td>\n",
       "    </tr>\n",
       "    <tr>\n",
       "      <th>20179</th>\n",
       "      <td>b27b9df9f45462cc40727ef0681d5995</td>\n",
       "      <td>health_beauty</td>\n",
       "      <td>55</td>\n",
       "      <td>1508</td>\n",
       "      <td>1</td>\n",
       "      <td>250.0</td>\n",
       "      <td>19.0</td>\n",
       "      <td>14.0</td>\n",
       "      <td>11.0</td>\n",
       "    </tr>\n",
       "    <tr>\n",
       "      <th>28473</th>\n",
       "      <td>c7796bc610cc40ed7935b75fced0aa0e</td>\n",
       "      <td>home_confort</td>\n",
       "      <td>36</td>\n",
       "      <td>744</td>\n",
       "      <td>1</td>\n",
       "      <td>6050.0</td>\n",
       "      <td>60.0</td>\n",
       "      <td>40.0</td>\n",
       "      <td>15.0</td>\n",
       "    </tr>\n",
       "    <tr>\n",
       "      <th>22332</th>\n",
       "      <td>d7a023eecac412d29d49735e9e9b629f</td>\n",
       "      <td>books_technical</td>\n",
       "      <td>56</td>\n",
       "      <td>1317</td>\n",
       "      <td>1</td>\n",
       "      <td>400.0</td>\n",
       "      <td>17.0</td>\n",
       "      <td>24.0</td>\n",
       "      <td>20.0</td>\n",
       "    </tr>\n",
       "    <tr>\n",
       "      <th>2914</th>\n",
       "      <td>16734715511e4a408f9b534c748032f2</td>\n",
       "      <td>musical_instruments</td>\n",
       "      <td>42</td>\n",
       "      <td>1627</td>\n",
       "      <td>1</td>\n",
       "      <td>800.0</td>\n",
       "      <td>24.0</td>\n",
       "      <td>7.0</td>\n",
       "      <td>15.0</td>\n",
       "    </tr>\n",
       "    <tr>\n",
       "      <th>15513</th>\n",
       "      <td>d103baa8d35783ff2772704ed17ddd45</td>\n",
       "      <td>fashion_bags_accessories</td>\n",
       "      <td>53</td>\n",
       "      <td>553</td>\n",
       "      <td>5</td>\n",
       "      <td>250.0</td>\n",
       "      <td>16.0</td>\n",
       "      <td>2.0</td>\n",
       "      <td>20.0</td>\n",
       "    </tr>\n",
       "    <tr>\n",
       "      <th>32543</th>\n",
       "      <td>7b0b29f15f991acef8bc026b8a0c1190</td>\n",
       "      <td>housewares</td>\n",
       "      <td>56</td>\n",
       "      <td>1073</td>\n",
       "      <td>3</td>\n",
       "      <td>800.0</td>\n",
       "      <td>17.0</td>\n",
       "      <td>20.0</td>\n",
       "      <td>11.0</td>\n",
       "    </tr>\n",
       "    <tr>\n",
       "      <th>15171</th>\n",
       "      <td>56be1c4161cca988cfebc66dc35b4feb</td>\n",
       "      <td>housewares</td>\n",
       "      <td>50</td>\n",
       "      <td>393</td>\n",
       "      <td>2</td>\n",
       "      <td>2000.0</td>\n",
       "      <td>41.0</td>\n",
       "      <td>20.0</td>\n",
       "      <td>27.0</td>\n",
       "    </tr>\n",
       "  </tbody>\n",
       "</table>\n",
       "</div>"
      ],
      "text/plain": [
       "                             product_id     product_category_name  \\\n",
       "29424  b48011c2f47dc5194f89275e79d81465            bed_bath_table   \n",
       "30987  c5c322bee0fbbd74896c84816df9c6d3             health_beauty   \n",
       "16270  f5c2634e0db9ac43af7775a6091ee2db            sports_leisure   \n",
       "20179  b27b9df9f45462cc40727ef0681d5995             health_beauty   \n",
       "28473  c7796bc610cc40ed7935b75fced0aa0e              home_confort   \n",
       "22332  d7a023eecac412d29d49735e9e9b629f           books_technical   \n",
       "2914   16734715511e4a408f9b534c748032f2       musical_instruments   \n",
       "15513  d103baa8d35783ff2772704ed17ddd45  fashion_bags_accessories   \n",
       "32543  7b0b29f15f991acef8bc026b8a0c1190                housewares   \n",
       "15171  56be1c4161cca988cfebc66dc35b4feb                housewares   \n",
       "\n",
       "       product_name_lenght  product_description_lenght  product_photos_qty  \\\n",
       "29424                   52                        1485                   2   \n",
       "30987                   60                         398                   2   \n",
       "16270                   52                        1121                   1   \n",
       "20179                   55                        1508                   1   \n",
       "28473                   36                         744                   1   \n",
       "22332                   56                        1317                   1   \n",
       "2914                    42                        1627                   1   \n",
       "15513                   53                         553                   5   \n",
       "32543                   56                        1073                   3   \n",
       "15171                   50                         393                   2   \n",
       "\n",
       "       product_weight_g  product_length_cm  product_height_cm  \\\n",
       "29424            2600.0               43.0                8.0   \n",
       "30987             933.0               33.0               10.0   \n",
       "16270             328.0               18.0               11.0   \n",
       "20179             250.0               19.0               14.0   \n",
       "28473            6050.0               60.0               40.0   \n",
       "22332             400.0               17.0               24.0   \n",
       "2914              800.0               24.0                7.0   \n",
       "15513             250.0               16.0                2.0   \n",
       "32543             800.0               17.0               20.0   \n",
       "15171            2000.0               41.0               20.0   \n",
       "\n",
       "       product_width_cm  \n",
       "29424              33.0  \n",
       "30987              23.0  \n",
       "16270              16.0  \n",
       "20179              11.0  \n",
       "28473              15.0  \n",
       "22332              20.0  \n",
       "2914               15.0  \n",
       "15513              20.0  \n",
       "32543              11.0  \n",
       "15171              27.0  "
      ]
     },
     "execution_count": 39,
     "metadata": {},
     "output_type": "execute_result"
    }
   ],
   "source": [
    "products_df.sample(10)"
   ]
  },
  {
   "cell_type": "code",
   "execution_count": 40,
   "metadata": {
    "colab": {
     "base_uri": "https://localhost:8080/",
     "height": 0
    },
    "id": "3yQoMrlMe07a",
    "outputId": "dcf7bf10-3e4a-4ac0-eaeb-49e8b05bff95"
   },
   "outputs": [
    {
     "data": {
      "text/html": [
       "<div>\n",
       "<style scoped>\n",
       "    .dataframe tbody tr th:only-of-type {\n",
       "        vertical-align: middle;\n",
       "    }\n",
       "\n",
       "    .dataframe tbody tr th {\n",
       "        vertical-align: top;\n",
       "    }\n",
       "\n",
       "    .dataframe thead th {\n",
       "        text-align: right;\n",
       "    }\n",
       "</style>\n",
       "<table border=\"1\" class=\"dataframe\">\n",
       "  <thead>\n",
       "    <tr style=\"text-align: right;\">\n",
       "      <th></th>\n",
       "      <th>product_category_name</th>\n",
       "      <th>product_category_name_english</th>\n",
       "    </tr>\n",
       "  </thead>\n",
       "  <tbody>\n",
       "    <tr>\n",
       "      <th>0</th>\n",
       "      <td>beleza_saude</td>\n",
       "      <td>health_beauty</td>\n",
       "    </tr>\n",
       "    <tr>\n",
       "      <th>1</th>\n",
       "      <td>informatica_acessorios</td>\n",
       "      <td>computers_accessories</td>\n",
       "    </tr>\n",
       "    <tr>\n",
       "      <th>2</th>\n",
       "      <td>automotivo</td>\n",
       "      <td>auto</td>\n",
       "    </tr>\n",
       "    <tr>\n",
       "      <th>3</th>\n",
       "      <td>cama_mesa_banho</td>\n",
       "      <td>bed_bath_table</td>\n",
       "    </tr>\n",
       "    <tr>\n",
       "      <th>4</th>\n",
       "      <td>moveis_decoracao</td>\n",
       "      <td>furniture_decor</td>\n",
       "    </tr>\n",
       "  </tbody>\n",
       "</table>\n",
       "</div>"
      ],
      "text/plain": [
       "    product_category_name product_category_name_english\n",
       "0            beleza_saude                 health_beauty\n",
       "1  informatica_acessorios         computers_accessories\n",
       "2              automotivo                          auto\n",
       "3         cama_mesa_banho                bed_bath_table\n",
       "4        moveis_decoracao               furniture_decor"
      ]
     },
     "execution_count": 40,
     "metadata": {},
     "output_type": "execute_result"
    }
   ],
   "source": [
    "products_category_translation_df.head()"
   ]
  },
  {
   "cell_type": "markdown",
   "metadata": {
    "id": "gp-Y6wU38DC1"
   },
   "source": [
    "## Exploratory Data Analysis (EDA)"
   ]
  },
  {
   "cell_type": "markdown",
   "metadata": {
    "id": "PmsCJVeXOwCt"
   },
   "source": [
    "### Menganalisis penjualan produk berdasarkan kategori."
   ]
  },
  {
   "cell_type": "code",
   "execution_count": 41,
   "metadata": {
    "colab": {
     "base_uri": "https://localhost:8080/",
     "height": 196
    },
    "id": "vrkTlI1PMYb0",
    "outputId": "93e22154-a1a6-4bbd-c612-1a096c0dee18"
   },
   "outputs": [
    {
     "data": {
      "text/html": [
       "<div>\n",
       "<style scoped>\n",
       "    .dataframe tbody tr th:only-of-type {\n",
       "        vertical-align: middle;\n",
       "    }\n",
       "\n",
       "    .dataframe tbody tr th {\n",
       "        vertical-align: top;\n",
       "    }\n",
       "\n",
       "    .dataframe thead th {\n",
       "        text-align: right;\n",
       "    }\n",
       "</style>\n",
       "<table border=\"1\" class=\"dataframe\">\n",
       "  <thead>\n",
       "    <tr style=\"text-align: right;\">\n",
       "      <th></th>\n",
       "      <th>order_id</th>\n",
       "      <th>customer_id</th>\n",
       "      <th>order_status</th>\n",
       "      <th>order_purchase_timestamp</th>\n",
       "      <th>order_approved_at</th>\n",
       "      <th>order_delivered_carrier_date</th>\n",
       "      <th>order_delivered_customer_date</th>\n",
       "      <th>order_estimated_delivery_date</th>\n",
       "      <th>order_item_id</th>\n",
       "      <th>product_id</th>\n",
       "      <th>...</th>\n",
       "      <th>price</th>\n",
       "      <th>freight_value</th>\n",
       "      <th>product_category_name</th>\n",
       "      <th>product_name_lenght</th>\n",
       "      <th>product_description_lenght</th>\n",
       "      <th>product_photos_qty</th>\n",
       "      <th>product_weight_g</th>\n",
       "      <th>product_length_cm</th>\n",
       "      <th>product_height_cm</th>\n",
       "      <th>product_width_cm</th>\n",
       "    </tr>\n",
       "  </thead>\n",
       "  <tbody>\n",
       "    <tr>\n",
       "      <th>0</th>\n",
       "      <td>e481f51cbdc54678b7cc49136f2d6af7</td>\n",
       "      <td>9ef432eb6251297304e76186b10a928d</td>\n",
       "      <td>delivered</td>\n",
       "      <td>2017-10-02 10:56:33</td>\n",
       "      <td>2017-10-02 11:07:15</td>\n",
       "      <td>2017-10-04 19:55:00</td>\n",
       "      <td>2017-10-10 21:25:13</td>\n",
       "      <td>2017-10-18</td>\n",
       "      <td>1</td>\n",
       "      <td>87285b34884572647811a353c7ac498a</td>\n",
       "      <td>...</td>\n",
       "      <td>29.99</td>\n",
       "      <td>8.72</td>\n",
       "      <td>housewares</td>\n",
       "      <td>40</td>\n",
       "      <td>268</td>\n",
       "      <td>4</td>\n",
       "      <td>500.0</td>\n",
       "      <td>19.0</td>\n",
       "      <td>8.0</td>\n",
       "      <td>13.0</td>\n",
       "    </tr>\n",
       "    <tr>\n",
       "      <th>1</th>\n",
       "      <td>53cdb2fc8bc7dce0b6741e2150273451</td>\n",
       "      <td>b0830fb4747a6c6d20dea0b8c802d7ef</td>\n",
       "      <td>delivered</td>\n",
       "      <td>2018-07-24 20:41:37</td>\n",
       "      <td>2018-07-26 03:24:27</td>\n",
       "      <td>2018-07-26 14:31:00</td>\n",
       "      <td>2018-08-07 15:27:45</td>\n",
       "      <td>2018-08-13</td>\n",
       "      <td>1</td>\n",
       "      <td>595fac2a385ac33a80bd5114aec74eb8</td>\n",
       "      <td>...</td>\n",
       "      <td>118.70</td>\n",
       "      <td>22.76</td>\n",
       "      <td>perfumery</td>\n",
       "      <td>29</td>\n",
       "      <td>178</td>\n",
       "      <td>1</td>\n",
       "      <td>400.0</td>\n",
       "      <td>19.0</td>\n",
       "      <td>13.0</td>\n",
       "      <td>19.0</td>\n",
       "    </tr>\n",
       "  </tbody>\n",
       "</table>\n",
       "<p>2 rows × 22 columns</p>\n",
       "</div>"
      ],
      "text/plain": [
       "                           order_id                       customer_id  \\\n",
       "0  e481f51cbdc54678b7cc49136f2d6af7  9ef432eb6251297304e76186b10a928d   \n",
       "1  53cdb2fc8bc7dce0b6741e2150273451  b0830fb4747a6c6d20dea0b8c802d7ef   \n",
       "\n",
       "  order_status order_purchase_timestamp   order_approved_at  \\\n",
       "0    delivered      2017-10-02 10:56:33 2017-10-02 11:07:15   \n",
       "1    delivered      2018-07-24 20:41:37 2018-07-26 03:24:27   \n",
       "\n",
       "  order_delivered_carrier_date order_delivered_customer_date  \\\n",
       "0          2017-10-04 19:55:00           2017-10-10 21:25:13   \n",
       "1          2018-07-26 14:31:00           2018-08-07 15:27:45   \n",
       "\n",
       "  order_estimated_delivery_date  order_item_id  \\\n",
       "0                    2017-10-18              1   \n",
       "1                    2018-08-13              1   \n",
       "\n",
       "                         product_id  ...   price freight_value  \\\n",
       "0  87285b34884572647811a353c7ac498a  ...   29.99          8.72   \n",
       "1  595fac2a385ac33a80bd5114aec74eb8  ...  118.70         22.76   \n",
       "\n",
       "   product_category_name  product_name_lenght product_description_lenght  \\\n",
       "0             housewares                   40                        268   \n",
       "1              perfumery                   29                        178   \n",
       "\n",
       "   product_photos_qty  product_weight_g  product_length_cm  product_height_cm  \\\n",
       "0                   4             500.0               19.0                8.0   \n",
       "1                   1             400.0               19.0               13.0   \n",
       "\n",
       "   product_width_cm  \n",
       "0              13.0  \n",
       "1              19.0  \n",
       "\n",
       "[2 rows x 22 columns]"
      ]
     },
     "execution_count": 41,
     "metadata": {},
     "output_type": "execute_result"
    }
   ],
   "source": [
    "merged_df = pd.merge(orders_df, order_items_df, on='order_id')\n",
    "merged_df = pd.merge(merged_df, products_df, on='product_id')\n",
    "\n",
    "merged_df.head(2)"
   ]
  },
  {
   "cell_type": "code",
   "execution_count": 42,
   "metadata": {
    "colab": {
     "base_uri": "https://localhost:8080/",
     "height": 423
    },
    "id": "C-BcAkvEMa_G",
    "outputId": "c4c52946-f34d-487a-8590-1ac5fc7bde0d"
   },
   "outputs": [
    {
     "data": {
      "text/html": [
       "<div>\n",
       "<style scoped>\n",
       "    .dataframe tbody tr th:only-of-type {\n",
       "        vertical-align: middle;\n",
       "    }\n",
       "\n",
       "    .dataframe tbody tr th {\n",
       "        vertical-align: top;\n",
       "    }\n",
       "\n",
       "    .dataframe thead th {\n",
       "        text-align: right;\n",
       "    }\n",
       "</style>\n",
       "<table border=\"1\" class=\"dataframe\">\n",
       "  <thead>\n",
       "    <tr style=\"text-align: right;\">\n",
       "      <th></th>\n",
       "      <th>product_category_name</th>\n",
       "      <th>total_orders</th>\n",
       "    </tr>\n",
       "  </thead>\n",
       "  <tbody>\n",
       "    <tr>\n",
       "      <th>0</th>\n",
       "      <td>agro_industry_and_commerce</td>\n",
       "      <td>206</td>\n",
       "    </tr>\n",
       "    <tr>\n",
       "      <th>1</th>\n",
       "      <td>air_conditioning</td>\n",
       "      <td>289</td>\n",
       "    </tr>\n",
       "    <tr>\n",
       "      <th>2</th>\n",
       "      <td>art</td>\n",
       "      <td>197</td>\n",
       "    </tr>\n",
       "    <tr>\n",
       "      <th>3</th>\n",
       "      <td>arts_and_craftmanship</td>\n",
       "      <td>24</td>\n",
       "    </tr>\n",
       "    <tr>\n",
       "      <th>4</th>\n",
       "      <td>audio</td>\n",
       "      <td>362</td>\n",
       "    </tr>\n",
       "    <tr>\n",
       "      <th>...</th>\n",
       "      <td>...</td>\n",
       "      <td>...</td>\n",
       "    </tr>\n",
       "    <tr>\n",
       "      <th>66</th>\n",
       "      <td>stationery</td>\n",
       "      <td>2466</td>\n",
       "    </tr>\n",
       "    <tr>\n",
       "      <th>67</th>\n",
       "      <td>tablets_printing_image</td>\n",
       "      <td>83</td>\n",
       "    </tr>\n",
       "    <tr>\n",
       "      <th>68</th>\n",
       "      <td>telephony</td>\n",
       "      <td>4428</td>\n",
       "    </tr>\n",
       "    <tr>\n",
       "      <th>69</th>\n",
       "      <td>toys</td>\n",
       "      <td>4030</td>\n",
       "    </tr>\n",
       "    <tr>\n",
       "      <th>70</th>\n",
       "      <td>watches_gifts</td>\n",
       "      <td>5857</td>\n",
       "    </tr>\n",
       "  </tbody>\n",
       "</table>\n",
       "<p>71 rows × 2 columns</p>\n",
       "</div>"
      ],
      "text/plain": [
       "         product_category_name  total_orders\n",
       "0   agro_industry_and_commerce           206\n",
       "1             air_conditioning           289\n",
       "2                          art           197\n",
       "3        arts_and_craftmanship            24\n",
       "4                        audio           362\n",
       "..                         ...           ...\n",
       "66                  stationery          2466\n",
       "67      tablets_printing_image            83\n",
       "68                   telephony          4428\n",
       "69                        toys          4030\n",
       "70               watches_gifts          5857\n",
       "\n",
       "[71 rows x 2 columns]"
      ]
     },
     "execution_count": 42,
     "metadata": {},
     "output_type": "execute_result"
    }
   ],
   "source": [
    "category_sales = merged_df.groupby('product_category_name')['order_id'].count().reset_index()\n",
    "category_sales.columns = ['product_category_name', 'total_orders']\n",
    "category_sales"
   ]
  },
  {
   "cell_type": "code",
   "execution_count": 43,
   "metadata": {
    "colab": {
     "base_uri": "https://localhost:8080/"
    },
    "id": "xYTzbs0Ty-zU",
    "outputId": "c80b6f34-f97e-481f-a5cf-befd08a2be83"
   },
   "outputs": [
    {
     "name": "stdout",
     "output_type": "stream",
     "text": [
      "    product_category_name  total_orders\n",
      "7          bed_bath_table         12488\n",
      "43          health_beauty          9467\n",
      "65         sports_leisure          8429\n",
      "39        furniture_decor          8156\n",
      "15  computers_accessories          7643\n",
      "49             housewares          6795\n",
      "70          watches_gifts          5857\n",
      "68              telephony          4428\n",
      "42           garden_tools          4267\n",
      "5                    auto          4139\n"
     ]
    }
   ],
   "source": [
    "category_sales_sorted = category_sales.sort_values(by='total_orders', ascending=False)\n",
    "print(category_sales_sorted.head(10))"
   ]
  },
  {
   "cell_type": "code",
   "execution_count": 44,
   "metadata": {
    "colab": {
     "base_uri": "https://localhost:8080/"
    },
    "id": "4mmoqCJzzGXa",
    "outputId": "f698065c-9fec-4148-ff8f-b0a946f9e58d"
   },
   "outputs": [
    {
     "name": "stdout",
     "output_type": "stream",
     "text": [
      "                product_category_name  total_orders\n",
      "41  furniture_mattress_and_upholstery            37\n",
      "23                diapers_and_hygiene            37\n",
      "35                            flowers            33\n",
      "46                     home_comfort_2            30\n",
      "32                      fashion_sport            29\n",
      "3               arts_and_craftmanship            24\n",
      "52                         la_cuisine            14\n",
      "11                  cds_dvds_musicals            14\n",
      "29          fashion_childrens_clothes             7\n",
      "61              security_and_services             2\n"
     ]
    }
   ],
   "source": [
    "print(category_sales_sorted.tail(10))"
   ]
  },
  {
   "cell_type": "code",
   "execution_count": 45,
   "metadata": {
    "colab": {
     "base_uri": "https://localhost:8080/",
     "height": 962
    },
    "id": "6Z3dFUqi14ag",
    "outputId": "c28ab5ed-44ac-4d71-9a4f-4aaccf520638"
   },
   "outputs": [
    {
     "data": {
      "text/plain": [
       "customer_state\n",
       "São Paulo              41746\n",
       "Rio de Janeiro         12852\n",
       "Minas Gerais           11635\n",
       "Rio Grande do Sul       5466\n",
       "Paraná                  5045\n",
       "Santa Catarina          3637\n",
       "Bahia                   3380\n",
       "Distrito Federal        2140\n",
       "Espírito Santo          2033\n",
       "Goiás                   2020\n",
       "Pernambuco              1652\n",
       "Ceará                   1336\n",
       "Pará                     975\n",
       "Mato Grosso              907\n",
       "Maranhão                 747\n",
       "Mato Grosso do Sul       715\n",
       "Paraíba                  536\n",
       "Piauí                    495\n",
       "Rio Grande do Norte      485\n",
       "Alagoas                  413\n",
       "Sergipe                  350\n",
       "Tocantins                280\n",
       "Rondônia                 253\n",
       "Amazonas                 148\n",
       "Acre                      81\n",
       "Amapá                     68\n",
       "Roraima                   46\n",
       "Name: count, dtype: int64"
      ]
     },
     "execution_count": 45,
     "metadata": {},
     "output_type": "execute_result"
    }
   ],
   "source": [
    "customers_df['customer_state'].value_counts()"
   ]
  },
  {
   "cell_type": "code",
   "execution_count": 46,
   "metadata": {
    "colab": {
     "base_uri": "https://localhost:8080/",
     "height": 489
    },
    "id": "J0pzQQcx2BW-",
    "outputId": "0caa3d70-e168-4d40-b185-7639aa1ad2b2"
   },
   "outputs": [
    {
     "data": {
      "text/plain": [
       "customer_city\n",
       "Sao Paulo                15540\n",
       "Rio De Janeiro            6882\n",
       "Belo Horizonte            2773\n",
       "Brasilia                  2131\n",
       "Curitiba                  1521\n",
       "                         ...  \n",
       "Marques De Souza             1\n",
       "General Maynard              1\n",
       "Cerrito                      1\n",
       "Mocajuba                     1\n",
       "Governador Mangabeira        1\n",
       "Name: count, Length: 4119, dtype: int64"
      ]
     },
     "execution_count": 46,
     "metadata": {},
     "output_type": "execute_result"
    }
   ],
   "source": [
    "customers_df['customer_city'].value_counts()"
   ]
  },
  {
   "cell_type": "markdown",
   "metadata": {
    "id": "fd2Ie6jFPHP5"
   },
   "source": [
    "### Analisis Kinerja Bulanan Penjualan dan Omset Perusahaan"
   ]
  },
  {
   "cell_type": "code",
   "execution_count": 47,
   "metadata": {
    "colab": {
     "base_uri": "https://localhost:8080/"
    },
    "id": "191E2Edp4Pqh",
    "outputId": "d93274b5-dd73-46d2-a2d7-423c229e6edb"
   },
   "outputs": [
    {
     "name": "stdout",
     "output_type": "stream",
     "text": [
      "Merged DataFrame:\n",
      "                           order_id                       customer_id  \\\n",
      "0  e481f51cbdc54678b7cc49136f2d6af7  9ef432eb6251297304e76186b10a928d   \n",
      "1  e481f51cbdc54678b7cc49136f2d6af7  9ef432eb6251297304e76186b10a928d   \n",
      "2  e481f51cbdc54678b7cc49136f2d6af7  9ef432eb6251297304e76186b10a928d   \n",
      "3  53cdb2fc8bc7dce0b6741e2150273451  b0830fb4747a6c6d20dea0b8c802d7ef   \n",
      "4  47770eb9100c2d0c44946d9cf07ec65d  41ce2a54c0b03bf3443c3d931a367089   \n",
      "\n",
      "  order_status order_purchase_timestamp   order_approved_at  \\\n",
      "0    delivered      2017-10-02 10:56:33 2017-10-02 11:07:15   \n",
      "1    delivered      2017-10-02 10:56:33 2017-10-02 11:07:15   \n",
      "2    delivered      2017-10-02 10:56:33 2017-10-02 11:07:15   \n",
      "3    delivered      2018-07-24 20:41:37 2018-07-26 03:24:27   \n",
      "4    delivered      2018-08-08 08:38:49 2018-08-08 08:55:23   \n",
      "\n",
      "  order_delivered_carrier_date order_delivered_customer_date  \\\n",
      "0          2017-10-04 19:55:00           2017-10-10 21:25:13   \n",
      "1          2017-10-04 19:55:00           2017-10-10 21:25:13   \n",
      "2          2017-10-04 19:55:00           2017-10-10 21:25:13   \n",
      "3          2018-07-26 14:31:00           2018-08-07 15:27:45   \n",
      "4          2018-08-08 13:50:00           2018-08-17 18:06:29   \n",
      "\n",
      "  order_estimated_delivery_date  order_item_id  \\\n",
      "0                    2017-10-18              1   \n",
      "1                    2017-10-18              1   \n",
      "2                    2017-10-18              1   \n",
      "3                    2018-08-13              1   \n",
      "4                    2018-09-04              1   \n",
      "\n",
      "                         product_id                         seller_id  \\\n",
      "0  87285b34884572647811a353c7ac498a  3504c0cb71d7fa48d967e0e4c94d59d9   \n",
      "1  87285b34884572647811a353c7ac498a  3504c0cb71d7fa48d967e0e4c94d59d9   \n",
      "2  87285b34884572647811a353c7ac498a  3504c0cb71d7fa48d967e0e4c94d59d9   \n",
      "3  595fac2a385ac33a80bd5114aec74eb8  289cdb325fb7e7f891c38608bf9e0962   \n",
      "4  aa4383b373c6aca5d8797843e5594415  4869f7a5dfa277a7dca6462dcf3b52b2   \n",
      "\n",
      "   shipping_limit_date   price  freight_value  payment_sequential  \\\n",
      "0  2017-10-06 11:07:15   29.99           8.72                   1   \n",
      "1  2017-10-06 11:07:15   29.99           8.72                   3   \n",
      "2  2017-10-06 11:07:15   29.99           8.72                   2   \n",
      "3  2018-07-30 03:24:27  118.70          22.76                   1   \n",
      "4  2018-08-13 08:55:23  159.90          19.22                   1   \n",
      "\n",
      "  payment_type  payment_installments  payment_value  \n",
      "0  credit_card                     1          18.12  \n",
      "1      voucher                     1           2.00  \n",
      "2      voucher                     1          18.59  \n",
      "3       boleto                     1         141.46  \n",
      "4  credit_card                     3         179.12   \n",
      "\n",
      "DataFrame setelah konversi timestamp:\n",
      "  order_purchase_timestamp month_year\n",
      "0      2017-10-02 10:56:33    2017-10\n",
      "1      2017-10-02 10:56:33    2017-10\n",
      "2      2017-10-02 10:56:33    2017-10\n",
      "3      2018-07-24 20:41:37    2018-07\n",
      "4      2018-08-08 08:38:49    2018-08 \n",
      "\n",
      "Monthly Performance:\n",
      "   month_year  total_sales  total_revenue\n",
      "0     2016-10          336       62591.65\n",
      "1     2016-12            1          19.62\n",
      "2     2017-01          961      176376.56\n",
      "3     2017-02         1949      323815.95\n",
      "4     2017-03         3078      505735.83\n",
      "5     2017-04         2707      456108.32\n",
      "6     2017-05         4260      701119.60\n",
      "7     2017-06         3687      585400.98\n",
      "8     2017-07         4726      716069.98\n",
      "9     2017-08         5053      842689.94\n",
      "10    2017-09         5002      996085.61\n",
      "11    2017-10         5455      998609.62\n",
      "12    2017-11         8812     1548547.86\n",
      "13    2017-12         6440     1020067.26\n",
      "14    2018-01         8364     1374064.02\n",
      "15    2018-02         7766     1280014.54\n",
      "16    2018-03         8337     1435458.33\n",
      "17    2018-04         8112     1466607.15\n",
      "18    2018-05         8104     1480667.59\n",
      "19    2018-06         7318     1285396.78\n",
      "20    2018-07         7196     1306707.42\n",
      "21    2018-08         7354     1211240.09 \n",
      "\n"
     ]
    }
   ],
   "source": [
    "merged_df = orders_df.merge(order_items_df, on='order_id').merge(payments_df, on='order_id')\n",
    "\n",
    "print(\"Merged DataFrame:\")\n",
    "print(merged_df.head(), \"\\n\")\n",
    "\n",
    "merged_df['order_purchase_timestamp'] = pd.to_datetime(merged_df['order_purchase_timestamp'])\n",
    "merged_df['month_year'] = merged_df['order_purchase_timestamp'].dt.to_period('M')\n",
    "\n",
    "\n",
    "print(\"DataFrame setelah konversi timestamp:\")\n",
    "print(merged_df[['order_purchase_timestamp', 'month_year']].head(), \"\\n\")\n",
    "\n",
    "\n",
    "monthly_performance = merged_df.groupby('month_year').agg(\n",
    "    total_sales=('order_id', 'count'),  # Jumlah order\n",
    "    total_revenue=('payment_value', 'sum')  # Total omset\n",
    ").reset_index()\n",
    "\n",
    "print(\"Monthly Performance:\")\n",
    "print(monthly_performance, \"\\n\")"
   ]
  },
  {
   "cell_type": "markdown",
   "metadata": {
    "id": "R6sEb7MC4xEB"
   },
   "source": [
    "insight :\n",
    "1. Tren Penjualan dan Omset\n",
    "* Peningkatan Penjualan: Dari data, terlihat bahwa jumlah total penjualan (total_sales) menunjukkan tren yang meningkat dari bulan ke bulan, terutama dari tahun 2017 hingga pertengahan 2018. Misalnya, penjualan meningkat signifikan dari 3.078 pada Maret 2017 menjadi 8.812 pada November 2017.\n",
    "* Kenaikan Omset: Omset (total_revenue) juga menunjukkan peningkatan yang sejalan dengan peningkatan jumlah penjualan. Pada bulan yang sama, total_revenue menunjukkan pertumbuhan yang konsisten, mencerminkan bahwa penjualan tidak hanya meningkat dalam jumlah tetapi juga dalam nilai.\n"
   ]
  },
  {
   "cell_type": "code",
   "execution_count": 48,
   "metadata": {
    "colab": {
     "base_uri": "https://localhost:8080/"
    },
    "id": "ppzjnalN5Rsj",
    "outputId": "073775fa-e8db-4a33-c668-c0bfe163b2e8"
   },
   "outputs": [
    {
     "name": "stdout",
     "output_type": "stream",
     "text": [
      "Statistik Deskriptif Pelanggan:\n",
      "                      customer_unique_id customer_city customer_state\n",
      "count                              96461         96461          96461\n",
      "unique                             93342          4085             27\n",
      "top     8d50f5eadf50201ccdcedfb9e2ac8455     Sao Paulo      São Paulo\n",
      "freq                                  15         15044          40489\n"
     ]
    }
   ],
   "source": [
    "\n",
    "df_merged = orders_df.merge(customers_df, on='customer_id', how='left')\n",
    "\n",
    "\n",
    "print(\"Statistik Deskriptif Pelanggan:\")\n",
    "print(df_merged[['customer_unique_id', 'customer_city', 'customer_state']].describe(include='all'))"
   ]
  },
  {
   "cell_type": "markdown",
   "metadata": {
    "id": "2zVyl3qg55It"
   },
   "source": [
    "**Kota Pelanggan:**\n",
    "\n",
    "* Total Kota Berbeda: Ada 4.085 kota yang terwakili dalam data, menunjukkan jangkauan geografis yang luas.\n",
    "* Kota Terpopuler: Kota yang paling banyak memiliki pelanggan adalah Sao Paulo dengan 15.044 entri. Ini menunjukkan bahwa Sao Paulo adalah pusat utama untuk basis pelanggan Anda, yang mungkin menarik untuk kegiatan pemasaran dan promosi.\n",
    "\n",
    "**Provinsi Pelanggan:**\n",
    "\n",
    "* Total Negara: Terdapat 27 Negara, dengan São Paulo sebagai provinsi yang paling banyak memiliki pelanggan (40.489 entri).\n",
    "* Dominasi Negara: Dominasi São Paulo sebagai Negara dengan pelanggan terbanyak menunjukkan potensi besar untuk pertumbuhan di area ini, serta pentingnya mempertimbangkan strategi pemasaran yang ditargetkan di wilayah ini."
   ]
  },
  {
   "cell_type": "markdown",
   "metadata": {
    "id": "zsyZjqak8DC2"
   },
   "source": [
    "## Visualization & Explanatory Analysis"
   ]
  },
  {
   "cell_type": "markdown",
   "metadata": {
    "id": "HZxOiQ6n8DC2"
   },
   "source": [
    "### 1: kategori Produk apa yang penjualan tertinggi dan terendah?"
   ]
  },
  {
   "cell_type": "code",
   "execution_count": 49,
   "metadata": {
    "colab": {
     "base_uri": "https://localhost:8080/",
     "height": 377
    },
    "id": "dioLewQuJ-v1",
    "outputId": "cac9a063-5081-401a-cb35-96cadd29e3c9"
   },
   "outputs": [
    {
     "data": {
      "image/png": "[encoded data removed]",
      "text/plain": [
       "<Figure size 1200x600 with 2 Axes>"
      ]
     },
     "metadata": {},
     "output_type": "display_data"
    }
   ],
   "source": [
    "\n",
    "top_10_categories = category_sales_sorted.head(10)\n",
    "bottom_10_categories = category_sales_sorted.tail(10)\n",
    "\n",
    "plt.figure(figsize=(12, 6))\n",
    "\n",
    "plt.subplot(1, 2, 1)\n",
    "plt.bar(top_10_categories['product_category_name'], top_10_categories['total_orders'])\n",
    "plt.title('Top 10 Penjualan Tertinggi menurut Kategori Produk')\n",
    "plt.xlabel('Kategori Produk')\n",
    "plt.ylabel('Total Penjualan')\n",
    "plt.xticks(rotation=45, ha='right')\n",
    "plt.tight_layout()\n",
    "\n",
    "plt.subplot(1, 2, 2)\n",
    "plt.bar(bottom_10_categories['product_category_name'], bottom_10_categories['total_orders'])\n",
    "plt.title('Top 10 Penjualan Terendah menurut Kategori Produk')\n",
    "plt.xlabel('Kategori Produk')\n",
    "plt.ylabel('Total Penjualan')\n",
    "plt.xticks(rotation=45, ha='right')\n",
    "plt.tight_layout()\n",
    "\n",
    "plt.show()"
   ]
  },
  {
   "cell_type": "markdown",
   "metadata": {
    "id": "vynZVK5IgThl"
   },
   "source": [
    "--insight :\n",
    "* **Kategori dengan penjualan tertinggi** adalah \"bed_bath_table\" (tempat tidur, kamar mandi, dan meja). Ini menunjukkan bahwa produk-produk rumah tangga seperti tempat tidur, perlengkapan kamar mandi, dan perabotan masih menjadi pilihan utama konsumen.\n",
    "* **Kategori lainnya yang juga memiliki penjualan tinggi** adalah \"health_beauty\" (kesehatan dan kecantikan), \"computers_accessories\" (komputer dan aksesoris), serta \"furniture_decor\" (perabotan dan dekorasi). Ini menunjukkan bahwa konsumen juga sangat memperhatikan kesehatan, gaya hidup modern, dan keindahan rumah.\n",
    "\n",
    "\n",
    "\n",
    "\n",
    "*   **Kategori dengan penjualan terendah adalah** \"security_and_services\" (keamanan dan layanan). Ini mungkin disebabkan oleh beberapa faktor, seperti persaingan yang ketat di sektor ini, atau kurangnya informasi yang jelas mengenai produk dan layanan yang ditawarkan.\n",
    "* **Kategori lainnya dengan penjualan rendah** adalah \"fashion_childrens_clothes\" (pakaian anak-anak), \"cds_dvds_music_instruments\" (CD, DVD, dan instrumen musik), dan \"home_comfort_2\". Penurunan penjualan pada kategori-kategori ini mungkin terkait dengan pergeseran tren konsumsi menuju platform digital dan layanan streaming.\n",
    "\n"
   ]
  },
  {
   "cell_type": "markdown",
   "metadata": {
    "id": "DgHI7CiU8DC2"
   },
   "source": [
    "### 2. Bagaimana Performa Penjualan dan Omset Perusahaan dalam Beberapa Bulan Terakhir?"
   ]
  },
  {
   "cell_type": "code",
   "execution_count": 50,
   "metadata": {
    "id": "kDqLGNSJPok7"
   },
   "outputs": [],
   "source": [
    "# Pastikan kolom order_purchase_timestamp dalam format datetime\n",
    "orders_df['order_purchase_timestamp'] = pd.to_datetime(orders_df['order_purchase_timestamp'])\n",
    "\n",
    "# Tambahkan kolom purchase_month\n",
    "orders_df['purchase_month'] = orders_df['order_purchase_timestamp'].dt.to_period('M')\n"
   ]
  },
  {
   "cell_type": "code",
   "execution_count": 52,
   "metadata": {
    "colab": {
     "base_uri": "https://localhost:8080/",
     "height": 627
    },
    "id": "164l9BWcI5K4",
    "outputId": "902c739f-5cdd-4930-83a0-6096a3343462"
   },
   "outputs": [
    {
     "data": {
      "image/png": "[encoded data removed]",
      "text/plain": [
       "<Figure size 1200x600 with 1 Axes>"
      ]
     },
     "metadata": {},
     "output_type": "display_data"
    }
   ],
   "source": [
    "monthly_orders = orders_df.groupby('purchase_month').size()\n",
    "plt.figure(figsize=(12, 6))\n",
    "sns.lineplot(x=monthly_orders.index.astype(str), y=monthly_orders.values, marker='o')\n",
    "\n",
    "# Tambahkan grid\n",
    "plt.grid(visible=True)\n",
    "\n",
    "plt.title('Jumlah Order per Bulan', fontsize=16)\n",
    "plt.xlabel('Bulan', fontsize=12)\n",
    "plt.ylabel('Jumlah Order', fontsize=12)\n",
    "plt.xticks(rotation=45)\n",
    "plt.tight_layout()\n",
    "plt.show()\n"
   ]
  },
  {
   "cell_type": "code",
   "execution_count": 53,
   "metadata": {
    "colab": {
     "base_uri": "https://localhost:8080/",
     "height": 451
    },
    "id": "gldVsPmHKNpK",
    "outputId": "65014c86-6b05-40c2-8a17-a078d3ae9f37"
   },
   "outputs": [
    {
     "data": {
      "image/png": "[encoded data removed]",
      "text/plain": [
       "<Figure size 1000x600 with 1 Axes>"
      ]
     },
     "metadata": {},
     "output_type": "display_data"
    }
   ],
   "source": [
    "merged_df = pd.merge(orders_df[['order_id', 'order_purchase_timestamp']], payments_df[['order_id', 'payment_value']], on='order_id')\n",
    "\n",
    "merged_df['order_purchase_timestamp'] = pd.to_datetime(merged_df['order_purchase_timestamp'])\n",
    "\n",
    "merged_df['month_year'] = merged_df['order_purchase_timestamp'].dt.to_period('M')\n",
    "\n",
    "omset_per_bulan = merged_df.groupby('month_year')['payment_value'].sum().reset_index()\n",
    "\n",
    "omset_per_bulan['month_year'] = omset_per_bulan['month_year'].dt.to_timestamp()\n",
    "\n",
    "def format_number(num):\n",
    "    if num >= 1_000_000:\n",
    "        return f\"{num / 1_000_000:.1f} M\"  # Juta\n",
    "    elif num >= 1_000:\n",
    "        return f\"{num / 1_000:.1f} k\"  # Ribu\n",
    "    else:\n",
    "        return str(num)\n",
    "\n",
    "omset_per_bulan['formatted_month'] = omset_per_bulan['month_year'].dt.strftime('%B %Y')\n",
    "\n",
    "plt.figure(figsize=(10, 6))\n",
    "sns.lineplot(x='formatted_month', y='payment_value', data=omset_per_bulan, marker='o')\n",
    "\n",
    "\n",
    "plt.title('Omset Perusahaan dalam Beberapa Bulan Terakhir', fontsize=16)\n",
    "plt.xlabel('Bulan', fontsize=12)\n",
    "plt.ylabel('Total Omset', fontsize=12)\n",
    "plt.xticks(rotation=45)\n",
    "\n",
    "for index, value in enumerate(omset_per_bulan['payment_value']):\n",
    "    plt.text(index, value, format_number(value), ha='center', va='bottom')\n",
    "\n",
    "plt.grid(True, linestyle='--', linewidth=0.5, alpha=0.7)\n",
    "\n",
    "plt.tight_layout()\n",
    "\n",
    "plt.show()\n"
   ]
  },
  {
   "cell_type": "markdown",
   "metadata": {
    "id": "E3CXwwu7CfHi"
   },
   "source": [
    "**Tren Penjualan:**\n",
    "\n",
    "* Terlihat bahwa bulan Januari memiliki jumlah\n",
    "penjualan tertinggi dengan 8,364 transaksi.\n",
    "Februari menunjukkan penurunan penjualan ke 7,766, dan tren ini berlanjut ke bulan Juli dan Agustus yang juga menunjukkan penurunan, dengan penjualan terendah di bulan Juli (7,196).\n",
    "Penjualan menunjukkan fluktuasi, dengan puncaknya di bulan Maret dan April.\n",
    "\n",
    "**Tren Omset:**\n",
    "\n",
    "* Omset tertinggi tercatat pada bulan Mei dengan 1,480,667.59, yang sejalan dengan tren penjualan yang tinggi pada bulan tersebut.\n",
    "Bulan Agustus memiliki omset terendah di antara bulan yang dicatat, yaitu 1,211,240.09.\n",
    "Meskipun penjualan menurun di bulan Juli dan Agustus, omset tetap mengalami penurunan yang signifikan pada bulan Agustus."
   ]
  },
  {
   "cell_type": "markdown",
   "metadata": {
    "id": "U5NcNMU0FctB"
   },
   "source": [
    "### Pertanyaan 3: Bagaimana demografi pelanggan yang kita miliki?"
   ]
  },
  {
   "cell_type": "code",
   "execution_count": 54,
   "metadata": {
    "colab": {
     "base_uri": "https://localhost:8080/",
     "height": 887
    },
    "id": "uqFUPf95Of7A",
    "outputId": "9524bdd3-fd58-4ca6-d15b-e06d25858514"
   },
   "outputs": [
    {
     "data": {
      "image/png": "[encoded data removed]",
      "text/plain": [
       "<Figure size 1000x600 with 1 Axes>"
      ]
     },
     "metadata": {},
     "output_type": "display_data"
    },
    {
     "data": {
      "image/png": "[encoded data removed]",
      "text/plain": [
       "<Figure size 1000x600 with 1 Axes>"
      ]
     },
     "metadata": {},
     "output_type": "display_data"
    }
   ],
   "source": [
    "import warnings\n",
    "warnings.filterwarnings(\"ignore\", category=FutureWarning)\n",
    "\n",
    "plt.figure(figsize=(10, 6))\n",
    "state_counts = customers_df['customer_state'].value_counts().head(10)\n",
    "sns.barplot(x=state_counts.index, y=state_counts.values, palette='viridis')\n",
    "plt.title('Distribusi Pelanggan Berdasarkan Negara Bagian', fontsize=16)\n",
    "plt.xlabel('Negara Bagian', fontsize=12)\n",
    "plt.ylabel('Jumlah Pelanggan', fontsize=12)\n",
    "plt.xticks(rotation=45)\n",
    "plt.tight_layout()\n",
    "plt.show()\n",
    "\n",
    "\n",
    "plt.figure(figsize=(10, 6))\n",
    "city_counts = customers_df['customer_city'].value_counts().head(10)\n",
    "sns.barplot(x=city_counts.index, y=city_counts.values, palette='Blues_d')\n",
    "plt.title('10 Kota dengan Pelanggan Terbanyak', fontsize=16)\n",
    "plt.xlabel('Kota', fontsize=12)\n",
    "plt.ylabel('Jumlah Pelanggan', fontsize=12)\n",
    "plt.xticks(rotation=45)\n",
    "plt.tight_layout()\n",
    "plt.show()\n",
    "\n"
   ]
  },
  {
   "cell_type": "markdown",
   "metadata": {
    "id": "IFick-AkBOOj"
   },
   "source": [
    "Analisis Demografi Pelanggan Berdasarkan 10 negara Teratas\n",
    "* **Konsentrasi Pelanggan Tertinggi**: Sebagian besar pelanggan Anda terkonsentrasi di São Paulo. Ini menunjukkan bahwa pasar di São Paulo sangat responsif terhadap produk atau layanan yang Anda tawarkan.\n",
    "\n",
    "* **Pasar Potensial Lainnya**: Selain São Paulo, beberapa negara bagian lain seperti Rio de Janeiro, Minas Gerais, dan Rio Grande do Sul juga memiliki jumlah pelanggan yang cukup signifikan. Ini mengindikasikan adanya potensi pasar yang cukup besar di wilayah-wilayah tersebut.\n",
    "* **Perbedaan Jumlah Pelanggan yang Signifikan**: Terdapat perbedaan yang cukup signifikan antara jumlah pelanggan di São Paulo dengan negara bagian lainnya. Ini menunjukkan adanya ketimpangan distribusi pelanggan yang perlu diperhatikan.\n",
    "\n",
    "\n",
    "Analisis Demografi Pelanggan Berdasarkan 10 Kota Teratas\n",
    "\n",
    "* **Konsentrasi Pelanggan Tertinggi**: Sebagian besar pelanggan Anda terkonsentrasi di Sao Paulo. Ini menunjukkan bahwa pasar di Sao Paulo sangat responsif terhadap produk atau layanan yang Anda tawarkan.\n",
    "* **Pasar Potensial Lainnya:** Selain Sao Paulo, beberapa kota besar lainnya seperti Rio de Janeiro, Belo Horizonte, dan Curitiba juga memiliki jumlah pelanggan yang cukup signifikan. Ini mengindikasikan adanya potensi pasar yang cukup besar di wilayah-wilayah tersebut.\n",
    "* **Perbedaan Jumlah Pelanggan yang Signifikan:** Terdapat perbedaan yang cukup signifikan antara jumlah pelanggan di Sao Paulo dengan kota-kota lainnya. Ini menunjukkan adanya ketimpangan distribusi pelanggan yang perlu diperhatikan."
   ]
  },
  {
   "cell_type": "markdown",
   "metadata": {
    "id": "dv9noiYiFUGK"
   },
   "source": []
  },
  {
   "cell_type": "code",
   "execution_count": 55,
   "metadata": {
    "id": "TSePh_NPWkb5"
   },
   "outputs": [],
   "source": [
    "\n",
    "df = pd.merge(orders_df, customers_df, on='customer_id')\n",
    "\n",
    "df = pd.merge(df, payments_df[['order_id', 'payment_value']], on='order_id')\n",
    "\n",
    "df['order_purchase_timestamp'] = pd.to_datetime(df['order_purchase_timestamp'])\n",
    "latest_date = df['order_purchase_timestamp'].max()\n",
    "df['recency'] = (latest_date - df['order_purchase_timestamp']).dt.days\n",
    "\n",
    "\n",
    "frequency_df = df.groupby('customer_unique_id').agg({'order_id': 'nunique'}).reset_index()\n",
    "frequency_df.columns = ['customer_unique_id', 'frequency']\n",
    "\n",
    "\n",
    "monetary_df = df.groupby('customer_unique_id').agg({'payment_value': 'sum'}).reset_index()\n",
    "monetary_df.columns = ['customer_unique_id', 'monetary']\n",
    "\n",
    "\n",
    "rfm_df = df[['customer_unique_id', 'recency']]\n",
    "rfm_df = rfm_df.merge(frequency_df, on='customer_unique_id')\n",
    "rfm_df = rfm_df.merge(monetary_df, on='customer_unique_id')\n",
    "\n"
   ]
  },
  {
   "cell_type": "markdown",
   "metadata": {
    "id": "rGJdc1gOQ96s"
   },
   "source": []
  },
  {
   "cell_type": "markdown",
   "metadata": {
    "id": "BAEPQyEnjPqO"
   },
   "source": [
    "\n",
    "### 4. Kapan terakhir pelanggan melakukan transaksi?\n",
    "\n",
    "### 5. Seberapa sering seorang pelanggan melakukan pembelian dalam beberapa bulan terakhir?\n",
    "### 6.Berapa banyak uang yang dihabiskan pelanggan dalam beberapa bulan terakhir?\n"
   ]
  },
  {
   "cell_type": "markdown",
   "metadata": {
    "id": "dvaAwFP2jSK6"
   },
   "source": []
  },
  {
   "cell_type": "code",
   "execution_count": 56,
   "metadata": {
    "colab": {
     "base_uri": "https://localhost:8080/",
     "height": 285
    },
    "id": "NVW8uUk7IJtd",
    "outputId": "c9149e7d-420b-4513-faaa-7fc2739ee83d"
   },
   "outputs": [
    {
     "name": "stderr",
     "output_type": "stream",
     "text": [
      "C:\\Users\\haldies\\AppData\\Local\\Temp\\ipykernel_30452\\1381924013.py:10: UserWarning: The palette list has more values (5) than needed (1), which may not be intended.\n",
      "  sns.barplot(y=\"frequency\", x=\"short_customer_id\", data=rfm_df.sort_values(by=\"frequency\", ascending=False).head(5), palette=colors, ax=ax[1])\n",
      "C:\\Users\\haldies\\AppData\\Local\\Temp\\ipykernel_30452\\1381924013.py:14: UserWarning: The palette list has more values (5) than needed (4), which may not be intended.\n",
      "  sns.barplot(y=\"monetary\", x=\"short_customer_id\", data=rfm_df.sort_values(by=\"monetary\", ascending=False).head(5), palette=colors, ax=ax[2])\n"
     ]
    },
    {
     "data": {
      "image/png": "[encoded data removed]",
      "text/plain": [
       "<Figure size 3000x600 with 3 Axes>"
      ]
     },
     "metadata": {},
     "output_type": "display_data"
    }
   ],
   "source": [
    "colors = [\"#00FFFF\", \"#8A2BE2\", \"#7FFF00\", \"#FF7F50\", \"#DC143C\"]\n",
    "rfm_df['short_customer_id'] = rfm_df['customer_unique_id'].str[:5]\n",
    "\n",
    "fig, ax = plt.subplots(nrows=1, ncols=3, figsize=(30, 6))\n",
    "\n",
    "sns.barplot(y=\"recency\", x=\"short_customer_id\", data=rfm_df.sort_values(by=\"recency\", ascending=True).head(5), palette=colors, ax=ax[0])\n",
    "ax[0].set_title(\"By Recency (days)\", loc=\"center\", fontsize=18)\n",
    "ax[0].tick_params(axis='x', labelsize=15)\n",
    "\n",
    "sns.barplot(y=\"frequency\", x=\"short_customer_id\", data=rfm_df.sort_values(by=\"frequency\", ascending=False).head(5), palette=colors, ax=ax[1])\n",
    "ax[1].set_title(\"By Frequency\", loc=\"center\", fontsize=18)\n",
    "ax[1].tick_params(axis='x', labelsize=15)\n",
    "\n",
    "sns.barplot(y=\"monetary\", x=\"short_customer_id\", data=rfm_df.sort_values(by=\"monetary\", ascending=False).head(5), palette=colors, ax=ax[2])\n",
    "ax[2].set_title(\"By Monetary\", loc=\"center\", fontsize=18)\n",
    "ax[2].tick_params(axis='x', labelsize=15)\n",
    "\n",
    "plt.suptitle(\"Best Customer Based on RFM Parameters (customer_id)\", fontsize=20)\n",
    "plt.show()\n"
   ]
  },
  {
   "cell_type": "markdown",
   "metadata": {
    "id": "G_O7uWa-IBFi"
   },
   "source": [
    "### Mengurutkan customer berdasarkan recency, frequency, & monetary score"
   ]
  },
  {
   "cell_type": "code",
   "execution_count": 57,
   "metadata": {
    "id": "kFRDe4V7FfEr"
   },
   "outputs": [
    {
     "data": {
      "text/html": [
       "<div>\n",
       "<style scoped>\n",
       "    .dataframe tbody tr th:only-of-type {\n",
       "        vertical-align: middle;\n",
       "    }\n",
       "\n",
       "    .dataframe tbody tr th {\n",
       "        vertical-align: top;\n",
       "    }\n",
       "\n",
       "    .dataframe thead th {\n",
       "        text-align: right;\n",
       "    }\n",
       "</style>\n",
       "<table border=\"1\" class=\"dataframe\">\n",
       "  <thead>\n",
       "    <tr style=\"text-align: right;\">\n",
       "      <th></th>\n",
       "      <th>customer_unique_id</th>\n",
       "      <th>recency</th>\n",
       "      <th>frequency</th>\n",
       "      <th>monetary</th>\n",
       "      <th>short_customer_id</th>\n",
       "      <th>r_rank</th>\n",
       "      <th>f_rank</th>\n",
       "      <th>m_rank</th>\n",
       "    </tr>\n",
       "  </thead>\n",
       "  <tbody>\n",
       "    <tr>\n",
       "      <th>0</th>\n",
       "      <td>7c396fd4830fd04220f754e42b4e5bff</td>\n",
       "      <td>331</td>\n",
       "      <td>2</td>\n",
       "      <td>82.82</td>\n",
       "      <td>7c396</td>\n",
       "      <td>28111.5</td>\n",
       "      <td>97194.0</td>\n",
       "      <td>36717.5</td>\n",
       "    </tr>\n",
       "    <tr>\n",
       "      <th>1</th>\n",
       "      <td>7c396fd4830fd04220f754e42b4e5bff</td>\n",
       "      <td>331</td>\n",
       "      <td>2</td>\n",
       "      <td>82.82</td>\n",
       "      <td>7c396</td>\n",
       "      <td>28111.5</td>\n",
       "      <td>97194.0</td>\n",
       "      <td>36717.5</td>\n",
       "    </tr>\n",
       "    <tr>\n",
       "      <th>2</th>\n",
       "      <td>7c396fd4830fd04220f754e42b4e5bff</td>\n",
       "      <td>331</td>\n",
       "      <td>2</td>\n",
       "      <td>82.82</td>\n",
       "      <td>7c396</td>\n",
       "      <td>28111.5</td>\n",
       "      <td>97194.0</td>\n",
       "      <td>36717.5</td>\n",
       "    </tr>\n",
       "    <tr>\n",
       "      <th>3</th>\n",
       "      <td>af07308b275d755c9edb36a90c618231</td>\n",
       "      <td>35</td>\n",
       "      <td>1</td>\n",
       "      <td>141.46</td>\n",
       "      <td>af073</td>\n",
       "      <td>92500.5</td>\n",
       "      <td>47234.5</td>\n",
       "      <td>62471.5</td>\n",
       "    </tr>\n",
       "    <tr>\n",
       "      <th>4</th>\n",
       "      <td>3a653a41f6f9fc3d2a113cf8398680e8</td>\n",
       "      <td>21</td>\n",
       "      <td>1</td>\n",
       "      <td>179.12</td>\n",
       "      <td>3a653</td>\n",
       "      <td>96374.0</td>\n",
       "      <td>47234.5</td>\n",
       "      <td>73606.5</td>\n",
       "    </tr>\n",
       "  </tbody>\n",
       "</table>\n",
       "</div>"
      ],
      "text/plain": [
       "                 customer_unique_id  recency  frequency  monetary  \\\n",
       "0  7c396fd4830fd04220f754e42b4e5bff      331          2     82.82   \n",
       "1  7c396fd4830fd04220f754e42b4e5bff      331          2     82.82   \n",
       "2  7c396fd4830fd04220f754e42b4e5bff      331          2     82.82   \n",
       "3  af07308b275d755c9edb36a90c618231       35          1    141.46   \n",
       "4  3a653a41f6f9fc3d2a113cf8398680e8       21          1    179.12   \n",
       "\n",
       "  short_customer_id   r_rank   f_rank   m_rank  \n",
       "0             7c396  28111.5  97194.0  36717.5  \n",
       "1             7c396  28111.5  97194.0  36717.5  \n",
       "2             7c396  28111.5  97194.0  36717.5  \n",
       "3             af073  92500.5  47234.5  62471.5  \n",
       "4             3a653  96374.0  47234.5  73606.5  "
      ]
     },
     "execution_count": 57,
     "metadata": {},
     "output_type": "execute_result"
    }
   ],
   "source": [
    "rfm_df['r_rank'] = rfm_df['recency'].rank(ascending=False)\n",
    "rfm_df['f_rank'] = rfm_df['frequency'].rank(ascending=True)\n",
    "rfm_df['m_rank'] = rfm_df['monetary'].rank(ascending=True)\n",
    "\n",
    "rfm_df.head()\n"
   ]
  },
  {
   "cell_type": "code",
   "execution_count": 58,
   "metadata": {
    "id": "CJX54ANzFw0-"
   },
   "outputs": [
    {
     "data": {
      "text/html": [
       "<div>\n",
       "<style scoped>\n",
       "    .dataframe tbody tr th:only-of-type {\n",
       "        vertical-align: middle;\n",
       "    }\n",
       "\n",
       "    .dataframe tbody tr th {\n",
       "        vertical-align: top;\n",
       "    }\n",
       "\n",
       "    .dataframe thead th {\n",
       "        text-align: right;\n",
       "    }\n",
       "</style>\n",
       "<table border=\"1\" class=\"dataframe\">\n",
       "  <thead>\n",
       "    <tr style=\"text-align: right;\">\n",
       "      <th></th>\n",
       "      <th>customer_unique_id</th>\n",
       "      <th>recency</th>\n",
       "      <th>frequency</th>\n",
       "      <th>monetary</th>\n",
       "      <th>short_customer_id</th>\n",
       "      <th>r_rank_norm</th>\n",
       "      <th>f_rank_norm</th>\n",
       "      <th>m_rank_norm</th>\n",
       "    </tr>\n",
       "  </thead>\n",
       "  <tbody>\n",
       "    <tr>\n",
       "      <th>0</th>\n",
       "      <td>7c396fd4830fd04220f754e42b4e5bff</td>\n",
       "      <td>331</td>\n",
       "      <td>2</td>\n",
       "      <td>82.82</td>\n",
       "      <td>7c396</td>\n",
       "      <td>27.909436</td>\n",
       "      <td>96.487710</td>\n",
       "      <td>36.448148</td>\n",
       "    </tr>\n",
       "    <tr>\n",
       "      <th>1</th>\n",
       "      <td>7c396fd4830fd04220f754e42b4e5bff</td>\n",
       "      <td>331</td>\n",
       "      <td>2</td>\n",
       "      <td>82.82</td>\n",
       "      <td>7c396</td>\n",
       "      <td>27.909436</td>\n",
       "      <td>96.487710</td>\n",
       "      <td>36.448148</td>\n",
       "    </tr>\n",
       "    <tr>\n",
       "      <th>2</th>\n",
       "      <td>7c396fd4830fd04220f754e42b4e5bff</td>\n",
       "      <td>331</td>\n",
       "      <td>2</td>\n",
       "      <td>82.82</td>\n",
       "      <td>7c396</td>\n",
       "      <td>27.909436</td>\n",
       "      <td>96.487710</td>\n",
       "      <td>36.448148</td>\n",
       "    </tr>\n",
       "    <tr>\n",
       "      <th>3</th>\n",
       "      <td>af07308b275d755c9edb36a90c618231</td>\n",
       "      <td>35</td>\n",
       "      <td>1</td>\n",
       "      <td>141.46</td>\n",
       "      <td>af073</td>\n",
       "      <td>91.835610</td>\n",
       "      <td>46.891256</td>\n",
       "      <td>62.013222</td>\n",
       "    </tr>\n",
       "    <tr>\n",
       "      <th>4</th>\n",
       "      <td>3a653a41f6f9fc3d2a113cf8398680e8</td>\n",
       "      <td>21</td>\n",
       "      <td>1</td>\n",
       "      <td>179.12</td>\n",
       "      <td>3a653</td>\n",
       "      <td>95.681268</td>\n",
       "      <td>46.891256</td>\n",
       "      <td>73.066538</td>\n",
       "    </tr>\n",
       "  </tbody>\n",
       "</table>\n",
       "</div>"
      ],
      "text/plain": [
       "                 customer_unique_id  recency  frequency  monetary  \\\n",
       "0  7c396fd4830fd04220f754e42b4e5bff      331          2     82.82   \n",
       "1  7c396fd4830fd04220f754e42b4e5bff      331          2     82.82   \n",
       "2  7c396fd4830fd04220f754e42b4e5bff      331          2     82.82   \n",
       "3  af07308b275d755c9edb36a90c618231       35          1    141.46   \n",
       "4  3a653a41f6f9fc3d2a113cf8398680e8       21          1    179.12   \n",
       "\n",
       "  short_customer_id  r_rank_norm  f_rank_norm  m_rank_norm  \n",
       "0             7c396    27.909436    96.487710    36.448148  \n",
       "1             7c396    27.909436    96.487710    36.448148  \n",
       "2             7c396    27.909436    96.487710    36.448148  \n",
       "3             af073    91.835610    46.891256    62.013222  \n",
       "4             3a653    95.681268    46.891256    73.066538  "
      ]
     },
     "execution_count": 58,
     "metadata": {},
     "output_type": "execute_result"
    }
   ],
   "source": [
    "# normalizing the rank of the customers\n",
    "rfm_df['r_rank_norm'] = (rfm_df['r_rank']/rfm_df['r_rank'].max())*100\n",
    "rfm_df['f_rank_norm'] = (rfm_df['f_rank']/rfm_df['f_rank'].max())*100\n",
    "rfm_df['m_rank_norm'] = (rfm_df['m_rank']/rfm_df['m_rank'].max())*100\n",
    "\n",
    "rfm_df.drop(columns=['r_rank', 'f_rank', 'm_rank'], inplace=True)\n",
    "\n",
    "rfm_df.head()"
   ]
  },
  {
   "cell_type": "code",
   "execution_count": 59,
   "metadata": {
    "id": "UCV2W-ftF0hO"
   },
   "outputs": [
    {
     "data": {
      "text/html": [
       "<div>\n",
       "<style scoped>\n",
       "    .dataframe tbody tr th:only-of-type {\n",
       "        vertical-align: middle;\n",
       "    }\n",
       "\n",
       "    .dataframe tbody tr th {\n",
       "        vertical-align: top;\n",
       "    }\n",
       "\n",
       "    .dataframe thead th {\n",
       "        text-align: right;\n",
       "    }\n",
       "</style>\n",
       "<table border=\"1\" class=\"dataframe\">\n",
       "  <thead>\n",
       "    <tr style=\"text-align: right;\">\n",
       "      <th></th>\n",
       "      <th>recency</th>\n",
       "      <th>frequency</th>\n",
       "      <th>monetary</th>\n",
       "      <th>r_rank_norm</th>\n",
       "      <th>f_rank_norm</th>\n",
       "      <th>m_rank_norm</th>\n",
       "    </tr>\n",
       "  </thead>\n",
       "  <tbody>\n",
       "    <tr>\n",
       "      <th>count</th>\n",
       "      <td>100739.000000</td>\n",
       "      <td>100739.000000</td>\n",
       "      <td>100739.000000</td>\n",
       "      <td>100739.000000</td>\n",
       "      <td>100739.000000</td>\n",
       "      <td>100739.000000</td>\n",
       "    </tr>\n",
       "    <tr>\n",
       "      <th>mean</th>\n",
       "      <td>240.495905</td>\n",
       "      <td>1.076574</td>\n",
       "      <td>170.936654</td>\n",
       "      <td>50.007942</td>\n",
       "      <td>50.003971</td>\n",
       "      <td>50.000496</td>\n",
       "    </tr>\n",
       "    <tr>\n",
       "      <th>std</th>\n",
       "      <td>153.211715</td>\n",
       "      <td>0.373316</td>\n",
       "      <td>233.571791</td>\n",
       "      <td>28.871873</td>\n",
       "      <td>12.084199</td>\n",
       "      <td>28.867656</td>\n",
       "    </tr>\n",
       "    <tr>\n",
       "      <th>min</th>\n",
       "      <td>0.000000</td>\n",
       "      <td>1.000000</td>\n",
       "      <td>9.590000</td>\n",
       "      <td>0.000993</td>\n",
       "      <td>46.891256</td>\n",
       "      <td>0.001489</td>\n",
       "    </tr>\n",
       "    <tr>\n",
       "      <th>25%</th>\n",
       "      <td>116.000000</td>\n",
       "      <td>1.000000</td>\n",
       "      <td>64.030000</td>\n",
       "      <td>24.945892</td>\n",
       "      <td>46.891256</td>\n",
       "      <td>25.002233</td>\n",
       "    </tr>\n",
       "    <tr>\n",
       "      <th>50%</th>\n",
       "      <td>222.000000</td>\n",
       "      <td>1.000000</td>\n",
       "      <td>110.700000</td>\n",
       "      <td>50.000000</td>\n",
       "      <td>46.891256</td>\n",
       "      <td>49.998511</td>\n",
       "    </tr>\n",
       "    <tr>\n",
       "      <th>75%</th>\n",
       "      <td>351.000000</td>\n",
       "      <td>1.000000</td>\n",
       "      <td>188.935000</td>\n",
       "      <td>75.078929</td>\n",
       "      <td>46.891256</td>\n",
       "      <td>75.005708</td>\n",
       "    </tr>\n",
       "    <tr>\n",
       "      <th>max</th>\n",
       "      <td>695.000000</td>\n",
       "      <td>15.000000</td>\n",
       "      <td>13664.080000</td>\n",
       "      <td>100.000000</td>\n",
       "      <td>100.000000</td>\n",
       "      <td>100.000000</td>\n",
       "    </tr>\n",
       "  </tbody>\n",
       "</table>\n",
       "</div>"
      ],
      "text/plain": [
       "             recency      frequency       monetary    r_rank_norm  \\\n",
       "count  100739.000000  100739.000000  100739.000000  100739.000000   \n",
       "mean      240.495905       1.076574     170.936654      50.007942   \n",
       "std       153.211715       0.373316     233.571791      28.871873   \n",
       "min         0.000000       1.000000       9.590000       0.000993   \n",
       "25%       116.000000       1.000000      64.030000      24.945892   \n",
       "50%       222.000000       1.000000     110.700000      50.000000   \n",
       "75%       351.000000       1.000000     188.935000      75.078929   \n",
       "max       695.000000      15.000000   13664.080000     100.000000   \n",
       "\n",
       "         f_rank_norm    m_rank_norm  \n",
       "count  100739.000000  100739.000000  \n",
       "mean       50.003971      50.000496  \n",
       "std        12.084199      28.867656  \n",
       "min        46.891256       0.001489  \n",
       "25%        46.891256      25.002233  \n",
       "50%        46.891256      49.998511  \n",
       "75%        46.891256      75.005708  \n",
       "max       100.000000     100.000000  "
      ]
     },
     "execution_count": 59,
     "metadata": {},
     "output_type": "execute_result"
    }
   ],
   "source": [
    "rfm_df.describe()"
   ]
  },
  {
   "cell_type": "code",
   "execution_count": 60,
   "metadata": {
    "id": "TnkE2m1jGrA3"
   },
   "outputs": [
    {
     "data": {
      "text/html": [
       "<div>\n",
       "<style scoped>\n",
       "    .dataframe tbody tr th:only-of-type {\n",
       "        vertical-align: middle;\n",
       "    }\n",
       "\n",
       "    .dataframe tbody tr th {\n",
       "        vertical-align: top;\n",
       "    }\n",
       "\n",
       "    .dataframe thead th {\n",
       "        text-align: right;\n",
       "    }\n",
       "</style>\n",
       "<table border=\"1\" class=\"dataframe\">\n",
       "  <thead>\n",
       "    <tr style=\"text-align: right;\">\n",
       "      <th></th>\n",
       "      <th>customer_unique_id</th>\n",
       "      <th>recency</th>\n",
       "      <th>frequency</th>\n",
       "      <th>monetary</th>\n",
       "      <th>short_customer_id</th>\n",
       "      <th>r_rank_norm</th>\n",
       "      <th>f_rank_norm</th>\n",
       "      <th>m_rank_norm</th>\n",
       "    </tr>\n",
       "  </thead>\n",
       "  <tbody>\n",
       "    <tr>\n",
       "      <th>77984</th>\n",
       "      <td>36a5c01d940c382346247b3e6c485c2d</td>\n",
       "      <td>0</td>\n",
       "      <td>1</td>\n",
       "      <td>38.36</td>\n",
       "      <td>36a5c</td>\n",
       "      <td>100.0</td>\n",
       "      <td>46.891256</td>\n",
       "      <td>8.710132</td>\n",
       "    </tr>\n",
       "    <tr>\n",
       "      <th>17516</th>\n",
       "      <td>fb7e29c65321441231990afc201c1b14</td>\n",
       "      <td>0</td>\n",
       "      <td>2</td>\n",
       "      <td>314.34</td>\n",
       "      <td>fb7e2</td>\n",
       "      <td>100.0</td>\n",
       "      <td>96.487710</td>\n",
       "      <td>88.903503</td>\n",
       "    </tr>\n",
       "    <tr>\n",
       "      <th>100666</th>\n",
       "      <td>7a22d14aa3c3599238509ddca4b93b01</td>\n",
       "      <td>0</td>\n",
       "      <td>1</td>\n",
       "      <td>73.10</td>\n",
       "      <td>7a22d</td>\n",
       "      <td>100.0</td>\n",
       "      <td>46.891256</td>\n",
       "      <td>31.054011</td>\n",
       "    </tr>\n",
       "    <tr>\n",
       "      <th>41972</th>\n",
       "      <td>77367b6fbb034ca710d4f41aad009151</td>\n",
       "      <td>0</td>\n",
       "      <td>1</td>\n",
       "      <td>67.58</td>\n",
       "      <td>77367</td>\n",
       "      <td>100.0</td>\n",
       "      <td>46.891256</td>\n",
       "      <td>27.594576</td>\n",
       "    </tr>\n",
       "    <tr>\n",
       "      <th>89524</th>\n",
       "      <td>0c6d7218d5f3fa14514fd29865269993</td>\n",
       "      <td>0</td>\n",
       "      <td>1</td>\n",
       "      <td>178.25</td>\n",
       "      <td>0c6d7</td>\n",
       "      <td>100.0</td>\n",
       "      <td>46.891256</td>\n",
       "      <td>72.844181</td>\n",
       "    </tr>\n",
       "  </tbody>\n",
       "</table>\n",
       "</div>"
      ],
      "text/plain": [
       "                      customer_unique_id  recency  frequency  monetary  \\\n",
       "77984   36a5c01d940c382346247b3e6c485c2d        0          1     38.36   \n",
       "17516   fb7e29c65321441231990afc201c1b14        0          2    314.34   \n",
       "100666  7a22d14aa3c3599238509ddca4b93b01        0          1     73.10   \n",
       "41972   77367b6fbb034ca710d4f41aad009151        0          1     67.58   \n",
       "89524   0c6d7218d5f3fa14514fd29865269993        0          1    178.25   \n",
       "\n",
       "       short_customer_id  r_rank_norm  f_rank_norm  m_rank_norm  \n",
       "77984              36a5c        100.0    46.891256     8.710132  \n",
       "17516              fb7e2        100.0    96.487710    88.903503  \n",
       "100666             7a22d        100.0    46.891256    31.054011  \n",
       "41972              77367        100.0    46.891256    27.594576  \n",
       "89524              0c6d7        100.0    46.891256    72.844181  "
      ]
     },
     "execution_count": 60,
     "metadata": {},
     "output_type": "execute_result"
    }
   ],
   "source": [
    "\n",
    "rfm_df.sort_values(by=\"recency\", ascending=True).head(5)"
   ]
  },
  {
   "cell_type": "code",
   "execution_count": 61,
   "metadata": {
    "id": "bdgqH00FHQa-"
   },
   "outputs": [
    {
     "data": {
      "text/html": [
       "<div>\n",
       "<style scoped>\n",
       "    .dataframe tbody tr th:only-of-type {\n",
       "        vertical-align: middle;\n",
       "    }\n",
       "\n",
       "    .dataframe tbody tr th {\n",
       "        vertical-align: top;\n",
       "    }\n",
       "\n",
       "    .dataframe thead th {\n",
       "        text-align: right;\n",
       "    }\n",
       "</style>\n",
       "<table border=\"1\" class=\"dataframe\">\n",
       "  <thead>\n",
       "    <tr style=\"text-align: right;\">\n",
       "      <th></th>\n",
       "      <th>customer_unique_id</th>\n",
       "      <th>RFM_score</th>\n",
       "    </tr>\n",
       "  </thead>\n",
       "  <tbody>\n",
       "    <tr>\n",
       "      <th>0</th>\n",
       "      <td>7c396fd4830fd04220f754e42b4e5bff</td>\n",
       "      <td>2.60</td>\n",
       "    </tr>\n",
       "    <tr>\n",
       "      <th>1</th>\n",
       "      <td>7c396fd4830fd04220f754e42b4e5bff</td>\n",
       "      <td>2.60</td>\n",
       "    </tr>\n",
       "    <tr>\n",
       "      <th>2</th>\n",
       "      <td>7c396fd4830fd04220f754e42b4e5bff</td>\n",
       "      <td>2.60</td>\n",
       "    </tr>\n",
       "    <tr>\n",
       "      <th>3</th>\n",
       "      <td>af07308b275d755c9edb36a90c618231</td>\n",
       "      <td>3.11</td>\n",
       "    </tr>\n",
       "    <tr>\n",
       "      <th>4</th>\n",
       "      <td>3a653a41f6f9fc3d2a113cf8398680e8</td>\n",
       "      <td>3.46</td>\n",
       "    </tr>\n",
       "    <tr>\n",
       "      <th>5</th>\n",
       "      <td>7c142cf63193a1473d2e66489a9ae977</td>\n",
       "      <td>1.79</td>\n",
       "    </tr>\n",
       "    <tr>\n",
       "      <th>6</th>\n",
       "      <td>72632f0f9dd73dfee390c9b22eb56dd6</td>\n",
       "      <td>1.16</td>\n",
       "    </tr>\n",
       "  </tbody>\n",
       "</table>\n",
       "</div>"
      ],
      "text/plain": [
       "                 customer_unique_id  RFM_score\n",
       "0  7c396fd4830fd04220f754e42b4e5bff       2.60\n",
       "1  7c396fd4830fd04220f754e42b4e5bff       2.60\n",
       "2  7c396fd4830fd04220f754e42b4e5bff       2.60\n",
       "3  af07308b275d755c9edb36a90c618231       3.11\n",
       "4  3a653a41f6f9fc3d2a113cf8398680e8       3.46\n",
       "5  7c142cf63193a1473d2e66489a9ae977       1.79\n",
       "6  72632f0f9dd73dfee390c9b22eb56dd6       1.16"
      ]
     },
     "execution_count": 61,
     "metadata": {},
     "output_type": "execute_result"
    }
   ],
   "source": [
    "rfm_df['RFM_score'] = 0.15*rfm_df['r_rank_norm']+0.28 * \\\n",
    "    rfm_df['f_rank_norm']+0.57*rfm_df['m_rank_norm']\n",
    "rfm_df['RFM_score'] *= 0.05\n",
    "rfm_df = rfm_df.round(2)\n",
    "rfm_df[['customer_unique_id', 'RFM_score']].head(7)"
   ]
  },
  {
   "cell_type": "markdown",
   "metadata": {
    "id": "Lre7itRHI3ak"
   },
   "source": [
    "### Segmentasi customer berdasarkan RFM_score"
   ]
  },
  {
   "cell_type": "code",
   "execution_count": 62,
   "metadata": {
    "id": "_-L8q6SrHEKI"
   },
   "outputs": [
    {
     "data": {
      "text/html": [
       "<div>\n",
       "<style scoped>\n",
       "    .dataframe tbody tr th:only-of-type {\n",
       "        vertical-align: middle;\n",
       "    }\n",
       "\n",
       "    .dataframe tbody tr th {\n",
       "        vertical-align: top;\n",
       "    }\n",
       "\n",
       "    .dataframe thead th {\n",
       "        text-align: right;\n",
       "    }\n",
       "</style>\n",
       "<table border=\"1\" class=\"dataframe\">\n",
       "  <thead>\n",
       "    <tr style=\"text-align: right;\">\n",
       "      <th></th>\n",
       "      <th>customer_unique_id</th>\n",
       "      <th>RFM_score</th>\n",
       "      <th>customer_segment</th>\n",
       "    </tr>\n",
       "  </thead>\n",
       "  <tbody>\n",
       "    <tr>\n",
       "      <th>0</th>\n",
       "      <td>7c396fd4830fd04220f754e42b4e5bff</td>\n",
       "      <td>2.60</td>\n",
       "      <td>Low value customers</td>\n",
       "    </tr>\n",
       "    <tr>\n",
       "      <th>1</th>\n",
       "      <td>7c396fd4830fd04220f754e42b4e5bff</td>\n",
       "      <td>2.60</td>\n",
       "      <td>Low value customers</td>\n",
       "    </tr>\n",
       "    <tr>\n",
       "      <th>2</th>\n",
       "      <td>7c396fd4830fd04220f754e42b4e5bff</td>\n",
       "      <td>2.60</td>\n",
       "      <td>Low value customers</td>\n",
       "    </tr>\n",
       "    <tr>\n",
       "      <th>3</th>\n",
       "      <td>af07308b275d755c9edb36a90c618231</td>\n",
       "      <td>3.11</td>\n",
       "      <td>Medium value customer</td>\n",
       "    </tr>\n",
       "    <tr>\n",
       "      <th>4</th>\n",
       "      <td>3a653a41f6f9fc3d2a113cf8398680e8</td>\n",
       "      <td>3.46</td>\n",
       "      <td>Medium value customer</td>\n",
       "    </tr>\n",
       "    <tr>\n",
       "      <th>5</th>\n",
       "      <td>7c142cf63193a1473d2e66489a9ae977</td>\n",
       "      <td>1.79</td>\n",
       "      <td>Low value customers</td>\n",
       "    </tr>\n",
       "    <tr>\n",
       "      <th>6</th>\n",
       "      <td>72632f0f9dd73dfee390c9b22eb56dd6</td>\n",
       "      <td>1.16</td>\n",
       "      <td>lost customers</td>\n",
       "    </tr>\n",
       "    <tr>\n",
       "      <th>7</th>\n",
       "      <td>80bb27c7c16e8f973207a5086ab329e2</td>\n",
       "      <td>2.83</td>\n",
       "      <td>Low value customers</td>\n",
       "    </tr>\n",
       "    <tr>\n",
       "      <th>8</th>\n",
       "      <td>932afa1e708222e5821dac9cd5db4cae</td>\n",
       "      <td>1.65</td>\n",
       "      <td>Low value customers</td>\n",
       "    </tr>\n",
       "    <tr>\n",
       "      <th>9</th>\n",
       "      <td>39382392765b6dc74812866ee5ee92a7</td>\n",
       "      <td>0.86</td>\n",
       "      <td>lost customers</td>\n",
       "    </tr>\n",
       "    <tr>\n",
       "      <th>10</th>\n",
       "      <td>299905e3934e9e181bfb2e164dd4b4f8</td>\n",
       "      <td>2.81</td>\n",
       "      <td>Low value customers</td>\n",
       "    </tr>\n",
       "    <tr>\n",
       "      <th>11</th>\n",
       "      <td>299905e3934e9e181bfb2e164dd4b4f8</td>\n",
       "      <td>2.81</td>\n",
       "      <td>Low value customers</td>\n",
       "    </tr>\n",
       "    <tr>\n",
       "      <th>12</th>\n",
       "      <td>f2a85dec752b8517b5e58a06ff3cd937</td>\n",
       "      <td>3.16</td>\n",
       "      <td>Medium value customer</td>\n",
       "    </tr>\n",
       "    <tr>\n",
       "      <th>13</th>\n",
       "      <td>782987b81c92239d922aa49d6bd4200b</td>\n",
       "      <td>2.25</td>\n",
       "      <td>Low value customers</td>\n",
       "    </tr>\n",
       "    <tr>\n",
       "      <th>14</th>\n",
       "      <td>e97109680b052ee858d93a539597bba7</td>\n",
       "      <td>1.73</td>\n",
       "      <td>Low value customers</td>\n",
       "    </tr>\n",
       "    <tr>\n",
       "      <th>15</th>\n",
       "      <td>e2dfa3127fedbbca9707b36304996dab</td>\n",
       "      <td>1.49</td>\n",
       "      <td>lost customers</td>\n",
       "    </tr>\n",
       "    <tr>\n",
       "      <th>16</th>\n",
       "      <td>04cf8185c71090d28baa4407b2e6d600</td>\n",
       "      <td>1.64</td>\n",
       "      <td>Low value customers</td>\n",
       "    </tr>\n",
       "    <tr>\n",
       "      <th>17</th>\n",
       "      <td>ccafc1c3f270410521c3c6f3b249870f</td>\n",
       "      <td>4.21</td>\n",
       "      <td>High value customer</td>\n",
       "    </tr>\n",
       "    <tr>\n",
       "      <th>18</th>\n",
       "      <td>6e26bbeaa107ec34112c64e1ee31c0f5</td>\n",
       "      <td>4.53</td>\n",
       "      <td>Top customers</td>\n",
       "    </tr>\n",
       "    <tr>\n",
       "      <th>19</th>\n",
       "      <td>6087cfc70fd833cf2db637a5e6e9d76b</td>\n",
       "      <td>1.32</td>\n",
       "      <td>lost customers</td>\n",
       "    </tr>\n",
       "  </tbody>\n",
       "</table>\n",
       "</div>"
      ],
      "text/plain": [
       "                  customer_unique_id  RFM_score       customer_segment\n",
       "0   7c396fd4830fd04220f754e42b4e5bff       2.60    Low value customers\n",
       "1   7c396fd4830fd04220f754e42b4e5bff       2.60    Low value customers\n",
       "2   7c396fd4830fd04220f754e42b4e5bff       2.60    Low value customers\n",
       "3   af07308b275d755c9edb36a90c618231       3.11  Medium value customer\n",
       "4   3a653a41f6f9fc3d2a113cf8398680e8       3.46  Medium value customer\n",
       "5   7c142cf63193a1473d2e66489a9ae977       1.79    Low value customers\n",
       "6   72632f0f9dd73dfee390c9b22eb56dd6       1.16         lost customers\n",
       "7   80bb27c7c16e8f973207a5086ab329e2       2.83    Low value customers\n",
       "8   932afa1e708222e5821dac9cd5db4cae       1.65    Low value customers\n",
       "9   39382392765b6dc74812866ee5ee92a7       0.86         lost customers\n",
       "10  299905e3934e9e181bfb2e164dd4b4f8       2.81    Low value customers\n",
       "11  299905e3934e9e181bfb2e164dd4b4f8       2.81    Low value customers\n",
       "12  f2a85dec752b8517b5e58a06ff3cd937       3.16  Medium value customer\n",
       "13  782987b81c92239d922aa49d6bd4200b       2.25    Low value customers\n",
       "14  e97109680b052ee858d93a539597bba7       1.73    Low value customers\n",
       "15  e2dfa3127fedbbca9707b36304996dab       1.49         lost customers\n",
       "16  04cf8185c71090d28baa4407b2e6d600       1.64    Low value customers\n",
       "17  ccafc1c3f270410521c3c6f3b249870f       4.21    High value customer\n",
       "18  6e26bbeaa107ec34112c64e1ee31c0f5       4.53          Top customers\n",
       "19  6087cfc70fd833cf2db637a5e6e9d76b       1.32         lost customers"
      ]
     },
     "execution_count": 62,
     "metadata": {},
     "output_type": "execute_result"
    }
   ],
   "source": [
    "import numpy as np # imports the numpy library and assigns it to the variable np\n",
    "\n",
    "rfm_df[\"customer_segment\"] = np.where(\n",
    "    rfm_df['RFM_score'] > 4.5, \"Top customers\", (np.where(\n",
    "        rfm_df['RFM_score'] > 4, \"High value customer\",(np.where(\n",
    "            rfm_df['RFM_score'] > 3, \"Medium value customer\", np.where(\n",
    "                rfm_df['RFM_score'] > 1.6, 'Low value customers', 'lost customers'))))))\n",
    "\n",
    "rfm_df[['customer_unique_id', 'RFM_score', 'customer_segment']].head(20)"
   ]
  },
  {
   "cell_type": "code",
   "execution_count": 63,
   "metadata": {
    "id": "7n82UXKVHazV"
   },
   "outputs": [
    {
     "data": {
      "text/html": [
       "<div>\n",
       "<style scoped>\n",
       "    .dataframe tbody tr th:only-of-type {\n",
       "        vertical-align: middle;\n",
       "    }\n",
       "\n",
       "    .dataframe tbody tr th {\n",
       "        vertical-align: top;\n",
       "    }\n",
       "\n",
       "    .dataframe thead th {\n",
       "        text-align: right;\n",
       "    }\n",
       "</style>\n",
       "<table border=\"1\" class=\"dataframe\">\n",
       "  <thead>\n",
       "    <tr style=\"text-align: right;\">\n",
       "      <th></th>\n",
       "      <th>customer_segment</th>\n",
       "      <th>customer_unique_id</th>\n",
       "    </tr>\n",
       "  </thead>\n",
       "  <tbody>\n",
       "    <tr>\n",
       "      <th>0</th>\n",
       "      <td>High value customer</td>\n",
       "      <td>2493</td>\n",
       "    </tr>\n",
       "    <tr>\n",
       "      <th>1</th>\n",
       "      <td>Low value customers</td>\n",
       "      <td>45602</td>\n",
       "    </tr>\n",
       "    <tr>\n",
       "      <th>2</th>\n",
       "      <td>Medium value customer</td>\n",
       "      <td>26208</td>\n",
       "    </tr>\n",
       "    <tr>\n",
       "      <th>3</th>\n",
       "      <td>Top customers</td>\n",
       "      <td>438</td>\n",
       "    </tr>\n",
       "    <tr>\n",
       "      <th>4</th>\n",
       "      <td>lost customers</td>\n",
       "      <td>19145</td>\n",
       "    </tr>\n",
       "  </tbody>\n",
       "</table>\n",
       "</div>"
      ],
      "text/plain": [
       "        customer_segment  customer_unique_id\n",
       "0    High value customer                2493\n",
       "1    Low value customers               45602\n",
       "2  Medium value customer               26208\n",
       "3          Top customers                 438\n",
       "4         lost customers               19145"
      ]
     },
     "execution_count": 63,
     "metadata": {},
     "output_type": "execute_result"
    }
   ],
   "source": [
    "customer_segment_df = rfm_df.groupby(by=\"customer_segment\", as_index=False).customer_unique_id.nunique()\n",
    "customer_segment_df"
   ]
  },
  {
   "cell_type": "code",
   "execution_count": 64,
   "metadata": {
    "id": "9F3xDepVHv6W"
   },
   "outputs": [],
   "source": [
    "customer_segment_df['customer_segment'] = pd.Categorical(customer_segment_df['customer_segment'], [\n",
    "    \"lost customers\", \"Low value customers\", \"Medium value customer\",\n",
    "    \"High value customer\", \"Top customers\"\n",
    "])"
   ]
  },
  {
   "cell_type": "code",
   "execution_count": 65,
   "metadata": {
    "id": "JFNf4Ka3Hx62"
   },
   "outputs": [
    {
     "data": {
      "image/png": "[encoded data removed]",
      "text/plain": [
       "<Figure size 1000x500 with 1 Axes>"
      ]
     },
     "metadata": {},
     "output_type": "display_data"
    }
   ],
   "source": [
    "plt.figure(figsize=(10, 5))\n",
    "colors_ = [\"#72BCD4\", \"#72BCD4\", \"#D3D3D3\", \"#D3D3D3\", \"#D3D3D3\"]\n",
    "\n",
    "sns.barplot(\n",
    "    x=\"customer_unique_id\",\n",
    "    y=\"customer_segment\",\n",
    "    data=customer_segment_df.sort_values(by=\"customer_segment\", ascending=False),\n",
    "    palette=colors_\n",
    ")\n",
    "plt.title(\"Number of Customer for Each Segment\", loc=\"center\", fontsize=15)\n",
    "plt.ylabel(None)\n",
    "plt.xlabel(None)\n",
    "plt.tick_params(axis='y', labelsize=12)\n",
    "plt.show()"
   ]
  },
  {
   "cell_type": "markdown",
   "metadata": {
    "id": "9y4VUsmcYNZ5"
   },
   "source": [
    "## Analisis Lanjutan (Opsional)"
   ]
  },
  {
   "cell_type": "markdown",
   "metadata": {
    "id": "_WeHlCeX8DC2"
   },
   "source": [
    "## Conclusion"
   ]
  },
  {
   "cell_type": "markdown",
   "metadata": {
    "id": "nOmZTQGHhOcB"
   },
   "source": [
    "### pertanyaan 1"
   ]
  },
  {
   "cell_type": "markdown",
   "metadata": {
    "id": "ZTcyR48Y8DC2"
   },
   "source": [
    "Dari analisis grafik di atas bahwa\n",
    "* Produk rumah tangga masih menjadi primadona dan memiliki pangsa pasar yang besar.\n",
    "* Produk yang berkaitan dengan gaya hidup modern seperti kesehatan, teknologi, dan dekorasi juga sangat diminati.\n",
    "* Produk-produk tradisional seperti CD, DVD, dan pakaian anak-anak mengalami penurunan penjualan.\n",
    "* Produk seperti keamanan dan layanan masih perlu upaya lebih untuk meningkatkan penjualan."
   ]
  }
 ],
 "metadata": {
  "colab": {
   "collapsed_sections": [
    "apX4kk2TAgo-",
    "pIbaVeSjAmYe",
    "vhvnxLMMAr1l",
    "71NUiQ6KAv_b",
    "0MybDl_rA5S9",
    "ECZO3crDBFOG",
    "AKhYoGPP9h9j",
    "D4oYleoN97s_",
    "QpiCO6ev-Tbr",
    "gfN8zWBc740t",
    "nO2FWe3yEqgb",
    "H_f6rVoZGkhm",
    "icBeOlfSDrxB",
    "dZqMjWg2D8GO",
    "Aw-pu_Ogd9lv",
    "G_O7uWa-IBFi",
    "Lre7itRHI3ak"
   ],
   "provenance": []
  },
  "kernelspec": {
   "display_name": "Python 3 (ipykernel)",
   "language": "python",
   "name": "python3"
  },
  "language_info": {
   "codemirror_mode": {
    "name": "ipython",
    "version": 3
   },
   "file_extension": ".py",
   "mimetype": "text/x-python",
   "name": "python",
   "nbconvert_exporter": "python",
   "pygments_lexer": "ipython3",
   "version": "3.11.5"
  },
  "vscode": {
   "interpreter": {
    "hash": "972b3bf27e332e87b5379f2791f6ef9dfc79c71018c370b0d7423235e20fe4d7"
   }
  }
 },
 "nbformat": 4,
 "nbformat_minor": 4
}
